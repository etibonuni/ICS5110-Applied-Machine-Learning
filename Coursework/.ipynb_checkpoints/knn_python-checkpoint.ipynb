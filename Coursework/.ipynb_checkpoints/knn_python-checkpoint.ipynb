{
 "cells": [
  {
   "cell_type": "code",
   "execution_count": null,
   "metadata": {
    "collapsed": true
   },
   "outputs": [],
   "source": []
  },
  {
   "cell_type": "markdown",
   "metadata": {},
   "source": [
    "# kNN implementation in  python \n"
   ]
  },
  {
   "cell_type": "markdown",
   "metadata": {},
   "source": [
    "We first import two useful libraries\n",
    "1. numpy (matrix algebra):  we use np as a shortcut\n",
    "2. plyplot from matplotlib: useful for plotting charts: we use plt as a shortcut\n",
    "3. use tab and shift+tab for help"
   ]
  },
  {
   "cell_type": "code",
   "execution_count": 1,
   "metadata": {
    "collapsed": true
   },
   "outputs": [],
   "source": [
    "import numpy as np\n",
    "import matplotlib.pyplot as plt"
   ]
  },
  {
   "cell_type": "code",
   "execution_count": 2,
   "metadata": {
    "collapsed": true
   },
   "outputs": [],
   "source": [
    "# this line plots graphs in line\n",
    "%matplotlib inline"
   ]
  },
  {
   "cell_type": "markdown",
   "metadata": {},
   "source": [
    "### First we generate a dataset"
   ]
  },
  {
   "cell_type": "code",
   "execution_count": 3,
   "metadata": {},
   "outputs": [
    {
     "name": "stdout",
     "output_type": "stream",
     "text": [
      "[[ 0.53047874  0.62488869]\n",
      " [ 0.37454284  0.50649656]\n",
      " [ 0.73576817  0.73777585]]\n"
     ]
    }
   ],
   "source": [
    "# randomly\n",
    "# C_g is the array for centroids\n",
    "# \n",
    "M_g = 3\n",
    "np.random.seed(3)\n",
    "C_g = np.random.rand(M_g,2)*.6+0.2\n",
    "print C_g"
   ]
  },
  {
   "cell_type": "code",
   "execution_count": 4,
   "metadata": {
    "collapsed": true
   },
   "outputs": [],
   "source": [
    "# we can also fix the centroids on a diagonal\n",
    "C_g=np.array([[.25,.25],\n",
    "             [.5,.5],\n",
    "             [.75,.75]])"
   ]
  },
  {
   "cell_type": "code",
   "execution_count": 5,
   "metadata": {
    "collapsed": true
   },
   "outputs": [],
   "source": [
    "# we can also choose the centroids arbitarily\n",
    "C_g=np.array([[.25,.25],\n",
    "             [.75,.5],\n",
    "             [.45,.75]])"
   ]
  },
  {
   "cell_type": "code",
   "execution_count": 6,
   "metadata": {},
   "outputs": [
    {
     "name": "stdout",
     "output_type": "stream",
     "text": [
      "[[ 0.47292225  0.28550744  0.        ]\n",
      " [ 0.90584282  0.59476163  1.        ]\n",
      " [ 0.22682397  0.5154441   0.        ]\n",
      " [ 0.70792148  0.39611779  2.        ]\n",
      " [ 0.38102308  1.04861067  2.        ]\n",
      " [ 0.58567927  0.47015232  2.        ]\n",
      " [ 0.38114286  0.05596951  0.        ]\n",
      " [ 0.34647449  0.28736301  0.        ]\n",
      " [ 0.25750505  0.18929839  0.        ]\n",
      " [ 0.1114312   0.09641864  0.        ]\n",
      " [ 0.67041268  0.390421    1.        ]\n",
      " [ 0.20496909  0.5737224   0.        ]\n",
      " [ 0.39735512  0.08483986  0.        ]\n",
      " [ 0.54248668  0.62435528  2.        ]\n",
      " [ 0.34211156  0.12431316  0.        ]\n",
      " [ 0.16050255  0.16171084  0.        ]\n",
      " [ 0.65273837  0.38938027  1.        ]\n",
      " [-0.18736066  0.10422392  0.        ]\n",
      " [ 0.36429766  0.78986806  2.        ]\n",
      " [ 0.75036662  0.56369536  1.        ]\n",
      " [ 0.56686471  0.50894231  1.        ]\n",
      " [ 0.35254239  0.99470744  2.        ]\n",
      " [ 0.81686714  0.38259364  1.        ]\n",
      " [ 0.07224302  0.21915252  0.        ]\n",
      " [ 0.728907    0.64956326  1.        ]\n",
      " [ 0.66172476  0.26801663  1.        ]\n",
      " [ 0.0472337   0.75276312  2.        ]\n",
      " [ 0.93502066  0.52234796  1.        ]\n",
      " [ 0.61419796  0.84595385  2.        ]\n",
      " [ 0.61402579  0.51326228  1.        ]\n",
      " [ 0.73571436  0.42092183  1.        ]\n",
      " [ 0.44544097  0.35588373  1.        ]\n",
      " [ 0.05292029  0.38269336  0.        ]\n",
      " [ 0.29554357  0.59546871  2.        ]\n",
      " [ 0.73083569  0.5372252   1.        ]\n",
      " [ 0.34378674  0.225923    0.        ]\n",
      " [ 0.61341143  0.7535883   2.        ]\n",
      " [ 0.16379374  0.23358185  0.        ]\n",
      " [ 0.49239905  0.74292646  2.        ]\n",
      " [ 0.53903822  1.06063178  2.        ]\n",
      " [ 0.74720584  0.57252932  1.        ]\n",
      " [ 0.71081393  0.305293    1.        ]\n",
      " [ 0.46120917  0.65576238  2.        ]\n",
      " [ 0.6482681   0.56396526  1.        ]\n",
      " [ 0.09643223  0.14305102  0.        ]\n",
      " [ 0.00650718  0.34700132  0.        ]\n",
      " [ 0.56465451  0.47888203  1.        ]\n",
      " [ 0.41622812  0.4179086   0.        ]\n",
      " [ 0.5543226   0.76206861  2.        ]\n",
      " [ 0.39764469  0.78792376  2.        ]\n",
      " [ 0.27294186  0.09037071  0.        ]\n",
      " [ 0.41439938  0.88280095  2.        ]\n",
      " [ 0.72478649  0.78639152  1.        ]\n",
      " [ 0.83380698  0.4282453   1.        ]\n",
      " [ 0.76920117  0.68624248  1.        ]\n",
      " [ 0.73059585  0.25663082  1.        ]\n",
      " [ 0.24342727  0.1784173   0.        ]\n",
      " [ 0.52700129  0.71129404  1.        ]\n",
      " [ 0.47313147  0.0822549   0.        ]\n",
      " [ 0.31318636  0.72659124  2.        ]\n",
      " [ 0.8467593   0.54695906  1.        ]\n",
      " [ 0.31569199  0.54084677  0.        ]\n",
      " [ 0.56534477  0.95493643  2.        ]\n",
      " [ 0.59694611  0.54058901  1.        ]\n",
      " [ 0.58941218  0.5556305   1.        ]\n",
      " [ 0.28308283  0.50410556  2.        ]\n",
      " [ 0.87942481  0.4027352   1.        ]\n",
      " [ 0.35814234  0.95999482  2.        ]\n",
      " [ 0.87537659  0.57381784  1.        ]\n",
      " [ 0.61558825  1.03226325  2.        ]\n",
      " [ 0.6306128   0.51091183  1.        ]\n",
      " [ 0.04063547  0.45874944  0.        ]\n",
      " [ 0.64118498  0.49475849  1.        ]\n",
      " [ 0.50896879  0.71379228  2.        ]\n",
      " [ 0.85678895  0.84412108  2.        ]\n",
      " [ 1.15141687  0.48931715  1.        ]\n",
      " [ 0.7017623   0.52266956  1.        ]\n",
      " [ 0.16819601  0.0180284   0.        ]\n",
      " [ 0.84717447  0.41594399  1.        ]\n",
      " [ 0.6465059   0.57296217  1.        ]\n",
      " [ 0.37687501 -0.02913343  0.        ]\n",
      " [ 0.42025646  1.11863814  2.        ]\n",
      " [ 0.50823756  0.69193092  2.        ]\n",
      " [ 0.53429275  0.70592681  2.        ]\n",
      " [ 0.36191695  1.03662403  2.        ]\n",
      " [ 0.24638433  0.11670139  0.        ]\n",
      " [ 0.32256825  0.35143246  0.        ]\n",
      " [ 1.00941261  0.60410784  1.        ]\n",
      " [ 0.67250281  0.47163925  1.        ]\n",
      " [ 0.47002456  0.55661082  2.        ]\n",
      " [ 0.40197752  0.37791968  0.        ]\n",
      " [ 0.62208972  0.73346563  2.        ]\n",
      " [ 0.61046975  0.77497793  2.        ]\n",
      " [ 0.35773372  0.59067658  2.        ]\n",
      " [ 0.13467455  0.21549539  0.        ]\n",
      " [ 0.87178176  0.78779927  2.        ]\n",
      " [ 0.11891766  0.25445707  0.        ]\n",
      " [ 0.23758878  0.1559499   0.        ]\n",
      " [ 0.49313365  0.93961286  2.        ]\n",
      " [ 0.61008233  0.8462131   2.        ]\n",
      " [ 0.72587278  1.09737879  2.        ]\n",
      " [ 0.6875703   0.60869865  1.        ]\n",
      " [ 0.36175844  0.54641662  0.        ]\n",
      " [ 0.40722213  0.45006067  0.        ]\n",
      " [ 0.62486402  0.70174887  1.        ]\n",
      " [ 0.35186074  0.12168442  0.        ]\n",
      " [ 0.41875749  0.74775402  2.        ]\n",
      " [ 0.35418137  0.65183772  2.        ]\n",
      " [ 0.42484521  1.00840038  2.        ]\n",
      " [ 0.10600057  0.30659429  0.        ]\n",
      " [ 0.68536649  0.41895946  1.        ]\n",
      " [ 0.0633815   0.15603746  0.        ]\n",
      " [ 0.87772784  0.5729374   1.        ]\n",
      " [ 0.37867127  0.72513345  2.        ]\n",
      " [ 0.41859669  0.23021287  0.        ]\n",
      " [ 1.04827345  0.67925875  1.        ]\n",
      " [ 0.73838386  0.54141027  1.        ]\n",
      " [ 0.69288577  0.82696395  2.        ]\n",
      " [ 0.44190782  0.94727508  2.        ]\n",
      " [ 0.78386254  0.54305527  1.        ]\n",
      " [ 0.23803886  0.33467283  0.        ]\n",
      " [ 0.64259613  0.60971986  1.        ]\n",
      " [ 0.63699978  0.23838346  1.        ]\n",
      " [ 0.62065373  0.66075259  1.        ]\n",
      " [ 0.20839177  0.19678615  0.        ]\n",
      " [-0.08723867  0.20983572  0.        ]\n",
      " [ 0.67333065  0.48157349  1.        ]\n",
      " [ 0.6712103   0.2486548   1.        ]\n",
      " [ 0.87222218  0.42200124  1.        ]\n",
      " [ 0.73453514  0.56912958  2.        ]\n",
      " [ 0.46833746  0.57639249  2.        ]\n",
      " [ 0.81389501  0.47764793  1.        ]\n",
      " [ 0.67548929  0.88624781  2.        ]\n",
      " [ 0.38219771  0.50643596  0.        ]\n",
      " [ 0.68141088  0.6288926   1.        ]\n",
      " [ 0.04439965  0.28578448  0.        ]\n",
      " [ 0.49492535  0.6840013   2.        ]\n",
      " [ 0.2370193   0.86485816  2.        ]\n",
      " [ 0.27175948  0.42518234  0.        ]\n",
      " [ 0.15956723 -0.03717081  0.        ]\n",
      " [ 0.60981303  0.61914365  2.        ]\n",
      " [ 0.16133819  0.17253739  0.        ]\n",
      " [ 0.50262238  0.99398604  2.        ]\n",
      " [ 0.14879087  0.27259253  0.        ]\n",
      " [ 0.50442052  0.57614453  2.        ]\n",
      " [ 0.40880998  0.81525139  2.        ]\n",
      " [ 0.2203878   0.51619675  0.        ]\n",
      " [ 0.09626037  0.38490077  0.        ]\n",
      " [ 0.19655939 -0.01147116  0.        ]\n",
      " [ 0.12943509 -0.11286248  0.        ]]\n"
     ]
    }
   ],
   "source": [
    "# Generate data set ( M=3, centroid, constant sigma)\n",
    "#\n",
    "sigma=0.15\n",
    "number=50\n",
    "#\n",
    "# storing the centroid index \n",
    "X11=np.concatenate((sigma*np.random.randn(number,2)+C_g[0],np.full((number,1),0.0)),axis=1)\n",
    "X22=np.concatenate((sigma*np.random.randn(number,2)+C_g[1],np.full((number,1),1.0)),axis=1)\n",
    "X33=np.concatenate((sigma*np.random.randn(number,2)+C_g[2],np.full((number,1),2.0)),axis=1)\n",
    "#\n",
    "#X=np.concatenate((X1,X2,X3), axis=0)\n",
    "X=np.concatenate((X11,X22,X33), axis=0)\n",
    "np.random.shuffle(X)\n",
    "print X"
   ]
  },
  {
   "cell_type": "markdown",
   "metadata": {},
   "source": [
    "#### You can improve the above code snippet to generate any arbitrary number (M) of  clusters"
   ]
  },
  {
   "cell_type": "code",
   "execution_count": 7,
   "metadata": {},
   "outputs": [
    {
     "data": {
      "image/png": "[encoded data removed]",
      "text/plain": [
       "<matplotlib.figure.Figure at 0x7f9ab7dc4290>"
      ]
     },
     "metadata": {},
     "output_type": "display_data"
    }
   ],
   "source": [
    "\n",
    "plt.figure()\n",
    "col={0:'bo',1:'go', 2:'co'}\n",
    "for i in range(len(X[:,0])):\n",
    "    plt.plot(X[i,0],X[i,1],col[int(X[i,2])])\n",
    "plt.plot(C_g[:,0],C_g[:,1],'ro')\n",
    "plt.axis([0, 1.0, 0, 1.0])\n",
    "plt.show()"
   ]
  },
  {
   "cell_type": "code",
   "execution_count": 8,
   "metadata": {},
   "outputs": [
    {
     "name": "stdout",
     "output_type": "stream",
     "text": [
      "Split point =  105\n",
      "Train size =  105\n",
      "Test size = 45\n"
     ]
    }
   ],
   "source": [
    "#split data set into train and test\n",
    "split = int((number*M_g)*0.7)\n",
    "print \"Split point = \",split\n",
    "X_train=np.asarray(X[0:split,:])\n",
    "print \"Train size = \",len(X_train[:,0])\n",
    "X_test=np.asarray(X[split:,:])\n",
    "print \"Test size =\",len(X_test[:,0])"
   ]
  },
  {
   "cell_type": "markdown",
   "metadata": {},
   "source": [
    "## kNN starts here"
   ]
  },
  {
   "cell_type": "code",
   "execution_count": 9,
   "metadata": {},
   "outputs": [
    {
     "name": "stdout",
     "output_type": "stream",
     "text": [
      "[ 0.35186074  0.12168442  0.        ]\n",
      "[[ 0.34211156  0.12431316  0.          0.35186074  0.12168442  0.01009736]\n",
      " [ 0.39735512  0.08483986  0.          0.35186074  0.12168442  0.05854281]\n",
      " [ 0.38114286  0.05596951  0.          0.35186074  0.12168442  0.07194368]\n",
      " [ 0.27294186  0.09037071  0.          0.35186074  0.12168442  0.08490429]\n",
      " [ 0.34378674  0.225923    0.          0.35186074  0.12168442  0.1045508 ]\n",
      " [ 0.24638433  0.11670139  0.          0.35186074  0.12168442  0.10559405]\n",
      " [ 0.25750505  0.18929839  0.          0.35186074  0.12168442  0.11608034]\n",
      " [ 0.23758878  0.1559499   0.          0.35186074  0.12168442  0.1192988 ]\n",
      " [ 0.24342727  0.1784173   0.          0.35186074  0.12168442  0.12237825]\n",
      " [ 0.47313147  0.0822549   0.          0.35186074  0.12168442  0.12751971]]\n"
     ]
    }
   ],
   "source": [
    "# find distance from each example in x_train\n",
    "# rank using distance\n",
    "# pick up top k entries\n",
    "# select by majority (use histogram)\n",
    "x_new_index=0\n",
    "x_new=np.full((len(X_train),3),[X_test[x_new_index,0],X_test[x_new_index,1],-1.0])\n",
    "#print x_new\n",
    "x_diff=X_train-x_new\n",
    "#print x_diff\n",
    "x_new[:,2]=np.sqrt(x_diff[:,0]**2.0+x_diff[:,1]**2.0)\n",
    "#print x_new\n",
    "x_rank=np.concatenate((np.copy(X_train),x_new),axis=1)\n",
    "#print x_rank\n",
    "r_index=x_rank[:,5].argsort()\n",
    "#print r_index\n",
    "print X_test[x_new_index,:]\n",
    "print x_rank[r_index,:][0:10,:]"
   ]
  },
  {
   "cell_type": "code",
   "execution_count": 10,
   "metadata": {},
   "outputs": [
    {
     "name": "stdout",
     "output_type": "stream",
     "text": [
      "[ 0.  0.  0.  0.  0.]\n",
      "[5 0 0]\n",
      "0 is the predicted class\n"
     ]
    }
   ],
   "source": [
    "# take majority from k nearest neighbours, if tie pick one at random\n",
    "k=5\n",
    "aa=x_rank[r_index,:][0:k,2]\n",
    "print(aa)\n",
    "hh,bb=np.histogram(aa, [0,1,2,3])\n",
    "print(hh)\n",
    "rr=hh.argsort()\n",
    "print rr[-1], \"is the predicted class\"\n"
   ]
  },
  {
   "cell_type": "code",
   "execution_count": 15,
   "metadata": {},
   "outputs": [],
   "source": [
    "\n",
    "def predict_knn(X_test, X_train, k):\n",
    "    predicted=np.zeros(len(X_test[:,0]))\n",
    "    for x_new_index in range(0, len(X_test[:,0])):\n",
    "    #for x_new_index in range(3,4,1):\n",
    "        x_new=np.full((len(X_train),3),[X_test[x_new_index,0],X_test[x_new_index,1],-1.0])\n",
    "        #print x_new\n",
    "        x_diff=X_train-x_new\n",
    "        #print x_diff\n",
    "        x_new[:,2]=np.sqrt(x_diff[:,0]**2.0+x_diff[:,1]**2.0)\n",
    "        #print x_new\n",
    "        x_rank=np.concatenate((np.copy(X_train),x_new),axis=1)\n",
    "        #print x_rank\n",
    "        r_index=x_rank[:,5].argsort()\n",
    "        #print r_index\n",
    "        #print X_test[x_new_index,:]\n",
    "        #print x_rank[r_index,:][0:10,:]\n",
    "        aa=x_rank[r_index,:][0:k,2]\n",
    "        #print(aa)\n",
    "        hh,bb=np.histogram(aa, [0,1,2,3])\n",
    "        #print(hh)\n",
    "        rr=hh.argsort()\n",
    "        #print rr[-1], \"is the predicted class\"\n",
    "        predicted[x_new_index] = rr[-1]\n",
    "\n",
    "    return predicted\n"
   ]
  },
  {
   "cell_type": "code",
   "execution_count": 16,
   "metadata": {},
   "outputs": [
    {
     "name": "stdout",
     "output_type": "stream",
     "text": [
      "k= 1 -> 88.8888888889\n",
      "k= 2 -> 88.8888888889\n",
      "k= 3 -> 95.5555555556\n",
      "k= 4 -> 93.3333333333\n",
      "k= 5 -> 95.5555555556\n",
      "k= 6 -> 93.3333333333\n",
      "k= 7 -> 91.1111111111\n",
      "k= 8 -> 91.1111111111\n",
      "k= 9 -> 93.3333333333\n",
      "k= 10 -> 95.5555555556\n",
      "k= 11 -> 95.5555555556\n",
      "k= 12 -> 95.5555555556\n",
      "k= 13 -> 95.5555555556\n",
      "k= 14 -> 93.3333333333\n",
      "k= 15 -> 93.3333333333\n",
      "k= 16 -> 91.1111111111\n",
      "k= 17 -> 93.3333333333\n",
      "k= 18 -> 93.3333333333\n",
      "k= 19 -> 93.3333333333\n",
      "k= 20 -> 93.3333333333\n",
      "k= 21 -> 93.3333333333\n",
      "k= 22 -> 93.3333333333\n",
      "k= 23 -> 91.1111111111\n",
      "k= 24 -> 91.1111111111\n",
      "k= 25 -> 93.3333333333\n",
      "k= 26 -> 91.1111111111\n",
      "k= 27 -> 91.1111111111\n",
      "k= 28 -> 91.1111111111\n",
      "k= 29 -> 91.1111111111\n",
      "k= 30 -> 91.1111111111\n",
      "k= 31 -> 91.1111111111\n",
      "k= 32 -> 91.1111111111\n",
      "k= 33 -> 93.3333333333\n",
      "k= 34 -> 91.1111111111\n",
      "k= 35 -> 91.1111111111\n",
      "k= 36 -> 91.1111111111\n",
      "k= 37 -> 91.1111111111\n",
      "k= 38 -> 91.1111111111\n",
      "k= 39 -> 91.1111111111\n",
      "k= 40 -> 91.1111111111\n",
      "k= 41 -> 91.1111111111\n",
      "k= 42 -> 91.1111111111\n",
      "k= 43 -> 91.1111111111\n",
      "k= 44 -> 91.1111111111\n",
      "k= 45 -> 88.8888888889\n",
      "k= 46 -> 88.8888888889\n",
      "k= 47 -> 88.8888888889\n",
      "k= 48 -> 88.8888888889\n",
      "k= 49 -> 88.8888888889\n",
      "k= 50 -> 88.8888888889\n",
      "k= 51 -> 91.1111111111\n",
      "k= 52 -> 88.8888888889\n",
      "k= 53 -> 91.1111111111\n",
      "k= 54 -> 91.1111111111\n",
      "k= 55 -> 88.8888888889\n",
      "k= 56 -> 88.8888888889\n",
      "k= 57 -> 88.8888888889\n",
      "k= 58 -> 88.8888888889\n",
      "k= 59 -> 88.8888888889\n",
      "k= 60 -> 88.8888888889\n",
      "k= 61 -> 88.8888888889\n",
      "k= 62 -> 88.8888888889\n",
      "k= 63 -> 88.8888888889\n",
      "k= 64 -> 88.8888888889\n",
      "k= 65 -> 88.8888888889\n",
      "k= 66 -> 88.8888888889\n",
      "k= 67 -> 88.8888888889\n",
      "k= 68 -> 88.8888888889\n",
      "k= 69 -> 88.8888888889\n",
      "k= 70 -> 88.8888888889\n",
      "k= 71 -> 88.8888888889\n",
      "k= 72 -> 91.1111111111\n",
      "k= 73 -> 88.8888888889\n",
      "k= 74 -> 88.8888888889\n",
      "k= 75 -> 86.6666666667\n",
      "k= 76 -> 86.6666666667\n",
      "k= 77 -> 84.4444444444\n",
      "k= 78 -> 84.4444444444\n",
      "k= 79 -> 86.6666666667\n",
      "k= 80 -> 84.4444444444\n",
      "k= 81 -> 84.4444444444\n",
      "k= 82 -> 82.2222222222\n",
      "k= 83 -> 77.7777777778\n",
      "k= 84 -> 77.7777777778\n",
      "k= 85 -> 73.3333333333\n",
      "k= 86 -> 66.6666666667\n",
      "k= 87 -> 64.4444444444\n",
      "k= 88 -> 62.2222222222\n",
      "k= 89 -> 62.2222222222\n",
      "k= 90 -> 55.5555555556\n",
      "k= 91 -> 55.5555555556\n",
      "k= 92 -> 48.8888888889\n",
      "k= 93 -> 48.8888888889\n",
      "k= 94 -> 46.6666666667\n",
      "k= 95 -> 37.7777777778\n",
      "k= 96 -> 35.5555555556\n",
      "k= 97 -> 35.5555555556\n",
      "k= 98 -> 33.3333333333\n",
      "k= 99 -> 31.1111111111\n",
      "k= 100 -> 31.1111111111\n",
      "k= 101 -> 28.8888888889\n",
      "k= 102 -> 28.8888888889\n",
      "k= 103 -> 28.8888888889\n",
      "k= 104 -> 28.8888888889\n",
      "('Maximum accuracy at k=', 3, '(', 95.555555555555557, ')')\n",
      "[ 1.  1.  1.  1.  1.  1.  1.  1.  1.  1.  1.  1.  1.  1.  1.  1.  1.  1.\n",
      "  1.  1.  1.  1.  1.  1.  1.  1.  1.  1.  1.  1.  1.  1.  1.  1.  1.  1.\n",
      "  1.  1.  1.  1.  1.  1.  1.  1.  1.]\n"
     ]
    }
   ],
   "source": [
    "# loop over all test cases\n",
    "# calculate overall accuracy\n",
    "# calculate accuracy per class\n",
    "\n",
    "maxK=0\n",
    "maxAcc=0\n",
    "for k in (range(1,len(X_train[:,0]))):\n",
    "    predicted=predict_knn(X_test, X_train, k)\n",
    "        \n",
    "    acc = sum(X_test[:,2]==predicted)/.45\n",
    "    \n",
    "    if (acc > maxAcc):\n",
    "        maxAcc = acc\n",
    "        maxK = k\n",
    "        \n",
    "    print \"k=\",k, \"->\",(sum(X_test[:,2]==predicted)/.45)\n",
    "    \n",
    "print(\"Maximum accuracy at k=\", maxK, \"(\",maxAcc,\")\")\n",
    "print(predicted)\n"
   ]
  },
  {
   "cell_type": "code",
   "execution_count": 18,
   "metadata": {},
   "outputs": [
    {
     "name": "stdout",
     "output_type": "stream",
     "text": [
      "[ 0.  2.  2.  2.  0.  1.  0.  1.  2.  0.  1.  1.  2.  2.  1.  0.  1.  1.\n",
      "  1.  0.  0.  1.  1.  1.  1.  2.  1.  2.  0.  1.  0.  2.  2.  0.  0.  1.\n",
      "  0.  2.  0.  2.  2.  0.  0.  0.  0.]\n"
     ]
    }
   ],
   "source": [
    "predicted = predict_knn(X_test, X_train, maxK)\n",
    "\n",
    "print(predicted)"
   ]
  },
  {
   "cell_type": "code",
   "execution_count": 19,
   "metadata": {},
   "outputs": [
    {
     "data": {
      "image/png": "[encoded data removed]",
      "text/plain": [
       "<matplotlib.figure.Figure at 0x7f9ab2fae490>"
      ]
     },
     "metadata": {},
     "output_type": "display_data"
    }
   ],
   "source": [
    "\n",
    "plt.figure()\n",
    "col={0:'bo',1:'go', 2:'co'}\n",
    "for i in range(len(X_test[:,0])):\n",
    "    plt.plot(X_test[i,0],X_test[i,1],col[int(predicted[i])])\n",
    "\n",
    "plt.axis([0, 1.0, 0, 1.0])\n",
    "plt.show()"
   ]
  },
  {
   "cell_type": "code",
   "execution_count": null,
   "metadata": {
    "collapsed": true
   },
   "outputs": [],
   "source": []
  }
 ],
 "metadata": {
  "kernelspec": {
   "display_name": "Python 2",
   "language": "python",
   "name": "python2"
  },
  "language_info": {
   "codemirror_mode": {
    "name": "ipython",
    "version": 2
   },
   "file_extension": ".py",
   "mimetype": "text/x-python",
   "name": "python",
   "nbconvert_exporter": "python",
   "pygments_lexer": "ipython2",
   "version": "2.7.14"
  }
 },
 "nbformat": 4,
 "nbformat_minor": 1
}
