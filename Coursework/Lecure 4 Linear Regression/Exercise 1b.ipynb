{
 "cells": [
  {
   "cell_type": "markdown",
   "metadata": {},
   "source": [
    "# Build a SLR model for the price of a used car (KMs v. Price)"
   ]
  },
  {
   "cell_type": "code",
   "execution_count": 2,
   "metadata": {
    "collapsed": true
   },
   "outputs": [],
   "source": [
    "import numpy as np\n",
    "import pandas as pd\n",
    "import matplotlib.pyplot as plt"
   ]
  },
  {
   "cell_type": "markdown",
   "metadata": {},
   "source": [
    "### Dataset used from:\n",
    "https://github.com/stedy/Machine-Learning-with-R-datasets/blob/master/usedcars.csv"
   ]
  },
  {
   "cell_type": "code",
   "execution_count": 4,
   "metadata": {},
   "outputs": [],
   "source": [
    "df = pd.read_csv(\"usedcars.csv\")"
   ]
  },
  {
   "cell_type": "markdown",
   "metadata": {},
   "source": [
    "### Extract model info so as to only plot regression line on only one single model -> compare apples with apples"
   ]
  },
  {
   "cell_type": "code",
   "execution_count": 24,
   "metadata": {},
   "outputs": [
    {
     "name": "stdout",
     "output_type": "stream",
     "text": [
      "['SEL' 'SE' 'SES']\n"
     ]
    }
   ],
   "source": [
    "print pd.unique(df.model)"
   ]
  },
  {
   "cell_type": "code",
   "execution_count": 25,
   "metadata": {},
   "outputs": [
    {
     "data": {
      "text/html": [
       "<div>\n",
       "<style>\n",
       "    .dataframe thead tr:only-child th {\n",
       "        text-align: right;\n",
       "    }\n",
       "\n",
       "    .dataframe thead th {\n",
       "        text-align: left;\n",
       "    }\n",
       "\n",
       "    .dataframe tbody tr th {\n",
       "        vertical-align: top;\n",
       "    }\n",
       "</style>\n",
       "<table border=\"1\" class=\"dataframe\">\n",
       "  <thead>\n",
       "    <tr style=\"text-align: right;\">\n",
       "      <th></th>\n",
       "      <th>model</th>\n",
       "      <th>counts</th>\n",
       "    </tr>\n",
       "  </thead>\n",
       "  <tbody>\n",
       "    <tr>\n",
       "      <th>0</th>\n",
       "      <td>SE</td>\n",
       "      <td>78</td>\n",
       "    </tr>\n",
       "    <tr>\n",
       "      <th>1</th>\n",
       "      <td>SEL</td>\n",
       "      <td>23</td>\n",
       "    </tr>\n",
       "    <tr>\n",
       "      <th>2</th>\n",
       "      <td>SES</td>\n",
       "      <td>49</td>\n",
       "    </tr>\n",
       "  </tbody>\n",
       "</table>\n",
       "</div>"
      ],
      "text/plain": [
       "  model  counts\n",
       "0    SE      78\n",
       "1   SEL      23\n",
       "2   SES      49"
      ]
     },
     "execution_count": 25,
     "metadata": {},
     "output_type": "execute_result"
    }
   ],
   "source": [
    "models = df[[\"model\"]].groupby([\"model\"]).size().reset_index(name=\"counts\")\n",
    "models"
   ]
  },
  {
   "cell_type": "code",
   "execution_count": 26,
   "metadata": {},
   "outputs": [
    {
     "name": "stdout",
     "output_type": "stream",
     "text": [
      "7.831003 243.729711\n",
      "3.8 21.992\n"
     ]
    }
   ],
   "source": [
    "df[\"price_thousands\"] = df.price/1000\n",
    "df[\"km_thousands\"] = (df.mileage*1.609)/1000\n",
    "\n",
    "# Find limits\n",
    "min_mileage = min(df.km_thousands)\n",
    "max_mileage = max(df.km_thousands)\n",
    "min_price = min(df.price_thousands)\n",
    "max_price = max(df.price_thousands)\n",
    "\n",
    "print min_mileage, max_mileage\n",
    "print min_price,max_price\n"
   ]
  },
  {
   "cell_type": "markdown",
   "metadata": {},
   "source": [
    "### Generate best-fit line using SLR"
   ]
  },
  {
   "cell_type": "code",
   "execution_count": 27,
   "metadata": {
    "collapsed": true
   },
   "outputs": [],
   "source": [
    "def fitLine(data_x, data_y):\n",
    "    sumX = np.sum(data_x)\n",
    "    sumY = np.sum(data_y)\n",
    "    sumXY = np.sum(np.multiply(data_x, data_y))\n",
    "    sumX_2 = np.sum(np.multiply(data_x, data_x))\n",
    "    \n",
    "    n = len(data_x)\n",
    "    \n",
    "    m = (n*sumXY - sumX*sumY) / (n * sumX_2 - (sumX*sumX))\n",
    "    \n",
    "    b = (sumY * sumX_2 - sumXY*sumX) / (n*sumX_2 - (sumX*sumX))\n",
    "    \n",
    "    return (m,b)"
   ]
  },
  {
   "cell_type": "code",
   "execution_count": 28,
   "metadata": {},
   "outputs": [
    {
     "name": "stdout",
     "output_type": "stream",
     "text": [
      "[[ 0.  0.]\n",
      " [ 0.  0.]\n",
      " [ 0.  0.]]\n",
      "0\n",
      "1\n",
      "2\n",
      "[[ -0.04815593  15.80828055]\n",
      " [ -0.07758427  19.38474533]\n",
      " [ -0.06076001  17.49322714]]\n"
     ]
    }
   ],
   "source": [
    "# iterate over all the distinct models\n",
    "fit_models = np.zeros([models.shape[0], 2])\n",
    "print fit_models\n",
    "for i in np.arange(models.shape[0]):\n",
    "    print i\n",
    "    model = models.iloc[i,0]\n",
    "    mileage_prices = df[df.model==model][[\"km_thousands\", \"price_thousands\"]]\n",
    "    \n",
    "    (fit_models[i,0],fit_models[i,1]) = fitLine(mileage_prices.iloc[:,0], mileage_prices.iloc[:,1])\n",
    "\n",
    "    \n",
    "print fit_models"
   ]
  },
  {
   "cell_type": "code",
   "execution_count": 29,
   "metadata": {
    "collapsed": true
   },
   "outputs": [],
   "source": [
    "def abline(slope, intercept):\n",
    "    \"\"\"Plot a line from slope and intercept\"\"\"\n",
    "    axes = plt.gca()\n",
    "    x_vals = np.array(axes.get_xlim())\n",
    "    y_vals = intercept + slope * x_vals\n",
    "\n",
    "    plt.plot(x_vals, y_vals, '--')"
   ]
  },
  {
   "cell_type": "code",
   "execution_count": 30,
   "metadata": {},
   "outputs": [
    {
     "data": {
      "image/png": "[encoded data removed]",
      "text/plain": [
       "<matplotlib.figure.Figure at 0x7f0014f064d0>"
      ]
     },
     "metadata": {},
     "output_type": "display_data"
    },
    {
     "data": {
      "image/png": "[encoded data removed]",
      "text/plain": [
       "<matplotlib.figure.Figure at 0x7f0014fc2d10>"
      ]
     },
     "metadata": {},
     "output_type": "display_data"
    },
    {
     "data": {
      "image/png": "[encoded data removed]",
      "text/plain": [
       "<matplotlib.figure.Figure at 0x7f0014f66650>"
      ]
     },
     "metadata": {},
     "output_type": "display_data"
    }
   ],
   "source": [
    "for i in np.arange(models.shape[0]):\n",
    "    plt.figure()\n",
    "    t = models.iloc[i, 0]\n",
    "\n",
    "    plt.title(\"Model=\"+t)\n",
    "    plt.xlabel(\"Mileage (KM/1000)\")\n",
    "    plt.ylabel(\"Price /1000\")\n",
    "    plt.axis([min_mileage, max_mileage, min_price, max_price])\n",
    "\n",
    "\n",
    "    abline(fit_models[i,0], fit_models[i,1])\n",
    "\n",
    "    plt.plot(df[df.model==models.iloc[i,0]].km_thousands, df[df.model==models.iloc[i,0]].price_thousands,\"ro\")\n",
    "\n",
    "\n",
    "    plt.show()"
   ]
  },
  {
   "cell_type": "code",
   "execution_count": null,
   "metadata": {
    "collapsed": true
   },
   "outputs": [],
   "source": []
  }
 ],
 "metadata": {
  "kernelspec": {
   "display_name": "Python 2",
   "language": "python",
   "name": "python2"
  },
  "language_info": {
   "codemirror_mode": {
    "name": "ipython",
    "version": 2
   },
   "file_extension": ".py",
   "mimetype": "text/x-python",
   "name": "python",
   "nbconvert_exporter": "python",
   "pygments_lexer": "ipython2",
   "version": "2.7.14"
  }
 },
 "nbformat": 4,
 "nbformat_minor": 2
}
