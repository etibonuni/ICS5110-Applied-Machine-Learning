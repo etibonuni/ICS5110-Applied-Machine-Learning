{
 "cells": [
  {
   "cell_type": "markdown",
   "metadata": {},
   "source": [
    "# K-Means Lab"
   ]
  },
  {
   "cell_type": "markdown",
   "metadata": {},
   "source": [
    "# # Init K-Means Environment"
   ]
  },
  {
   "cell_type": "code",
   "execution_count": 21,
   "metadata": {
    "collapsed": true
   },
   "outputs": [],
   "source": [
    "import numpy as np\n",
    "import matplotlib as mp\n",
    "import matplotlib.pyplot as plt\n",
    "import utils"
   ]
  },
  {
   "cell_type": "markdown",
   "metadata": {},
   "source": [
    "### Define the k-Means algorithm"
   ]
  },
  {
   "cell_type": "code",
   "execution_count": 22,
   "metadata": {
    "collapsed": true
   },
   "outputs": [],
   "source": [
    "# Returns (C, gencentroids)\n",
    "# C = array[points.shape[0]] wiht cluster assignments for each point in points\n",
    "# genCentroids = array[numCentroids, points.shape[1]] with the generated centroids\n",
    "def runKMeans(points, numCentroids, maxEpochs):\n",
    "    \n",
    "    # Initialize calculated cluster labels\n",
    "    C = np.zeros(points.shape[0], int)\n",
    "    \n",
    "    # Select initial centroids from points\n",
    "    rcentroids = np.empty([numCentroids, points.shape[1]])\n",
    "    for i in range(0, numCentroids):\n",
    "        cndx = np.trunc(np.random.rand()*C.size).astype(int)\n",
    "        rcentroids[i] = points[cndx]\n",
    "            \n",
    "    for epoch in range(0,maxEpochs):\n",
    "        # Find closest centroid for each point and store label in C\n",
    "        for i in range(0, points.shape[0]):\n",
    "            minDist=99999\n",
    "            minCent=0\n",
    "            for c in range(0, numCentroids):\n",
    "                dist = utils.euclideanDist(points[i,0], points[i,1], rcentroids[c, 0], rcentroids[c,1])\n",
    "\n",
    "                if (dist < minDist):\n",
    "                    minDist=dist\n",
    "                    minCent=c\n",
    "\n",
    "            C[i] = minCent\n",
    "\n",
    "        # Preserve the old centroids for convergence detection\n",
    "        oldrcentroids = np.copy(rcentroids)\n",
    "\n",
    "        # Recalculate centroids\n",
    "        for i in range(0, C.size):\n",
    "            cent = C[i]\n",
    "\n",
    "            # Acculmulate average for every point in a given cluster into a new centroid.\n",
    "            oldVal = rcentroids[cent]\n",
    "            rcentroids[cent] = (oldVal + points[i])/2\n",
    "            \n",
    "        # have we converged to within 0.0000001?\n",
    "        converged=1\n",
    "        for i in range(0, numCentroids):\n",
    "            dist = utils.euclideaanDist2(oldrcentroids[i], rcentroids[i])\n",
    "            if (dist > 0.0000001):\n",
    "                converged=0\n",
    "                break\n",
    "\n",
    "        if (converged==1):\n",
    "            print(\"Converged after \", epoch, \" epochs\")\n",
    "            break;\n",
    "            \n",
    "    return (C, rcentroids)"
   ]
  },
  {
   "cell_type": "markdown",
   "metadata": {},
   "source": [
    "## Generate test data.\n",
    "Generate artificial centroids randomly and then generate points centred around them.\n",
    "These points should then be clustered by the k-Means algorithm."
   ]
  },
  {
   "cell_type": "code",
   "execution_count": 23,
   "metadata": {},
   "outputs": [
    {
     "name": "stdout",
     "output_type": "stream",
     "text": [
      "[[ 0.51768477 -0.26452187]\n",
      " [ 0.49184446  0.737544  ]\n",
      " [ 0.36959449  0.63758491]\n",
      " [ 0.26632508  0.36947822]\n",
      " [ 0.92853543  0.38244882]]\n"
     ]
    }
   ],
   "source": [
    "numCentroids=5\n",
    "dimensions=2\n",
    "sigma=0.1\n",
    "numPoints=30\n",
    "\n",
    "centroids=np.empty([numCentroids, dimensions])\n",
    "\n",
    "# Try to keep centroids around the central area of our graph\n",
    "centroids[:,0] = np.random.normal(0.5, 0.3, numCentroids)\n",
    "centroids[:,1] = np.random.normal(0.5, 0.3, numCentroids)\n",
    "\n",
    "#for nc in range(0, numCentroids):\n",
    "#        centroids[nc] = np.random.rand(dimensions)\n",
    "        \n",
    "#centroid=np.array([[0.3,0.5], [0.7, 0.3]])\n",
    "print(centroids)\n",
    "points = utils.generateTestPoints(centroids, numPoints, sigma)"
   ]
  },
  {
   "cell_type": "code",
   "execution_count": null,
   "metadata": {
    "collapsed": true
   },
   "outputs": [],
   "source": []
  },
  {
   "cell_type": "markdown",
   "metadata": {},
   "source": [
    "## Call the k-Means algorithm to cluster the test points"
   ]
  },
  {
   "cell_type": "code",
   "execution_count": 24,
   "metadata": {},
   "outputs": [
    {
     "name": "stdout",
     "output_type": "stream",
     "text": [
      "Converged after  4  epochs\n",
      "C= [3 4 4 4 4 0 2 0 0 0 3 1 1 1 0 2 2 3 1 3 4 4 4 0 3 3 4 2 1 4 2 1 2 4 1 4 1\n",
      " 4 2 2 0 1 0 1 1 3 1 4 4 2 1 0 0 2 2 2 0 3 1 1 2 2 3 3 2 1 4 4 0 0 2 0 2 3\n",
      " 3 4 3 3 3 0 3 4 3 1 2 3 0 2 0 3 3 3 3 0 1 2 4 1 0 3 1 2 3 1 1 2 4 4 1 4 2\n",
      " 3 0 3 3 3 0 2 1 4 1 1 0 2 0 4 2 0 2 2 1 4 1 0 1 3 4 0 4 1 0 2 2 4 0 3 4 0\n",
      " 4 0]\n",
      "Generated Centroids= [[ 0.90762586  0.38289971]\n",
      " [ 0.50561657 -0.29093781]\n",
      " [ 0.35665631  0.63778225]\n",
      " [ 0.49044198  0.74700433]\n",
      " [ 0.28188019  0.35648871]]\n"
     ]
    }
   ],
   "source": [
    "(C, genCentroids) = runKMeans(points, numCentroids, 1000)\n",
    "print(\"C=\", C)\n",
    "print(\"Generated Centroids=\", genCentroids)"
   ]
  },
  {
   "cell_type": "markdown",
   "metadata": {},
   "source": [
    "## Plot the results visully"
   ]
  },
  {
   "cell_type": "code",
   "execution_count": 25,
   "metadata": {},
   "outputs": [
    {
     "data": {
      "image/png": "[encoded data removed]",
      "text/plain": [
       "<matplotlib.figure.Figure at 0x7f3265efc048>"
      ]
     },
     "metadata": {},
     "output_type": "display_data"
    }
   ],
   "source": [
    "# ASSUMPTION: dimensions==2.\n",
    "\n",
    "plt.figure()\n",
    "\n",
    "colors=('b', 'g', 'r', 'c', 'm', 'y')\n",
    "\n",
    "for i in range(0,numCentroids):\n",
    "    X_i = points[C==i, 0]\n",
    "    Y_i = points[C==i, 1]\n",
    "\n",
    "    plt.plot(X_i, Y_i, colors[i]+\".\")\n",
    "    plt.plot(centroids[i, 0], centroids[i, 1], \"kx\")\n",
    "    plt.plot(genCentroids[i, 0], genCentroids[i,1], colors[i]+\"o\")\n",
    "    \n",
    "plt.axis([0, 1, 0,  1])\n",
    "plt.show()"
   ]
  },
  {
   "cell_type": "code",
   "execution_count": null,
   "metadata": {
    "collapsed": true
   },
   "outputs": [],
   "source": []
  }
 ],
 "metadata": {
  "kernelspec": {
   "display_name": "Python 3.6",
   "language": "python",
   "name": "python36"
  },
  "language_info": {
   "codemirror_mode": {
    "name": "ipython",
    "version": 3
   },
   "file_extension": ".py",
   "mimetype": "text/x-python",
   "name": "python",
   "nbconvert_exporter": "python",
   "pygments_lexer": "ipython3",
   "version": "3.6.0"
  }
 },
 "nbformat": 4,
 "nbformat_minor": 2
}
