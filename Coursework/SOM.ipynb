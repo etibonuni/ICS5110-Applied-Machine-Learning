{
 "cells": [
  {
   "cell_type": "markdown",
   "metadata": {},
   "source": [
    "# Self Organizing MAPs"
   ]
  },
  {
   "cell_type": "code",
   "execution_count": 14,
   "metadata": {
    "collapsed": true
   },
   "outputs": [],
   "source": [
    "import numpy as np\n",
    "import matplotlib as mp\n",
    "import matplotlib.pyplot as plt\n",
    "import utils"
   ]
  },
  {
   "cell_type": "markdown",
   "metadata": {},
   "source": [
    "## The Training Algorithm\n",
    "\n",
    "__Parameters__:\n",
    "_inputs_: matrix of __n__ samples X __j__ features  \n",
    "_weights_: Weights matrix of __c__ clusters X __j__ features. Should be randomly initialized.  \n",
    "_epochs_: Maximun number of epochs to iterate. If weights converge, training will end early.  \n",
    "_initialAlpha_: Initial learning rate  \n",
    "_alphaFunc_: Function reference to calculate learning rate progressively.  \n",
    "&nbsp;&nbsp;&nbsp;&nbsp;&nbsp;&nbsp;__Parameters__:  \n",
    "&nbsp;&nbsp;&nbsp;&nbsp;&nbsp;&nbsp;&nbsp;&nbsp;_initialAlpha_: The initial value of the learning rate\n",
    "&nbsp;&nbsp;&nbsp;&nbsp;&nbsp;&nbsp;&nbsp;&nbsp;_epoch_: The current epoch  \n",
    "&nbsp;&nbsp;&nbsp;&nbsp;&nbsp;&nbsp;&nbsp;&nbsp;_t_: The current iteration\n",
    "_neighbourhoodFunc_: Function returning neighbourhood value progressively. Called at each iteration.  \n",
    "&nbsp;&nbsp;&nbsp;&nbsp;&nbsp;&nbsp;__Parameters__:  \n",
    "&nbsp;&nbsp;&nbsp;&nbsp;&nbsp;&nbsp;&nbsp;&nbsp;_epoch_: The current epoch  \n",
    "&nbsp;&nbsp;&nbsp;&nbsp;&nbsp;&nbsp;&nbsp;&nbsp;_t_: The current iteration  \n",
    "\n"
   ]
  },
  {
   "cell_type": "code",
   "execution_count": 15,
   "metadata": {
    "collapsed": true
   },
   "outputs": [],
   "source": [
    "def trainSOM(inputs, weights, epochs, initialAlpha, alphaFunc, neighbourhoodFunc):\n",
    "\t# Train for <epochs> iterations of the inpput samples\n",
    "\tnumSamples = inputs.shape[0]\n",
    "\tnumClusters = weights.shape[0]\n",
    "\talpha = initialAlpha\n",
    "\t\n",
    "\tfor epoch in range(0, epochs):\n",
    "\t\tconverged=1\n",
    "\t\tfor l in range(0, numSamples):\n",
    "\t\t\tminDist=9999999\n",
    "\t\t\tminClust=0\n",
    "\t\t\t\n",
    "\t\t\tfor m in range(0, numClusters):\n",
    "\t\t\t\tdist = utils.euclideaanDist2(inputs[l], weights[m])\n",
    "\t\t\t\tif (dist < minDist):\n",
    "\t\t\t\t\tminDist = dist\n",
    "\t\t\t\t\tminClust = m\n",
    "\t\t\t\t\t\n",
    "\t\t\t# Found the closest cluster. Use hebbian rule to adjust weights\n",
    "\t\t\t# Adjust neighbourhood first\n",
    "\t\t\tneigh = neighbourhoodFunc(epoch, (epoch * numSamples)+l)\n",
    "\t\t\t\n",
    "\t\t\tfor i in range(minClust-neigh, minClust+neigh+1):\n",
    "\t\t\t\t\tif ( (i>=0) and (i<numClusters) ):\n",
    "\t\t\t\t\t\t#dist = utils.euclideaanDist2(weights[i], inputs[l])\n",
    "\t\t\t\t\t\tdelta = +alpha*((inputs[l]-weights[i]))\n",
    "\t\t\t\t\t\tweights[i] = weights[i] + delta\n",
    "\t\t\t\t\t\tdelta = delta[np.absolute(delta)>0.0001]\n",
    "\t\t\t\t\t\tif (delta.size > 0):\n",
    "\t\t\t\t\t\t\tconverged=0\n",
    "\t\t\t\t\t\t\n",
    "\t\t\t#weights[minClust] = weights[minClust]+alpha*(inputs[l]-weights[minClust])\n",
    "\t\t\t#print (\"Weights (epoch \", epoch, \"): \", weights)\n",
    "\t\t\t\n",
    "\t\talpha = alphaFunc(initialAlpha, epoch, (epoch * numSamples)+l) #adjust learning rate downwards\n",
    "\t\tif (converged==1):\n",
    "\t\t\tprint(\"Converged after \", epoch, \" epochs\")\n",
    "\t\t\tbreak;\n",
    "\t\t\t\n",
    "\treturn weights"
   ]
  },
  {
   "cell_type": "markdown",
   "metadata": {},
   "source": [
    "## The Prediction Function"
   ]
  },
  {
   "cell_type": "code",
   "execution_count": 16,
   "metadata": {
    "collapsed": true
   },
   "outputs": [],
   "source": [
    "def predictSOM(input, weights):\n",
    "\tminDist=9999999\n",
    "\tminClust=0\n",
    "\t\n",
    "\tfor cluster in range(0, weights.shape[0]):\n",
    "\t\tdist = utils.euclideaanDist2(input, weights[cluster])\n",
    "\t\tif (dist < minDist):\n",
    "\t\t\tminDist = dist\n",
    "\t\t\tminClust = cluster\n",
    "\t\t\n",
    "\treturn minClust"
   ]
  },
  {
   "cell_type": "markdown",
   "metadata": {},
   "source": [
    "## Example 1\n",
    "Simple 4-feature input set, 2 clusters with 0 neighbourhood"
   ]
  },
  {
   "cell_type": "code",
   "execution_count": 17,
   "metadata": {},
   "outputs": [
    {
     "name": "stdout",
     "output_type": "stream",
     "text": [
      "('Initial weights: ', array([[ 0.64688093, -0.33572609,  0.05536496,  1.47792504],\n",
      "       [ 0.11238142,  0.69515825,  0.57437245,  0.0140339 ]]))\n",
      "('Trained weights: ', array([[  1.55922287e-04,  -8.09224361e-05,   5.04171885e-01,\n",
      "          1.00011520e+00],\n",
      "       [  9.99786051e-01,   4.95767982e-01,   1.38445055e-04,\n",
      "          3.38268915e-06]]))\n"
     ]
    }
   ],
   "source": [
    "numInputs=4 # 0 .. j=3\n",
    "numClusters=2 # 0 .. m=1\n",
    "numSamples = 4 # 0 .. l=3\n",
    "\n",
    "weights = (np.random.randn(numClusters, numInputs) * 0.5)+0.5\n",
    "\n",
    "\n",
    "inputs = np.array([[1, 1, 0, 0], [0, 0, 0, 1], [0, 0, 1, 1], [1, 0, 0, 0]])\n",
    "\n",
    "epochs=1000\n",
    "alpha=0.6\n",
    "\n",
    "def getAlpha_ex1(initialAlpha, epoch, t):\n",
    "\tif (epoch==0):\n",
    "\t\treturn initialAlpha\n",
    "\t\t\n",
    "\treturn initialAlpha/(2*(epoch))\n",
    "\t\n",
    "def getNeighbourhood_ex1(epoch, t):\n",
    "\treturn 0;\n",
    "\n",
    "print(\"Initial weights: \", weights)\n",
    "weights = trainSOM(inputs, weights, epochs, alpha, getAlpha_ex1, getNeighbourhood_ex1)\n",
    "print(\"Trained weights: \", weights)"
   ]
  },
  {
   "cell_type": "markdown",
   "metadata": {},
   "source": [
    "#### Predictions on test data:"
   ]
  },
  {
   "cell_type": "code",
   "execution_count": 18,
   "metadata": {},
   "outputs": [
    {
     "name": "stdout",
     "output_type": "stream",
     "text": [
      "('Predict sample ', 0, ':')\n",
      "('\\tinput -> ', array([1, 1, 0, 0]))\n",
      "(' Predction: cluster ', 1)\n",
      "\n",
      "('Predict sample ', 1, ':')\n",
      "('\\tinput -> ', array([0, 0, 0, 1]))\n",
      "(' Predction: cluster ', 0)\n",
      "\n",
      "('Predict sample ', 2, ':')\n",
      "('\\tinput -> ', array([0, 0, 1, 1]))\n",
      "(' Predction: cluster ', 0)\n",
      "\n",
      "('Predict sample ', 3, ':')\n",
      "('\\tinput -> ', array([1, 0, 0, 0]))\n",
      "(' Predction: cluster ', 1)\n",
      "\n"
     ]
    }
   ],
   "source": [
    "for l in range(0, numSamples):\n",
    "\tprint(\"Predict sample \", l, \":\")\n",
    "\tprint(\"\tinput -> \", inputs[l])\n",
    "\tprint(\" Predction: cluster \", predictSOM(inputs[l], weights))\n",
    "\tprint(\"\")"
   ]
  },
  {
   "cell_type": "markdown",
   "metadata": {},
   "source": [
    "#### Predictions on unseen data"
   ]
  },
  {
   "cell_type": "code",
   "execution_count": 19,
   "metadata": {},
   "outputs": [
    {
     "name": "stdout",
     "output_type": "stream",
     "text": [
      "('New input ', array([ 0.5,  0.5,  0. ,  0. ]))\n",
      "(' Prediction: cluster ', 1)\n",
      "\n",
      "('New input ', array([ 0.,  1.,  1.,  0.]))\n",
      "(' Prediction: cluster ', 0)\n",
      "\n",
      "('New input ', array([ 0. ,  0. ,  1. ,  0.5]))\n",
      "(' Prediction: cluster ', 0)\n",
      "\n"
     ]
    }
   ],
   "source": [
    "newInputs = np.array([[0.5, 0.5, 0, 0], [0, 1, 1, 0], [0, 0, 1, 0.5]])\n",
    "for l in range(0, newInputs.shape[0]):\n",
    "\tprint(\"New input \", newInputs[l])\n",
    "\tprint(\" Prediction: cluster \", predictSOM(newInputs[l], weights))\n",
    "\tprint(\"\")"
   ]
  },
  {
   "cell_type": "markdown",
   "metadata": {},
   "source": [
    "## Example 2\n",
    "n=6, j=3, c=3, neighbourhood<=1"
   ]
  },
  {
   "cell_type": "code",
   "execution_count": 20,
   "metadata": {},
   "outputs": [
    {
     "name": "stdout",
     "output_type": "stream",
     "text": [
      "('Initial weights: ', array([[ 0.16192871,  0.30719523,  0.51671124],\n",
      "       [ 0.5509806 , -0.00271494,  1.39243285],\n",
      "       [-0.43154645,  1.1392295 , -0.10843864]]))\n",
      "('Trained weights: ', array([[  5.16605166e-01,   1.84501845e-01,   1.84501845e-01],\n",
      "       [  5.93424024e-47,   5.00000000e-01,   1.50000000e+00],\n",
      "       [  1.04736842e+00,   1.33157895e+00,   1.37894737e+00]]))\n"
     ]
    }
   ],
   "source": [
    "numInputs = 3\n",
    "numClusters = 3\n",
    "numSamples = 6\n",
    "\n",
    "def getAlpha_ex2(initialAlpha, epoch, t):\n",
    "\tif ((t>=0) and (t<=5)):\n",
    "\t\treturn 0.6\n",
    "\telif ((t>=6) and (t<=12)):\n",
    "\t\treturn 0.25\n",
    "\t\n",
    "\treturn 0.1\t\t\n",
    "\t\n",
    "def getNeighbourhood_ex2(epoch, t):\n",
    "\tif (epoch==0):\n",
    "\t\treturn 1\n",
    "\t\t\n",
    "\treturn 0\n",
    "\n",
    "weights = (np.random.randn(numClusters, numInputs)*0.5)+0.5\n",
    "#weights = np.array([[.2,.7,.3], [.1,.1,.9], [1,1,1]])\n",
    "\n",
    "inputs = np.array([[1.1, 1.7, 1.8], \n",
    "                 [0, 0, 0],\n",
    "                 [0, 0.5, 1.5],\n",
    "                 [1, 0, 0],\n",
    "                 [0.5, 0.5, 0.5],\n",
    "                 [1, 1, 1]])\n",
    "\n",
    "print(\"Initial weights: \", weights)\n",
    "weights = trainSOM(inputs, weights, epochs, alpha, getAlpha_ex2, getNeighbourhood_ex2)\n",
    "print(\"Trained weights: \", weights)\n"
   ]
  },
  {
   "cell_type": "markdown",
   "metadata": {},
   "source": [
    "#### Predictions on test data"
   ]
  },
  {
   "cell_type": "code",
   "execution_count": 21,
   "metadata": {},
   "outputs": [
    {
     "name": "stdout",
     "output_type": "stream",
     "text": [
      "('Predict sample ', 1, ':')\n",
      "('\\tinput -> ', array([ 1.1,  1.7,  1.8]))\n",
      "(' Predction: cluster ', 2)\n",
      "\n",
      "('Predict sample ', 2, ':')\n",
      "('\\tinput -> ', array([ 0.,  0.,  0.]))\n",
      "(' Predction: cluster ', 0)\n",
      "\n",
      "('Predict sample ', 3, ':')\n",
      "('\\tinput -> ', array([ 0. ,  0.5,  1.5]))\n",
      "(' Predction: cluster ', 1)\n",
      "\n",
      "('Predict sample ', 4, ':')\n",
      "('\\tinput -> ', array([ 1.,  0.,  0.]))\n",
      "(' Predction: cluster ', 0)\n",
      "\n",
      "('Predict sample ', 5, ':')\n",
      "('\\tinput -> ', array([ 0.5,  0.5,  0.5]))\n",
      "(' Predction: cluster ', 0)\n",
      "\n",
      "('Predict sample ', 6, ':')\n",
      "('\\tinput -> ', array([ 1.,  1.,  1.]))\n",
      "(' Predction: cluster ', 2)\n",
      "\n"
     ]
    }
   ],
   "source": [
    "for l in range(0, numSamples):\n",
    "\tprint(\"Predict sample \", (l+1), \":\")\n",
    "\tprint(\"\tinput -> \", inputs[l])\n",
    "\tprint(\" Predction: cluster \", predictSOM(inputs[l], weights))\n",
    "\tprint(\"\")"
   ]
  },
  {
   "cell_type": "markdown",
   "metadata": {},
   "source": [
    "## Example 3\n",
    "2d test points around random centroids"
   ]
  },
  {
   "cell_type": "markdown",
   "metadata": {},
   "source": [
    "#### Generate Centroids"
   ]
  },
  {
   "cell_type": "code",
   "execution_count": 22,
   "metadata": {},
   "outputs": [
    {
     "name": "stdout",
     "output_type": "stream",
     "text": [
      "('Generated Centroids:', array([[ 0.83538445,  0.71641938],\n",
      "       [ 0.54897163,  0.43432528],\n",
      "       [ 0.96419678,  0.27980825],\n",
      "       [ 0.33273982,  0.76215159]]))\n"
     ]
    }
   ],
   "source": [
    "numClusters=4\n",
    "\n",
    "centroid=np.empty([numClusters, 2])\n",
    "\n",
    "for nc in range(0, numClusters):\n",
    "        centroid[nc,:] = np.random.rand(2)\n",
    "\n",
    "        \n",
    "print(\"Generated Centroids:\", centroid)        "
   ]
  },
  {
   "cell_type": "markdown",
   "metadata": {},
   "source": [
    "#### Generate Samples"
   ]
  },
  {
   "cell_type": "code",
   "execution_count": 23,
   "metadata": {
    "collapsed": true
   },
   "outputs": [],
   "source": [
    "numSamples=20\n",
    "inputs = utils.generateTestPoints(centroid, numSamples, 0.1)"
   ]
  },
  {
   "cell_type": "code",
   "execution_count": 24,
   "metadata": {},
   "outputs": [
    {
     "name": "stdout",
     "output_type": "stream",
     "text": [
      "('Initial weights: ', array([[ 0.75336291,  0.23768422],\n",
      "       [ 0.66106777,  0.20398012],\n",
      "       [ 0.70397763,  0.1505711 ],\n",
      "       [ 0.43706878, -0.36217475]]))\n",
      "('Converged after ', 161, ' epochs')\n",
      "('Trained weights: ', array([[ 0.96846911,  0.27724598],\n",
      "       [ 0.84121543,  0.70961634],\n",
      "       [ 0.54830954,  0.43235611],\n",
      "       [ 0.33608563,  0.75861512]]))\n"
     ]
    }
   ],
   "source": [
    "numInputs = 2\n",
    "\n",
    "\n",
    "def getAlpha_ex3(initialAlpha, epoch, t):\n",
    "\tif (epoch==0):\n",
    "\t\treturn initialAlpha\n",
    "\t\t\n",
    "\treturn initialAlpha/(2*(epoch))\n",
    "\n",
    "def getNeighbourhood_ex3(epoch, t):\n",
    "\tif (epoch==0):\n",
    "\t\treturn 2\n",
    "\telif (epoch==1):\n",
    "\t\treturn 1\n",
    "\t\t\n",
    "\treturn 0\n",
    "\n",
    "weights = (np.random.randn(numClusters, numInputs)*0.5)+0.5\n",
    "print(\"Initial weights: \", weights)\n",
    "weights = trainSOM(inputs, weights, epochs, alpha, getAlpha_ex3, getNeighbourhood_ex3)\n",
    "print(\"Trained weights: \", weights)\n",
    "\n"
   ]
  },
  {
   "cell_type": "markdown",
   "metadata": {},
   "source": [
    "#### Cluster Original Inputs"
   ]
  },
  {
   "cell_type": "code",
   "execution_count": 25,
   "metadata": {
    "collapsed": true
   },
   "outputs": [],
   "source": [
    "C=np.empty([inputs.shape[0]])\n",
    "for i in range(0, inputs.shape[0]):\n",
    "\tC[i] = predictSOM(inputs[i], weights)"
   ]
  },
  {
   "cell_type": "markdown",
   "metadata": {},
   "source": [
    "#### Plot Results\n",
    "__Legend__\n",
    "_Color dots_ = Clustered inputs\n",
    "_Large colour blob_ = computed centroid/weight\n",
    "_Black X_ = original centroid\n"
   ]
  },
  {
   "cell_type": "code",
   "execution_count": 27,
   "metadata": {},
   "outputs": [
    {
     "data": {
      "text/plain": [
       "<matplotlib.figure.Figure at 0x7fdaaa59ee10>"
      ]
     },
     "metadata": {},
     "output_type": "display_data"
    },
    {
     "data": {
      "text/plain": [
       "<matplotlib.figure.Figure at 0x7fdaa8135290>"
      ]
     },
     "metadata": {},
     "output_type": "display_data"
    },
    {
     "data": {
      "image/png": "[encoded data removed]",
      "text/plain": [
       "<matplotlib.figure.Figure at 0x7fdaa8135850>"
      ]
     },
     "metadata": {},
     "output_type": "display_data"
    }
   ],
   "source": [
    "plt.figure()\n",
    "\n",
    "colors=('b', 'g', 'r', 'c', 'm', 'y')\n",
    "\n",
    "#plt.plot(X_0, Y_0, \"bo\")\n",
    "for i in range(0,numClusters):\n",
    "\tinput_i = inputs[C==i]\n",
    "\tplt.plot(input_i[:,0], input_i[:,1], colors[i]+\".\")\n",
    "\tplt.plot(weights[i, 0], weights[i, 1], colors[i]+\"o\")\n",
    "\tplt.plot(centroid[i, 0], centroid[i,1], \"kx\")\n",
    "    \n",
    "plt.axis([0, 1, 0,  1])\n",
    "plt.show()\n"
   ]
  },
  {
   "cell_type": "code",
   "execution_count": null,
   "metadata": {
    "collapsed": true
   },
   "outputs": [],
   "source": []
  },
  {
   "cell_type": "code",
   "execution_count": null,
   "metadata": {
    "collapsed": true
   },
   "outputs": [],
   "source": []
  }
 ],
 "metadata": {
  "kernelspec": {
   "display_name": "Python 2",
   "language": "python",
   "name": "python2"
  },
  "language_info": {
   "codemirror_mode": {
    "name": "ipython",
    "version": 2
   },
   "file_extension": ".py",
   "mimetype": "text/x-python",
   "name": "python",
   "nbconvert_exporter": "python",
   "pygments_lexer": "ipython2",
   "version": "2.7.14"
  }
 },
 "nbformat": 4,
 "nbformat_minor": 2
}
