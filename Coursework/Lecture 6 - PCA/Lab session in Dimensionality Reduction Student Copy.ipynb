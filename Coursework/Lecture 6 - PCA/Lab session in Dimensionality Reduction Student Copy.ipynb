{
 "cells": [
  {
   "cell_type": "code",
   "execution_count": null,
   "metadata": {
    "collapsed": true
   },
   "outputs": [],
   "source": []
  },
  {
   "cell_type": "markdown",
   "metadata": {},
   "source": [
    "# Dimensionality reduction and Feature Selection\n"
   ]
  },
  {
   "cell_type": "markdown",
   "metadata": {},
   "source": [
    "We first import three useful libraries\n",
    "1. numpy (matrix algebra):  we use np as a shortcut\n",
    "2. plyplot from matplotlib: useful for plotting charts: we use plt as a shortcut\n",
    "3. sklearn\n",
    "3. use tab and shift+tab for help"
   ]
  },
  {
   "cell_type": "code",
   "execution_count": 85,
   "metadata": {},
   "outputs": [],
   "source": [
    "import numpy as np\n",
    "import matplotlib.pyplot as plt"
   ]
  },
  {
   "cell_type": "code",
   "execution_count": 86,
   "metadata": {
    "collapsed": true
   },
   "outputs": [],
   "source": [
    "# this line plots graphs in line\n",
    "%matplotlib inline"
   ]
  },
  {
   "cell_type": "code",
   "execution_count": null,
   "metadata": {
    "collapsed": true
   },
   "outputs": [],
   "source": []
  },
  {
   "cell_type": "markdown",
   "metadata": {},
   "source": [
    "# Pearson correlation"
   ]
  },
  {
   "cell_type": "code",
   "execution_count": 87,
   "metadata": {},
   "outputs": [],
   "source": [
    "from scipy.stats import pearsonr"
   ]
  },
  {
   "cell_type": "code",
   "execution_count": 88,
   "metadata": {},
   "outputs": [
    {
     "data": {
      "text/plain": [
       "(0.99962228516121843, 0.017498096813278487)"
      ]
     },
     "execution_count": 88,
     "metadata": {},
     "output_type": "execute_result"
    }
   ],
   "source": [
    "# example 1\n",
    "pearsonr([1,2,3],[1,2,3.1])"
   ]
  },
  {
   "cell_type": "code",
   "execution_count": 89,
   "metadata": {},
   "outputs": [
    {
     "data": {
      "text/plain": [
       "(0.90886906843896254, 0.012078855823236475)"
      ]
     },
     "execution_count": 89,
     "metadata": {},
     "output_type": "execute_result"
    }
   ],
   "source": [
    "#example 2\n",
    "pearsonr([1,2,3,4,5,6],[2,4,10,8,10,12])"
   ]
  },
  {
   "cell_type": "code",
   "execution_count": 90,
   "metadata": {},
   "outputs": [
    {
     "data": {
      "text/plain": [
       "(-1.0, 0.0)"
      ]
     },
     "execution_count": 90,
     "metadata": {},
     "output_type": "execute_result"
    }
   ],
   "source": [
    "#example 3\n",
    "pearsonr([1,2,3,4,5,6],[6,5,4,3,2,1])"
   ]
  },
  {
   "cell_type": "code",
   "execution_count": 91,
   "metadata": {},
   "outputs": [
    {
     "data": {
      "text/plain": [
       "(0.0, 1.0)"
      ]
     },
     "execution_count": 91,
     "metadata": {},
     "output_type": "execute_result"
    }
   ],
   "source": [
    "#example 3\n",
    "pearsonr([1,2,3,4,5,6],[1,2,3,3,2,1])"
   ]
  },
  {
   "cell_type": "markdown",
   "metadata": {},
   "source": [
    "## Generating features that are linearly related"
   ]
  },
  {
   "cell_type": "code",
   "execution_count": 92,
   "metadata": {},
   "outputs": [
    {
     "name": "stdout",
     "output_type": "stream",
     "text": [
      "Pearson Coefficient =  (0.97827693247634484, 8.7451296188086333e-69)\n"
     ]
    },
    {
     "data": {
      "image/png": "[encoded data removed]",
      "text/plain": [
       "<matplotlib.figure.Figure at 0x7f365cd08850>"
      ]
     },
     "metadata": {},
     "output_type": "display_data"
    }
   ],
   "source": [
    "# we first produce some data whose scatter plot \n",
    "# exhibits a linear relationship\n",
    "# y = mx + c or y = x\n",
    "N=100\n",
    "y_sigma=0.25   # variance for y feature\n",
    "x_sigma=np.sqrt(5.0)   # variance for X feature\n",
    "#x = (np.random.rand(N)-0.5)*10\n",
    "x = np.random.randn(N)*x_sigma+5   #Gaussian and shift\n",
    "#x = np.arange(0,10,.02)\n",
    "N=len(x)\n",
    "y = np.copy(x)/2.0+np.random.randn(N)*y_sigma # line equation + gaussian noise\n",
    "print 'Pearson Coefficient = ',pearsonr(x,y) \n",
    "fig, ax = plt.subplots()\n",
    "ax.plot(x, y,'k.')\n",
    "ax.set_xlim((-2,12))\n",
    "ax.set_ylim((-2,7))\n",
    "x0,x1 = ax.get_xlim()\n",
    "y0,y1 = ax.get_ylim()\n",
    "ax.set_aspect(1.0)\n",
    "ax.grid(b=True, which='major', linestyle='--')\n",
    "plt.show()"
   ]
  },
  {
   "cell_type": "markdown",
   "metadata": {
    "collapsed": true
   },
   "source": [
    "## generating features that are non-linearly related"
   ]
  },
  {
   "cell_type": "code",
   "execution_count": 93,
   "metadata": {},
   "outputs": [
    {
     "name": "stdout",
     "output_type": "stream",
     "text": [
      "Pearson Coefficient =  (-0.12710341900375532, 0.0018112522281148403)\n"
     ]
    },
    {
     "data": {
      "image/png": "[encoded data removed]",
      "text/plain": [
       "<matplotlib.figure.Figure at 0x7f366001f690>"
      ]
     },
     "metadata": {},
     "output_type": "display_data"
    }
   ],
   "source": [
    "# we first produce some data whose scatter plot lies on a curve\n",
    "# for example y = 0.5x^2 + 0.1x + 1.0\n",
    "N=600\n",
    "y_sigma=0.25\n",
    "x = np.random.randn(N)*x_sigma\n",
    "N=len(x)\n",
    "#\n",
    "y = (0.5*np.square(x) + 0.1*x + 1.) + np.random.randn(N)*y_sigma\n",
    "#\n",
    "print 'Pearson Coefficient = ',pearsonr(x,y) \n",
    "fig, ax = plt.subplots()\n",
    "ax.plot(x, y,'k.')\n",
    "ax.set_xlim((-6,6))\n",
    "ax.set_ylim((0,6))\n",
    "x0,x1 = ax.get_xlim()\n",
    "y0,y1 = ax.get_ylim()\n",
    "ax.set_aspect(1.0)\n",
    "ax.grid(b=True, which='major', linestyle='--')\n",
    "plt.show()"
   ]
  },
  {
   "cell_type": "markdown",
   "metadata": {},
   "source": [
    "# Entropy"
   ]
  },
  {
   "cell_type": "code",
   "execution_count": 94,
   "metadata": {
    "collapsed": true
   },
   "outputs": [],
   "source": [
    "from scipy.stats import entropy\n",
    "from sklearn.metrics import mutual_info_score\n",
    "from sklearn.metrics import normalized_mutual_info_score"
   ]
  },
  {
   "cell_type": "code",
   "execution_count": 95,
   "metadata": {},
   "outputs": [
    {
     "data": {
      "text/plain": [
       "(0.86573013960942458,\n",
       " (array([  7,  16,  41,  80, 130, 144, 103,  51,  19,   9]),\n",
       "  array([-6.81138294, -5.52735062, -4.2433183 , -2.95928598, -1.67525366,\n",
       "         -0.39122134,  0.89281098,  2.1768433 ,  3.46087562,  4.74490794,\n",
       "          6.02894026])))"
      ]
     },
     "execution_count": 95,
     "metadata": {},
     "output_type": "execute_result"
    }
   ],
   "source": [
    "# skip this during lab session (useful for projects)\n",
    "from sklearn.metrics import mutual_info_score\n",
    "from sklearn.metrics import normalized_mutual_info_score\n",
    "\n",
    "def calc_MI(x, y, bins):\n",
    "    prob_xy = np.histogram2d(x, y, bins)\n",
    "    c_xy=prob_xy[0]\n",
    "    Hx = np.histogram(x,bins=prob_xy[1])\n",
    "    Hy = np.histogram(y,bins=prob_xy[2])\n",
    "    mi = mutual_info_score(None, None, contingency=c_xy)\n",
    "    return mi,Hx\n",
    "\n",
    "calc_MI(x,y,10)"
   ]
  },
  {
   "cell_type": "code",
   "execution_count": 96,
   "metadata": {
    "collapsed": true
   },
   "outputs": [],
   "source": [
    "# generate dataset with sklearn built in functions\n",
    "# optional exercise at home"
   ]
  },
  {
   "cell_type": "markdown",
   "metadata": {},
   "source": [
    "# Mutual Information"
   ]
  },
  {
   "cell_type": "markdown",
   "metadata": {},
   "source": [
    "### Compute P(X), H(X)\n",
    "### Compute P(Y), H(y)\n",
    "### Compute P(X,Y)"
   ]
  },
  {
   "cell_type": "code",
   "execution_count": 97,
   "metadata": {},
   "outputs": [
    {
     "name": "stdout",
     "output_type": "stream",
     "text": [
      "N = 600\n",
      "D = 10\n"
     ]
    }
   ],
   "source": [
    "#assume x,y\n",
    "print 'N =',N\n",
    "D=np.int(np.sqrt(N/5.0))\n",
    "print 'D =',D\n",
    "D=10"
   ]
  },
  {
   "cell_type": "code",
   "execution_count": 98,
   "metadata": {},
   "outputs": [
    {
     "name": "stdout",
     "output_type": "stream",
     "text": [
      "[  8  17  42  81 131 145 104  52  20  10]\n",
      "1.0\n",
      "[ 0.01311475  0.02786885  0.06885246  0.13278689  0.2147541   0.23770492\n",
      "  0.1704918   0.0852459   0.03278689  0.01639344]\n"
     ]
    },
    {
     "data": {
      "text/plain": [
       "<Container object of 10 artists>"
      ]
     },
     "execution_count": 98,
     "metadata": {},
     "output_type": "execute_result"
    },
    {
     "data": {
      "image/png": "[encoded data removed]",
      "text/plain": [
       "<matplotlib.figure.Figure at 0x7f365cd19ed0>"
      ]
     },
     "metadata": {},
     "output_type": "display_data"
    }
   ],
   "source": [
    "# find probability distribution for x\n",
    "fc,bn=np.histogram(x, bins=D)\n",
    "fc+=1 # Laplace's smoothing\n",
    "print fc\n",
    "P_x = fc/np.float((fc.sum()))\n",
    "print np.sum(P_x)\n",
    "print P_x\n",
    "\n",
    "plt.bar(bn[:-1],fc)"
   ]
  },
  {
   "cell_type": "code",
   "execution_count": 99,
   "metadata": {},
   "outputs": [
    {
     "name": "stdout",
     "output_type": "stream",
     "text": [
      "[361 118  57  29  15  11   7   5   5   2]\n",
      "1.0\n",
      "[ 0.59180328  0.19344262  0.09344262  0.04754098  0.02459016  0.01803279\n",
      "  0.01147541  0.00819672  0.00819672  0.00327869]\n"
     ]
    },
    {
     "data": {
      "text/plain": [
       "<Container object of 10 artists>"
      ]
     },
     "execution_count": 99,
     "metadata": {},
     "output_type": "execute_result"
    },
    {
     "data": {
      "image/png": "[encoded data removed]",
      "text/plain": [
       "<matplotlib.figure.Figure at 0x7f365d064fd0>"
      ]
     },
     "metadata": {},
     "output_type": "display_data"
    }
   ],
   "source": [
    "# find probability distribution for y\n",
    "fc,bn=np.histogram(y, bins=D)\n",
    "fc+=1 # Laplace's smoothing\n",
    "print fc\n",
    "P_y = fc/np.float((fc.sum()))\n",
    "print np.sum(P_y)\n",
    "print P_y\n",
    "plt.bar(bn[:-1],fc)"
   ]
  },
  {
   "cell_type": "code",
   "execution_count": 100,
   "metadata": {},
   "outputs": [
    {
     "name": "stdout",
     "output_type": "stream",
     "text": [
      "H_x= 2.8446593334\n",
      "H_y= 1.88538740566\n"
     ]
    }
   ],
   "source": [
    "# compute entropy for x and y\n",
    "H_x = entropy(P_x,base=2)\n",
    "print 'H_x=',H_x\n",
    "H_y = entropy(P_y, base=2)\n",
    "print 'H_y=', H_y\n"
   ]
  },
  {
   "cell_type": "code",
   "execution_count": 101,
   "metadata": {},
   "outputs": [
    {
     "name": "stdout",
     "output_type": "stream",
     "text": [
      "[[ 0.00142857  0.00142857  0.00142857  0.00142857  0.00142857  0.00142857\n",
      "   0.00142857  0.00571429  0.00571429  0.00285714]\n",
      " [ 0.00142857  0.00142857  0.00142857  0.00142857  0.01285714  0.01\n",
      "   0.00428571  0.00142857  0.00142857  0.00142857]\n",
      " [ 0.00142857  0.00142857  0.03571429  0.02428571  0.00285714  0.00142857\n",
      "   0.00142857  0.00142857  0.00142857  0.00142857]\n",
      " [ 0.02714286  0.08428571  0.00714286  0.00142857  0.00142857  0.00142857\n",
      "   0.00142857  0.00142857  0.00142857  0.00142857]\n",
      " [ 0.18714286  0.00142857  0.00142857  0.00142857  0.00142857  0.00142857\n",
      "   0.00142857  0.00142857  0.00142857  0.00142857]\n",
      " [ 0.20714286  0.00142857  0.00142857  0.00142857  0.00142857  0.00142857\n",
      "   0.00142857  0.00142857  0.00142857  0.00142857]\n",
      " [ 0.09857143  0.05142857  0.00142857  0.00142857  0.00142857  0.00142857\n",
      "   0.00142857  0.00142857  0.00142857  0.00142857]\n",
      " [ 0.00142857  0.03571429  0.04        0.00142857  0.00142857  0.00142857\n",
      "   0.00142857  0.00142857  0.00142857  0.00142857]\n",
      " [ 0.00142857  0.00142857  0.00285714  0.01857143  0.00857143  0.00285714\n",
      "   0.00142857  0.00142857  0.00142857  0.00142857]\n",
      " [ 0.00142857  0.00142857  0.00142857  0.00142857  0.00142857  0.00571429\n",
      "   0.00714286  0.00285714  0.00285714  0.00142857]]\n"
     ]
    }
   ],
   "source": [
    "#\n",
    "# Computer joint distribution for x and y; P_xy\n",
    "#hist_xy=np.histogram2d(x, y, bins=[D,D])\n",
    "#P_xy = hist_xy[0] / np.float(hist_xy[0].sum())\n",
    "fc,bn1,bn2=np.histogram2d(x, y, bins=[D,D])\n",
    "#add laplace smoothing\n",
    "fc+=1\n",
    "P_xy = fc / np.float(fc.sum())\n",
    "\n",
    "print P_xy\n",
    "#print P_xy[2,:]\n",
    "#print np.sum(P_xy,axis=0)\n",
    "#print P_xy[3,2]\n"
   ]
  },
  {
   "cell_type": "code",
   "execution_count": 102,
   "metadata": {},
   "outputs": [
    {
     "name": "stdout",
     "output_type": "stream",
     "text": [
      "I_xy =  0.985989247398\n",
      "I_xyN =  0.208452326539\n"
     ]
    }
   ],
   "source": [
    "# Compute Mutual Information and normalise\n",
    "m=D\n",
    "n=D\n",
    "I_xy=0.0\n",
    "for i in range(m):\n",
    "    for j in range(n):\n",
    "        I_xy += P_xy[i,j] * np.log2(P_xy[i,j] / (P_x[i]*P_y[j]))\n",
    "print 'I_xy = ', I_xy\n",
    "# we now normalize the mutual information\n",
    "I_xyN= I_xy/(H_x+H_y)\n",
    "print 'I_xyN = ', I_xyN\n",
    "\n"
   ]
  },
  {
   "cell_type": "code",
   "execution_count": null,
   "metadata": {},
   "outputs": [],
   "source": []
  },
  {
   "cell_type": "code",
   "execution_count": null,
   "metadata": {},
   "outputs": [],
   "source": []
  },
  {
   "cell_type": "markdown",
   "metadata": {},
   "source": [
    "### Vector Algebra primer "
   ]
  },
  {
   "cell_type": "code",
   "execution_count": 103,
   "metadata": {
    "scrolled": true
   },
   "outputs": [
    {
     "data": {
      "image/png": "[encoded data removed]",
      "text/plain": [
       "<matplotlib.figure.Figure at 0x7f365cd21450>"
      ]
     },
     "metadata": {},
     "output_type": "display_data"
    }
   ],
   "source": [
    "# generate 10 numbers guassian distributed, sigma=1\n",
    "sigma=0.3450  #standard deviation\n",
    "np.random.seed(1)\n",
    "X1=np.random.randn(10000)*sigma\n",
    "# generate histogram\n",
    "x_bin=np.arange(-4.0*sigma,3.5*sigma,sigma/3.0)+sigma/2.0\n",
    "h,b=np.histogram(X1,bins=x_bin)\n",
    "#print h,b\n",
    "plt.bar(b[:-1],h,width=sigma/4.0)\n",
    "plt.show()\n",
    "#print x_bin"
   ]
  },
  {
   "cell_type": "code",
   "execution_count": 104,
   "metadata": {},
   "outputs": [
    {
     "name": "stdout",
     "output_type": "stream",
     "text": [
      "Mean= 0.00337156656119\n",
      "variance =  0.118736145554\n",
      "standard deviation =  0.344581116072\n"
     ]
    }
   ],
   "source": [
    "# calculate mean and sigma\n",
    "print 'Mean=',np.mean(X1)\n",
    "print 'variance = ',np.std(X1)**2.0\n",
    "print 'standard deviation = ',np.std(X1)"
   ]
  },
  {
   "cell_type": "code",
   "execution_count": 105,
   "metadata": {},
   "outputs": [
    {
     "name": "stdout",
     "output_type": "stream",
     "text": [
      "Mean= 0.00112914225612\n",
      "variance =  0.11860792853\n",
      "standard deviation =  0.344395018155\n",
      "variance =  0.11860792853\n"
     ]
    }
   ],
   "source": [
    "X2=np.random.normal(loc=0.0,scale=0.345,size=100000)  # scale is standard deviation\n",
    "print 'Mean=',np.mean(X2)\n",
    "print 'variance = ',np.std(X2)**2.0\n",
    "print 'standard deviation = ',np.std(X2)\n",
    "print 'variance = ',np.var(X2)"
   ]
  },
  {
   "cell_type": "markdown",
   "metadata": {},
   "source": [
    "### Co-Variance"
   ]
  },
  {
   "cell_type": "code",
   "execution_count": 106,
   "metadata": {},
   "outputs": [
    {
     "name": "stdout",
     "output_type": "stream",
     "text": [
      "co-variance = \n",
      "[[ 5.11577291  5.14605978]\n",
      " [ 5.14605978  6.24250223]]\n"
     ]
    },
    {
     "data": {
      "image/png": "[encoded data removed]",
      "text/plain": [
       "<matplotlib.figure.Figure at 0x7f365fba7650>"
      ]
     },
     "metadata": {},
     "output_type": "display_data"
    }
   ],
   "source": [
    "# we first produce some data whose scatter plot lies on a straight line +ve\n",
    "# y = mx + c or y = x\n",
    "N=500\n",
    "y_sigma=1.0\n",
    "x_sigma=np.sqrt(5.0)\n",
    "#x = (np.random.rand(N)-0.5)*10\n",
    "x = np.random.randn(N)*x_sigma\n",
    "y = np.copy(x)+np.random.randn(N)*y_sigma\n",
    "print 'co-variance = '\n",
    "print np.cov(x,y) \n",
    "fig, ax = plt.subplots()\n",
    "ax.plot(x, y,'k.')\n",
    "ax.set_xlim((-10,10))\n",
    "ax.set_ylim((-10,10))\n",
    "x0,x1 = ax.get_xlim()\n",
    "y0,y1 = ax.get_ylim()\n",
    "ax.set_aspect(1.0)\n",
    "ax.grid(b=True, which='major', linestyle='--')\n",
    "plt.show()"
   ]
  },
  {
   "cell_type": "code",
   "execution_count": 108,
   "metadata": {},
   "outputs": [
    {
     "name": "stdout",
     "output_type": "stream",
     "text": [
      "co-variance = \n",
      "[[ 4.86661582 -4.82600369]\n",
      " [-4.82600369  5.74920155]]\n"
     ]
    },
    {
     "data": {
      "image/png": "[encoded data removed]",
      "text/plain": [
       "<matplotlib.figure.Figure at 0x7f365cccb690>"
      ]
     },
     "metadata": {},
     "output_type": "display_data"
    }
   ],
   "source": [
    "# we first produce some data whose scatter plot lies on a straight line -ve\n",
    "# y = mx + c or y = -x\n",
    "N=500\n",
    "y_sigma=1.0\n",
    "x_sigma=np.sqrt(5.0)\n",
    "x = np.random.randn(N)*x_sigma\n",
    "y = -1*np.copy(x)+np.random.randn(N)*y_sigma\n",
    "print 'co-variance = '\n",
    "print np.cov(x,y) \n",
    "fig, ax = plt.subplots()\n",
    "ax.plot(x, y,'k.')\n",
    "ax.set_xlim((-10,10))\n",
    "ax.set_ylim((-10,10))\n",
    "x0,x1 = ax.get_xlim()\n",
    "y0,y1 = ax.get_ylim()\n",
    "ax.set_aspect(1.0)\n",
    "ax.grid(b=True, which='major', linestyle='--')\n",
    "plt.show()"
   ]
  },
  {
   "cell_type": "code",
   "execution_count": 109,
   "metadata": {},
   "outputs": [
    {
     "name": "stdout",
     "output_type": "stream",
     "text": [
      "co-variance = \n",
      "[[ 5.34834065 -0.07278307]\n",
      " [-0.07278307  1.05048647]]\n"
     ]
    },
    {
     "data": {
      "image/png": "[encoded data removed]",
      "text/plain": [
       "<matplotlib.figure.Figure at 0x7f3661596b10>"
      ]
     },
     "metadata": {},
     "output_type": "display_data"
    }
   ],
   "source": [
    "# we first produce some data whose scatter plot lies on a straight line\n",
    "# y = mx + c or y = -x\n",
    "N=500\n",
    "y_sigma=1.0\n",
    "x_sigma=np.sqrt(5.0)\n",
    "x = np.random.randn(N)*x_sigma\n",
    "y = np.random.randn(N)*y_sigma\n",
    "print 'co-variance = '\n",
    "print np.cov(x,y) \n",
    "fig, ax = plt.subplots()\n",
    "ax.plot(x, y,'k.')\n",
    "ax.set_xlim((-10,10))\n",
    "ax.set_ylim((-10,10))\n",
    "x0,x1 = ax.get_xlim()\n",
    "y0,y1 = ax.get_ylim()\n",
    "ax.set_aspect(1.0)\n",
    "ax.grid(b=True, which='major', linestyle='--')\n",
    "plt.show()\n"
   ]
  },
  {
   "cell_type": "code",
   "execution_count": 110,
   "metadata": {},
   "outputs": [
    {
     "name": "stdout",
     "output_type": "stream",
     "text": [
      "co-variance = \n",
      "[[ 0.87801123 -0.00704813]\n",
      " [-0.00704813  5.62053554]]\n"
     ]
    },
    {
     "data": {
      "image/png": "[encoded data removed]",
      "text/plain": [
       "<matplotlib.figure.Figure at 0x7f365fe89ad0>"
      ]
     },
     "metadata": {},
     "output_type": "display_data"
    }
   ],
   "source": [
    "# we first produce some data whose scatter plot lies on a straight line\n",
    "# y = mx + c or y = -x\n",
    "N=500\n",
    "x_sigma=1.0\n",
    "y_sigma=np.sqrt(5.0)\n",
    "x = np.random.randn(N)*x_sigma\n",
    "y = np.random.randn(N)*y_sigma\n",
    "print 'co-variance = '\n",
    "print np.cov(x,y) \n",
    "#\n",
    "fig, ax = plt.subplots()\n",
    "#colors = ['k']*len(x)\n",
    "ax.plot(x, y,'k.')\n",
    "ax.set_xlim((-10,10))\n",
    "ax.set_ylim((-10,10))\n",
    "x0,x1 = ax.get_xlim()\n",
    "y0,y1 = ax.get_ylim()\n",
    "ax.set_aspect(1.0)\n",
    "#ax.grid(b=True, which='major', color='k', linestyle='--')\n",
    "ax.grid(b=True, which='major', linestyle='--')\n",
    "#fig.savefig('cov.png', dpi=600)\n",
    "plt.show()\n",
    "#plt.close(fig)"
   ]
  },
  {
   "cell_type": "markdown",
   "metadata": {},
   "source": [
    "## example for covariance on a dataset"
   ]
  },
  {
   "cell_type": "code",
   "execution_count": null,
   "metadata": {
    "collapsed": true
   },
   "outputs": [],
   "source": []
  },
  {
   "cell_type": "markdown",
   "metadata": {},
   "source": [
    "## Transformation matrix"
   ]
  },
  {
   "cell_type": "code",
   "execution_count": 111,
   "metadata": {},
   "outputs": [
    {
     "name": "stdout",
     "output_type": "stream",
     "text": [
      "A=\n",
      "[[ 3  0]\n",
      " [ 8 -1]]\n",
      "(1, 2)\n",
      "y= [[1 5]]\n",
      "y'= [[3 3]]\n",
      "x'= [[3 8]]\n",
      "x'= [[3 6]]\n"
     ]
    }
   ],
   "source": [
    "#Example\n",
    "A=np.matrix('3 0,; 8 -1')\n",
    "y=np.matrix('1 5')\n",
    "x=np.matrix('1 0')\n",
    "\n",
    "print 'A=\\n',A\n",
    "print y.shape\n",
    "print 'y=',y\n",
    "print 'y\\'=',np.transpose(A*np.transpose(y))\n",
    "print 'x\\'=',np.transpose(A*np.transpose(x))\n",
    "x=np.matrix('1 2')\n",
    "print 'x\\'=',np.transpose(A*np.transpose(x))\n",
    "\n",
    "\n",
    "\n",
    "\n"
   ]
  },
  {
   "cell_type": "markdown",
   "metadata": {},
   "source": [
    "## Eigen Vectors"
   ]
  },
  {
   "cell_type": "code",
   "execution_count": 112,
   "metadata": {},
   "outputs": [
    {
     "name": "stdout",
     "output_type": "stream",
     "text": [
      "[[2 3]\n",
      " [2 1]]\n",
      "eigen values =  [ 4. -1.]\n",
      "eigen vectors = \n",
      "[[ 0.83205029 -0.70710678]\n",
      " [ 0.5547002   0.70710678]]\n"
     ]
    }
   ],
   "source": [
    "A=np.matrix('2 3; 2 1')\n",
    "print A\n",
    "print 'eigen values = ',np.linalg.eigvals(A)\n",
    "print 'eigen vectors = '\n",
    "print np.linalg.eig(A)[1]"
   ]
  },
  {
   "cell_type": "markdown",
   "metadata": {},
   "source": [
    "# PCA"
   ]
  },
  {
   "cell_type": "code",
   "execution_count": 113,
   "metadata": {},
   "outputs": [
    {
     "name": "stdout",
     "output_type": "stream",
     "text": [
      "Var(x) =  6.24219107987\n",
      "Var(y) =  9.03782338582\n",
      "co-variance = \n",
      "[[ 6.25470048  6.22904065]\n",
      " [ 6.22904065  9.05593526]]\n"
     ]
    },
    {
     "data": {
      "image/png": "[encoded data removed]",
      "text/plain": [
       "<matplotlib.figure.Figure at 0x7f365fd18e10>"
      ]
     },
     "metadata": {},
     "output_type": "display_data"
    }
   ],
   "source": [
    "# we first produce some data whose scatter plot lies on a straight line\n",
    "# y = mx + c or y = x\n",
    "N=500\n",
    "y_sigma=1.8\n",
    "x_sigma=np.sqrt(6.0)\n",
    "x = np.random.randn(N)*x_sigma\n",
    "y = np.copy(x)+np.random.randn(N)*y_sigma\n",
    "print \"Var(x) = \",np.var(x)\n",
    "print \"Var(y) = \",np.var(y)\n",
    "print 'co-variance = '\n",
    "print np.cov(x,y) \n",
    "fig, ax = plt.subplots()\n",
    "ax.plot(x, y,'k.')\n",
    "ax.set_xlim((-10,10))\n",
    "ax.set_ylim((-10,10))\n",
    "x0,x1 = ax.get_xlim()\n",
    "y0,y1 = ax.get_ylim()\n",
    "ax.set_aspect(1.0)\n",
    "ax.grid(b=True, which='major', linestyle='--')\n",
    "plt.show()"
   ]
  },
  {
   "cell_type": "code",
   "execution_count": 114,
   "metadata": {},
   "outputs": [
    {
     "name": "stdout",
     "output_type": "stream",
     "text": [
      "shape= (500, 2)\n"
     ]
    },
    {
     "data": {
      "text/plain": [
       "matrix([[ 6.2549077 ,  6.22720329],\n",
       "        [ 6.22720329,  9.07222677]])"
      ]
     },
     "execution_count": 114,
     "metadata": {},
     "output_type": "execute_result"
    }
   ],
   "source": [
    "X=np.zeros([N,2])\n",
    "X[:,0]=np.copy(x)\n",
    "X[:,1]=np.copy(y)\n",
    "print 'shape=',X.shape\n",
    "XX=np.matrix(X)\n",
    "np.transpose(XX)*XX/(N-1)"
   ]
  },
  {
   "cell_type": "code",
   "execution_count": 115,
   "metadata": {},
   "outputs": [
    {
     "name": "stdout",
     "output_type": "stream",
     "text": [
      "(500, 2)\n",
      "(2, 500)\n",
      "(2, 2)\n",
      "[[ 6.2549077   6.22720329]\n",
      " [ 6.22720329  9.07222677]]\n",
      "[[ 6.2549077   6.22720329]\n",
      " [ 6.22720329  9.07222677]]\n"
     ]
    }
   ],
   "source": [
    "print XX.shape\n",
    "XXX=XX.T\n",
    "print XXX.shape\n",
    "C=XX.T*XX/(N-1)\n",
    "C.shape\n",
    "CC=XXX*XXX.T/(N-1)\n",
    "print CC.shape\n",
    "print C\n",
    "print CC"
   ]
  },
  {
   "cell_type": "markdown",
   "metadata": {},
   "source": [
    "# PCA from Richert & Coelho (sklearn)"
   ]
  },
  {
   "cell_type": "code",
   "execution_count": 116,
   "metadata": {
    "collapsed": true
   },
   "outputs": [],
   "source": [
    "x1 = np.arange(0,10,.2)\n",
    "x2 = x1 + np.random.normal(loc=0.0, scale=1.0, size=len(x1))\n",
    "X=np.c_[(x1,x2)]\n",
    "good=(x1>5) | (x2>5)  # some arbitrary classes\n",
    "bad = ~good # to make the example look good"
   ]
  },
  {
   "cell_type": "code",
   "execution_count": 117,
   "metadata": {},
   "outputs": [],
   "source": [
    "from sklearn import linear_model, decomposition, datasets\n",
    "pca = decomposition.PCA(n_components=2)"
   ]
  },
  {
   "cell_type": "code",
   "execution_count": 118,
   "metadata": {},
   "outputs": [
    {
     "name": "stdout",
     "output_type": "stream",
     "text": [
      "[ 0.98279089  0.01720911]\n",
      "[[ 8.5         8.13446505]\n",
      " [ 8.13446505  8.34955737]]\n",
      "[ 16.55959152   0.28996585]\n",
      "[[-0.71036851 -0.70382994]\n",
      " [ 0.70382994 -0.71036851]]\n"
     ]
    }
   ],
   "source": [
    "Xtrans = pca.fit_transform(X)\n",
    "print pca.explained_variance_ratio_\n",
    "print pca.get_covariance()\n",
    "print pca.explained_variance_\n",
    "print pca.components_"
   ]
  },
  {
   "cell_type": "code",
   "execution_count": 119,
   "metadata": {},
   "outputs": [
    {
     "data": {
      "text/plain": [
       "17.57"
      ]
     },
     "execution_count": 119,
     "metadata": {},
     "output_type": "execute_result"
    }
   ],
   "source": [
    "(8.33+9.24)"
   ]
  },
  {
   "cell_type": "code",
   "execution_count": 120,
   "metadata": {},
   "outputs": [
    {
     "data": {
      "image/png": "[encoded data removed]",
      "text/plain": [
       "<matplotlib.figure.Figure at 0x7f365fb24850>"
      ]
     },
     "metadata": {},
     "output_type": "display_data"
    }
   ],
   "source": [
    "# plot features original\n",
    "fig, ax = plt.subplots()\n",
    "for i in range(len(good)):\n",
    "    if good[i]:\n",
    "        ax.plot(X[i,0], X[i,1],c='r',marker='o')\n",
    "    else:\n",
    "        ax.plot(X[i,0], X[i,1],c='b',marker='o')\n",
    "ax.set_xlim((-2,12))\n",
    "ax.set_ylim((-2,14))\n",
    "x0,x1 = ax.get_xlim()\n",
    "y0,y1 = ax.get_ylim()\n",
    "ax.set_aspect(abs(x1-x0)/abs(y1-y0))\n",
    "ax.grid(b=True, which='major', linestyle='--')\n",
    "plt.show()"
   ]
  },
  {
   "cell_type": "code",
   "execution_count": 121,
   "metadata": {},
   "outputs": [
    {
     "data": {
      "image/png": "[encoded data removed]",
      "text/plain": [
       "<matplotlib.figure.Figure at 0x7f3661601210>"
      ]
     },
     "metadata": {},
     "output_type": "display_data"
    }
   ],
   "source": [
    "# plot features transformed\n",
    "fig, ax = plt.subplots()\n",
    "for i in range(len(good)):\n",
    "    if good[i]:\n",
    "        ax.plot(Xtrans[i,0], 0,c='r',marker='o')\n",
    "    else:\n",
    "        ax.plot(Xtrans[i,0], 0,c='b',marker='o')\n",
    "ax.set_xlim((-10,10))\n",
    "ax.set_ylim((-2,2))\n",
    "x0,x1 = ax.get_xlim()\n",
    "y0,y1 = ax.get_ylim()\n",
    "ax.set_aspect(abs(x1-x0)/abs(y1-y0))\n",
    "ax.grid(b=True, which='major', linestyle='--')\n",
    "plt.show()"
   ]
  },
  {
   "cell_type": "markdown",
   "metadata": {},
   "source": [
    "# manual pca"
   ]
  },
  {
   "cell_type": "markdown",
   "metadata": {},
   "source": [
    "1. Let d = feature dimensionality\n",
    "2. Let N= number of examples in dataset\n",
    "3. Organise data as a centred matrix X=[N,d], where N=#rows, d=#col [find and subtract the mean]\n",
    "4. We want to reduce dimensionality to k.\n",
    "5. After reduction we end up with a dataset X' = [N,k], where k<=p\n",
    "6. We carry out the following:\n",
    "7. Compute the covariance matrix M=X'X. This is a [d,d] matrix.\n",
    "8. Compute the eigenvalues and eigenvectors. ev is a [d,d] matrix\n",
    "9. Choose the first k largest eigenvalues, i.e [k,d] matrix\n",
    "10. Project the data onto the eigenvectors, i.e [N,k] matrix"
   ]
  },
  {
   "cell_type": "code",
   "execution_count": 122,
   "metadata": {},
   "outputs": [
    {
     "data": {
      "image/png": "[encoded data removed]",
      "text/plain": [
       "<matplotlib.figure.Figure at 0x7f365fafb510>"
      ]
     },
     "metadata": {},
     "output_type": "display_data"
    }
   ],
   "source": [
    "# Generate data set [from Richert & Coelho]\n",
    "np.random.seed(0)\n",
    "x1 = np.arange(0,10,.2)\n",
    "x2 = x1 + np.random.normal(loc=0.0, scale=1.0, size=len(x1))\n",
    "X=np.matrix(np.c_[(x1,x2)])\n",
    "good=(x1>5) | (x2>5)  # some arbitrary classes\n",
    "bad = ~good # to make the example look good\n",
    "#\n",
    "#Plot dataset using original (d) features\n",
    "fig, ax = plt.subplots()\n",
    "for i in range(len(good)):\n",
    "    if good[i]:\n",
    "        ax.plot(X[i,0], X[i,1],c='r',marker='o')\n",
    "    else:\n",
    "        ax.plot(X[i,0], X[i,1],c='b',marker='o')\n",
    "ax.set_xlim((-2,12))\n",
    "ax.set_ylim((-2,14))\n",
    "x0,x1 = ax.get_xlim()\n",
    "y0,y1 = ax.get_ylim()\n",
    "ax.set_aspect(abs(x1-x0)/abs(y1-y0))\n",
    "ax.grid(b=True, which='major', linestyle='--')\n",
    "plt.show()"
   ]
  },
  {
   "cell_type": "code",
   "execution_count": 123,
   "metadata": {},
   "outputs": [
    {
     "name": "stdout",
     "output_type": "stream",
     "text": [
      "shape of datatset matrix =  (50, 2)\n",
      "N = 50\n",
      "d = 2\n",
      "mean_X = [[ 4.9         5.04055927]]\n",
      "First few examples from dataset:\n"
     ]
    },
    {
     "data": {
      "image/png": "[encoded data removed]",
      "text/plain": [
       "<matplotlib.figure.Figure at 0x7f366013d810>"
      ]
     },
     "metadata": {},
     "output_type": "display_data"
    }
   ],
   "source": [
    "# Organise data as a centred matrix X=[N,p], where N=#rows, p=#col\n",
    "#\n",
    "print 'shape of datatset matrix = ',X.shape \n",
    "N,d = X.shape\n",
    "print 'N =',N\n",
    "print 'd =',d\n",
    "mean_X = np.mean(X, axis=0)\n",
    "print 'mean_X =',mean_X\n",
    "#subtract mean\n",
    "X = X-mean_X\n",
    "print 'First few examples from dataset:'\n",
    "X[0:5,:]\n",
    "#\n",
    "#Plot dataset using original (d) centred features\n",
    "fig, ax = plt.subplots()\n",
    "for i in range(len(good)):\n",
    "    if good[i]:\n",
    "        ax.plot(X[i,0], X[i,1],c='r',marker='o')\n",
    "    else:\n",
    "        ax.plot(X[i,0], X[i,1],c='b',marker='o')\n",
    "ax.set_xlim((-8,8))\n",
    "ax.set_ylim((-8,8))\n",
    "x0,x1 = ax.get_xlim()\n",
    "y0,y1 = ax.get_ylim()\n",
    "ax.set_aspect(abs(x1-x0)/abs(y1-y0))\n",
    "ax.grid(b=True, which='major', linestyle='--')\n",
    "plt.show()"
   ]
  },
  {
   "cell_type": "code",
   "execution_count": 124,
   "metadata": {},
   "outputs": [
    {
     "name": "stdout",
     "output_type": "stream",
     "text": [
      "[[ 8.5         7.27563355]\n",
      " [ 7.27563355  7.34392205]]\n",
      "[[ 8.5         7.27563355]\n",
      " [ 7.27563355  7.34392205]]\n",
      "M trace = [[ 15.84392205]]\n"
     ]
    }
   ],
   "source": [
    "# Compute the covariance matrix M=X'X. This is a [d,d] matrix.\n",
    "#\n",
    "# using built in function:\n",
    "print np.cov(X.T)\n",
    "# Using matrix operations\n",
    "M=(X.T*X)/(N-1)\n",
    "print M\n",
    "#compute trace\n",
    "print 'M trace =',M.trace()"
   ]
  },
  {
   "cell_type": "code",
   "execution_count": 125,
   "metadata": {},
   "outputs": [
    {
     "name": "stdout",
     "output_type": "stream",
     "text": [
      "[[-0.73457438 -0.67852817]\n",
      " [-0.67852817  0.73457438]]\n",
      "[ 15.22052065   0.6234014 ]\n",
      "[ 0.96065359  0.03934641]\n"
     ]
    }
   ],
   "source": [
    "#we can use single value decomposition to compite eigen values\n",
    "U,S,V = np.linalg.svd(M)\n",
    "# U :\n",
    "# S : Variance\n",
    "# V : Eigen vectors\n",
    "print V\n",
    "print S\n",
    "print S/np.sum(S)"
   ]
  },
  {
   "cell_type": "code",
   "execution_count": 126,
   "metadata": {},
   "outputs": [
    {
     "name": "stdout",
     "output_type": "stream",
     "text": [
      "[ 0.96065359  0.03934641]\n",
      "[[ 8.5         7.27563355]\n",
      " [ 7.27563355  7.34392205]]\n",
      "[ 15.22052065   0.6234014 ]\n",
      "[[ 0.73457438  0.67852817]\n",
      " [ 0.67852817 -0.73457438]]\n"
     ]
    }
   ],
   "source": [
    "# This is for comparison only\n",
    "Xtr = pca.fit_transform(X)\n",
    "print pca.explained_variance_ratio_\n",
    "print pca.get_covariance()\n",
    "print pca.explained_variance_\n",
    "print pca.components_"
   ]
  },
  {
   "cell_type": "code",
   "execution_count": 127,
   "metadata": {},
   "outputs": [
    {
     "name": "stdout",
     "output_type": "stream",
     "text": [
      "Eigenvalues = \n",
      "[ 15.22052065   0.6234014 ]\n",
      " e sum =  15.8439220476\n",
      "Eigenvectors = \n",
      "[[-0.73457438 -0.67852817]\n",
      " [ 0.67852817 -0.73457438]]\n",
      "[[ 0.]]\n"
     ]
    }
   ],
   "source": [
    "# Compute the eigenvalues and eigenvectors. ev is a [d,d] matrix\n",
    "# e : eigenvalues [d]\n",
    "# ev : egenvectors [d,d]\n",
    "e, EV= np.linalg.eigh(M)\n",
    "# reverse order of arrays, since we want maxium on top\n",
    "e=e[::-1]\n",
    "EV=EV[::-1]\n",
    "print 'Eigenvalues = '\n",
    "print e\n",
    "print ' e sum = ',e.sum()\n",
    "print 'Eigenvectors = '\n",
    "print EV\n",
    "# check that eigenvectors are uncorrelated\n",
    "# dot product is zero\n",
    "#np.dot(EV[0],EV[1].T)\n",
    "print EV[0]*EV[1].T"
   ]
  },
  {
   "cell_type": "code",
   "execution_count": 128,
   "metadata": {},
   "outputs": [
    {
     "name": "stdout",
     "output_type": "stream",
     "text": [
      "[[-0.73457438 -0.67852817]]\n"
     ]
    }
   ],
   "source": [
    "# Choose the first k largest eigenvalues, i.e [k,d] matrix\n",
    "# we will choose the .......\n",
    "V=np.copy(EV[0,:])\n",
    "#print the chosen eigen vector\n",
    "print V"
   ]
  },
  {
   "cell_type": "code",
   "execution_count": 136,
   "metadata": {},
   "outputs": [
    {
     "data": {
      "image/png": "[encoded data removed]",
      "text/plain": [
       "<matplotlib.figure.Figure at 0x7f365fd47150>"
      ]
     },
     "metadata": {},
     "output_type": "display_data"
    }
   ],
   "source": [
    "# Project the data onto the eigenvectors, i.e [N,k] matrix\n",
    "# Xt is data projected on eigenvector\n",
    "Xt=X.dot(EV.T)\n",
    "\n",
    "# Plot the projected data rotated towards the direction of maximum variance.\n",
    "fig, ax = plt.subplots()\n",
    "for i in range(len(good)):\n",
    "    if good[i]:\n",
    "        ax.plot(Xt[i,0], Xt[i,1],c='r',marker='o')\n",
    "    else:\n",
    "        ax.plot(Xt[i,0], Xt[i,1],c='b',marker='o')\n",
    "ax.set_xlim((-8,8))\n",
    "ax.set_ylim((-8,8))\n",
    "x0,x1 = ax.get_xlim()\n",
    "y0,y1 = ax.get_ylim()\n",
    "ax.set_aspect(abs(x1-x0)/abs(y1-y0))\n",
    "ax.grid(b=True, which='major', linestyle='--')\n",
    "plt.show()\n"
   ]
  },
  {
   "cell_type": "code",
   "execution_count": 138,
   "metadata": {},
   "outputs": [
    {
     "name": "stdout",
     "output_type": "stream",
     "text": [
      "shape of X_new = (50, 1)\n"
     ]
    },
    {
     "data": {
      "image/png": "[encoded data removed]",
      "text/plain": [
       "<matplotlib.figure.Figure at 0x7f365c467090>"
      ]
     },
     "metadata": {},
     "output_type": "display_data"
    }
   ],
   "source": [
    "# Project the data onto the eigenvectors, i.e [N,k] matrix\n",
    "# Xt is data projected on primary eigenvector in order to\n",
    "# reduce second dimension\n",
    "Xt=X.dot(V.T)\n",
    "\n",
    "print 'shape of X_new =',Xt.shape \n",
    "# plot features transformed\n",
    "fig, ax = plt.subplots()\n",
    "for i in range(len(good)):\n",
    "    if good[i]:\n",
    "        ax.plot(Xt[i,0], 0,c='r',marker='o')\n",
    "    else:\n",
    "        ax.plot(Xt[i,0], 0,c='b',marker='o')\n",
    "#ax.set_xlim((-2,2))\n",
    "ax.set_xlim((-10,10))\n",
    "ax.set_ylim((-2,2))\n",
    "x0,x1 = ax.get_xlim()\n",
    "y0,y1 = ax.get_ylim()\n",
    "ax.set_aspect(abs(x1-x0)/abs(y1-y0))\n",
    "ax.grid(b=True, which='major', linestyle='--')\n",
    "plt.show()"
   ]
  },
  {
   "cell_type": "markdown",
   "metadata": {},
   "source": [
    "# PCA from Richert & Coelho (sklearn)"
   ]
  },
  {
   "cell_type": "code",
   "execution_count": 139,
   "metadata": {
    "collapsed": true
   },
   "outputs": [],
   "source": [
    "x1 = np.arange(0,10,.2)\n",
    "x2 = x1 + np.random.normal(loc=0.0, scale=1.0, size=len(x1))\n",
    "X=np.c_[(x1,x2)]\n",
    "good=(x1>5) | (x2>5)  # some arbitrary classes\n",
    "bad = ~good # to make the example look good"
   ]
  },
  {
   "cell_type": "code",
   "execution_count": 140,
   "metadata": {
    "collapsed": true
   },
   "outputs": [],
   "source": [
    "from sklearn import linear_model, decomposition, datasets\n",
    "pca = decomposition.PCA(n_components=2)"
   ]
  },
  {
   "cell_type": "code",
   "execution_count": 146,
   "metadata": {},
   "outputs": [
    {
     "name": "stdout",
     "output_type": "stream",
     "text": [
      "(50, 2)\n",
      "[ 0.98588738  0.01411262]\n",
      "[[  8.5          9.52692984]\n",
      " [  9.52692984  11.3210126 ]]\n",
      "[ 19.54128613   0.27972647]\n",
      "[[ 0.65327706  0.75711893]\n",
      " [ 0.75711893 -0.65327706]]\n"
     ]
    }
   ],
   "source": [
    "Xtrans = pca.fit_transform(X, good)\n",
    "print Xtrans.shape\n",
    "print pca.explained_variance_ratio_\n",
    "print pca.get_covariance()\n",
    "print pca.explained_variance_\n",
    "print pca.components_"
   ]
  },
  {
   "cell_type": "code",
   "execution_count": 144,
   "metadata": {},
   "outputs": [
    {
     "data": {
      "image/png": "[encoded data removed]",
      "text/plain": [
       "<matplotlib.figure.Figure at 0x7f365cd18790>"
      ]
     },
     "metadata": {},
     "output_type": "display_data"
    }
   ],
   "source": [
    "# plot features original\n",
    "fig, ax = plt.subplots()\n",
    "for i in range(len(good)):\n",
    "    if good[i]:\n",
    "        ax.plot(X[i,0], X[i,1],c='r',marker='o')\n",
    "    else:\n",
    "        ax.plot(X[i,0], X[i,1],c='b',marker='o')\n",
    "ax.set_xlim((-2,12))\n",
    "ax.set_ylim((-2,14))\n",
    "x0,x1 = ax.get_xlim()\n",
    "y0,y1 = ax.get_ylim()\n",
    "ax.set_aspect(abs(x1-x0)/abs(y1-y0))\n",
    "ax.grid(b=True, which='major', linestyle='--')\n",
    "plt.show()"
   ]
  },
  {
   "cell_type": "code",
   "execution_count": 145,
   "metadata": {},
   "outputs": [
    {
     "data": {
      "image/png": "[encoded data removed]",
      "text/plain": [
       "<matplotlib.figure.Figure at 0x7f365c6db5d0>"
      ]
     },
     "metadata": {},
     "output_type": "display_data"
    }
   ],
   "source": [
    "# plot features transformed\n",
    "fig, ax = plt.subplots()\n",
    "for i in range(len(good)):\n",
    "    if good[i]:\n",
    "        ax.plot(Xtrans[i,0], 0,c='r',marker='o')\n",
    "    else:\n",
    "        ax.plot(Xtrans[i,0], 0,c='b',marker='o')\n",
    "ax.set_xlim((-10,10))\n",
    "ax.set_ylim((-2,2))\n",
    "x0,x1 = ax.get_xlim()\n",
    "y0,y1 = ax.get_ylim()\n",
    "ax.set_aspect(abs(x1-x0)/abs(y1-y0))\n",
    "ax.grid(b=True, which='major', linestyle='--')\n",
    "plt.show()"
   ]
  },
  {
   "cell_type": "markdown",
   "metadata": {},
   "source": [
    "# PCA vs LDA"
   ]
  },
  {
   "cell_type": "code",
   "execution_count": 171,
   "metadata": {
    "collapsed": true
   },
   "outputs": [],
   "source": [
    "x1 = np.arange(0,10,.2)\n",
    "x2 = x1 + np.random.normal(loc=0.0, scale=1.0, size=len(x1))\n",
    "X=np.c_[(x1,x2)]\n",
    "good=(x1>x2)  # some arbitrary classes\n",
    "bad = ~good # to make the example look good"
   ]
  },
  {
   "cell_type": "code",
   "execution_count": 172,
   "metadata": {
    "collapsed": true
   },
   "outputs": [],
   "source": [
    "from sklearn import linear_model, decomposition, datasets\n",
    "pca = decomposition.PCA(n_components=2)"
   ]
  },
  {
   "cell_type": "code",
   "execution_count": 173,
   "metadata": {},
   "outputs": [
    {
     "name": "stdout",
     "output_type": "stream",
     "text": [
      "[ 0.97556038  0.02443962]\n",
      "[[ 8.5         8.35108622]\n",
      " [ 8.35108622  9.07076778]]\n",
      "[ 17.14134494   0.42942284]\n",
      "[[-0.69492686 -0.71908043]\n",
      " [ 0.71908043 -0.69492686]]\n",
      "(50, 2)\n"
     ]
    }
   ],
   "source": [
    "Xtrans = pca.fit_transform(X, good)\n",
    "print pca.explained_variance_ratio_\n",
    "print pca.get_covariance()\n",
    "print pca.explained_variance_\n",
    "print pca.components_\n",
    "print Xtrans.shape"
   ]
  },
  {
   "cell_type": "code",
   "execution_count": 174,
   "metadata": {},
   "outputs": [
    {
     "data": {
      "image/png": "[encoded data removed]",
      "text/plain": [
       "<matplotlib.figure.Figure at 0x7f365fdebc90>"
      ]
     },
     "metadata": {},
     "output_type": "display_data"
    }
   ],
   "source": [
    "# plot features original\n",
    "fig, ax = plt.subplots()\n",
    "for i in range(len(good)):\n",
    "    if good[i]:\n",
    "        ax.plot(X[i,0], X[i,1],c='r',marker='o')\n",
    "    else:\n",
    "        ax.plot(X[i,0], X[i,1],c='b',marker='o')\n",
    "ax.set_xlim((-2,12))\n",
    "ax.set_ylim((-2,14))\n",
    "x0,x1 = ax.get_xlim()\n",
    "y0,y1 = ax.get_ylim()\n",
    "ax.set_aspect(abs(x1-x0)/abs(y1-y0))\n",
    "ax.grid(b=True, which='major', linestyle='--')\n",
    "plt.show()"
   ]
  },
  {
   "cell_type": "code",
   "execution_count": 176,
   "metadata": {},
   "outputs": [
    {
     "data": {
      "image/png": "[encoded data removed]",
      "text/plain": [
       "<matplotlib.figure.Figure at 0x7f365ff4d3d0>"
      ]
     },
     "metadata": {},
     "output_type": "display_data"
    }
   ],
   "source": [
    "# plot features original\n",
    "fig, ax = plt.subplots()\n",
    "for i in range(len(good)):\n",
    "    if good[i]:\n",
    "        ax.plot(Xtrans[i,0], Xtrans[i,1],c='r',marker='o')\n",
    "    else:\n",
    "        ax.plot(Xtrans[i,0], Xtrans[i,1],c='b',marker='o')\n",
    "ax.set_xlim((-10,10))\n",
    "ax.set_ylim((-4,4))\n",
    "x0,x1 = ax.get_xlim()\n",
    "y0,y1 = ax.get_ylim()\n",
    "ax.set_aspect(abs(x1-x0)/abs(y1-y0))\n",
    "ax.grid(b=True, which='major', linestyle='--')\n",
    "plt.show()"
   ]
  },
  {
   "cell_type": "code",
   "execution_count": 177,
   "metadata": {},
   "outputs": [
    {
     "data": {
      "image/png": "[encoded data removed]",
      "text/plain": [
       "<matplotlib.figure.Figure at 0x7f365fb7f450>"
      ]
     },
     "metadata": {},
     "output_type": "display_data"
    }
   ],
   "source": [
    "# plot features transformed\n",
    "fig, ax = plt.subplots()\n",
    "for i in range(len(good)):\n",
    "    if good[i]:\n",
    "        ax.plot(Xtrans[i,0], 0,c='r',marker='o')\n",
    "    else:\n",
    "        ax.plot(Xtrans[i,0], 0,c='b',marker='o')\n",
    "ax.set_xlim((-10,10))\n",
    "ax.set_ylim((-2,2))\n",
    "x0,x1 = ax.get_xlim()\n",
    "y0,y1 = ax.get_ylim()\n",
    "ax.set_aspect(abs(x1-x0)/abs(y1-y0))\n",
    "ax.grid(b=True, which='major', linestyle='--')\n",
    "plt.show()"
   ]
  },
  {
   "cell_type": "code",
   "execution_count": 181,
   "metadata": {},
   "outputs": [
    {
     "name": "stdout",
     "output_type": "stream",
     "text": [
      "(50, 2)\n",
      "(50, 1)\n"
     ]
    }
   ],
   "source": [
    "from sklearn import discriminant_analysis\n",
    "lda_t=discriminant_analysis.LinearDiscriminantAnalysis()\n",
    "Xtrans = lda_t.fit_transform(X, good)\n",
    "print X.shape\n",
    "print Xtrans.shape"
   ]
  },
  {
   "cell_type": "code",
   "execution_count": 155,
   "metadata": {},
   "outputs": [
    {
     "data": {
      "image/png": "[encoded data removed]",
      "text/plain": [
       "<matplotlib.figure.Figure at 0x7f365c253d90>"
      ]
     },
     "metadata": {},
     "output_type": "display_data"
    }
   ],
   "source": [
    "# plot features transformed\n",
    "fig, ax = plt.subplots()\n",
    "for i in range(len(good)):\n",
    "    if good[i]:\n",
    "        ax.plot(Xtrans[i,0], 0,c='r',marker='o')\n",
    "    else:\n",
    "        ax.plot(Xtrans[i,0], 0,c='b',marker='o')\n",
    "ax.set_xlim((-10,10))\n",
    "ax.set_ylim((-2,2))\n",
    "x0,x1 = ax.get_xlim()\n",
    "y0,y1 = ax.get_ylim()\n",
    "ax.set_aspect(abs(x1-x0)/abs(y1-y0))\n",
    "ax.grid(b=True, which='major', linestyle='--')\n",
    "plt.show()"
   ]
  },
  {
   "cell_type": "markdown",
   "metadata": {},
   "source": [
    "# Feature selection (Wrapper) from sklearn"
   ]
  },
  {
   "cell_type": "code",
   "execution_count": 156,
   "metadata": {
    "collapsed": true
   },
   "outputs": [],
   "source": [
    "from sklearn.feature_selection import RFE\n",
    "from sklearn.linear_model import LogisticRegression\n",
    "from sklearn.datasets import make_classification\n"
   ]
  },
  {
   "cell_type": "code",
   "execution_count": 161,
   "metadata": {},
   "outputs": [
    {
     "name": "stdout",
     "output_type": "stream",
     "text": [
      "[[ 0.20654985 -1.99440882  0.12454664 -3.24905569  0.65449813]\n",
      " [ 0.35924959  0.68839784 -1.72538572  2.30587309  0.20501309]\n",
      " [-0.06794353 -2.44499934 -0.34361726 -0.40268287 -1.51501515]\n",
      " [-0.51100852  0.51505188 -1.00218322 -0.28045437  0.99274477]\n",
      " [ 1.09854667  3.09499716 -0.74226929 -2.09995255 -2.30105665]]\n",
      "[1 0 0 0 0 1 0 1 1 0 0 0 1 1 0 1 0 1 0 0 1 1 0 1 1 0 1 0 0 0 0 0 0 0 1 1 0\n",
      " 1 0 0 0 1 0 0 1 1 0 0 1 1 1 1 1 1 1 1 0 0 1 1 1 0 1 0 1 1 1 1 1 1 1 1 0 0\n",
      " 0 1 1 1 1 0 0 0 0 0 0 0 0 0 1 1 1 1 0 1 0 0 0 0 1 1]\n"
     ]
    }
   ],
   "source": [
    "X,y = make_classification(n_samples=100, n_features=10, n_informative=3, random_state=0)\n",
    "print X[0:5,0:5]\n",
    "print y"
   ]
  },
  {
   "cell_type": "code",
   "execution_count": 158,
   "metadata": {},
   "outputs": [
    {
     "data": {
      "text/plain": [
       "LogisticRegression(C=1.0, class_weight=None, dual=False, fit_intercept=True,\n",
       "          intercept_scaling=1, max_iter=100, multi_class='ovr', n_jobs=1,\n",
       "          penalty='l2', random_state=None, solver='liblinear', tol=0.0001,\n",
       "          verbose=0, warm_start=False)"
      ]
     },
     "execution_count": 158,
     "metadata": {},
     "output_type": "execute_result"
    }
   ],
   "source": [
    "clf = LogisticRegression()\n",
    "clf.fit(X,y)"
   ]
  },
  {
   "cell_type": "code",
   "execution_count": 165,
   "metadata": {},
   "outputs": [
    {
     "name": "stdout",
     "output_type": "stream",
     "text": [
      "[1 1 1 1 1 1 1 1 1 1]\n"
     ]
    }
   ],
   "source": [
    "selector=RFE(clf, n_features_to_select=10)\n",
    "selector=selector.fit(X, y)\n",
    "#print selector.support_\n",
    "print selector.ranking_"
   ]
  },
  {
   "cell_type": "code",
   "execution_count": 168,
   "metadata": {},
   "outputs": [
    {
     "name": "stdout",
     "output_type": "stream",
     "text": [
      "[ 7  6  3  4  8  9  2  1 10  5]\n",
      "LogisticRegression(C=1.0, class_weight=None, dual=False, fit_intercept=True,\n",
      "          intercept_scaling=1, max_iter=100, multi_class='ovr', n_jobs=1,\n",
      "          penalty='l2', random_state=None, solver='liblinear', tol=0.0001,\n",
      "          verbose=0, warm_start=False)\n",
      "[6 5 2 3 7 8 1 1 9 4]\n",
      "[5 4 1 2 6 7 1 1 8 3]\n"
     ]
    }
   ],
   "source": [
    "selector=RFE(clf, n_features_to_select=1)\n",
    "selector=selector.fit(X, y)\n",
    "#print selector.support_\n",
    "print selector.ranking_\n",
    "selector=RFE(clf, n_features_to_select=2)\n",
    "selector=selector.fit(X, y)\n",
    "#print selector.support_\n",
    "print selector.ranking_\n",
    "selector=RFE(clf, n_features_to_select=3)\n",
    "selector=selector.fit(X, y)\n",
    "#print selector.support_\n",
    "print selector.ranking_"
   ]
  },
  {
   "cell_type": "code",
   "execution_count": null,
   "metadata": {
    "collapsed": true
   },
   "outputs": [],
   "source": []
  }
 ],
 "metadata": {
  "kernelspec": {
   "display_name": "Python 2",
   "language": "python",
   "name": "python2"
  },
  "language_info": {
   "codemirror_mode": {
    "name": "ipython",
    "version": 2
   },
   "file_extension": ".py",
   "mimetype": "text/x-python",
   "name": "python",
   "nbconvert_exporter": "python",
   "pygments_lexer": "ipython2",
   "version": "2.7.14"
  }
 },
 "nbformat": 4,
 "nbformat_minor": 1
}
