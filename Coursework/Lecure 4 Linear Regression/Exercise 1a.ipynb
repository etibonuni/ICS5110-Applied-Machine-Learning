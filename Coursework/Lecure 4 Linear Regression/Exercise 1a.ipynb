{
 "cells": [
  {
   "cell_type": "markdown",
   "metadata": {},
   "source": [
    "# Use the dataset provided in previous practical to build a simple linear regression model."
   ]
  },
  {
   "cell_type": "code",
   "execution_count": 22,
   "metadata": {
    "collapsed": true
   },
   "outputs": [],
   "source": [
    "import numpy as np\n",
    "import matplotlib.pyplot as plt"
   ]
  },
  {
   "cell_type": "markdown",
   "metadata": {},
   "source": [
    "Dataset representing hours studied vs. marks earned"
   ]
  },
  {
   "cell_type": "code",
   "execution_count": 38,
   "metadata": {
    "collapsed": true
   },
   "outputs": [],
   "source": [
    "dataset=np.matrix([[84,70],[76,64],[90,83],[63,45],[55,40],[60,38],[34,20]], float)\n"
   ]
  },
  {
   "cell_type": "markdown",
   "metadata": {},
   "source": [
    "### Generate best-fit line using SLR"
   ]
  },
  {
   "cell_type": "code",
   "execution_count": 46,
   "metadata": {
    "collapsed": true
   },
   "outputs": [],
   "source": [
    "def fitLine(data_x, data_y):\n",
    "    sumX = np.sum(data_x)\n",
    "    sumY = np.sum(data_y)\n",
    "    sumXY = np.sum(np.multiply(data_x, data_y))\n",
    "    sumX_2 = np.sum(np.multiply(data_x, data_x))\n",
    "    \n",
    "    n = len(data_x)\n",
    "    \n",
    "    m = (n*sumXY - sumX*sumY) / (n * sumX_2 - (sumX*sumX))\n",
    "    \n",
    "    b = (sumY * sumX_2 - sumXY*sumX) / (n*sumX_2 - (sumX*sumX))\n",
    "    \n",
    "    return (m,b)"
   ]
  },
  {
   "cell_type": "code",
   "execution_count": 54,
   "metadata": {},
   "outputs": [
    {
     "name": "stdout",
     "output_type": "stream",
     "text": [
      "(m,b) =  (1.1182648401826485, -22.376908023483367)\n"
     ]
    }
   ],
   "source": [
    "(m,b) = fitLine(dataset[:,0], dataset[:,1])\n",
    "\n",
    "print \"(m,b) = \",(m,b)"
   ]
  },
  {
   "cell_type": "markdown",
   "metadata": {},
   "source": [
    "### Plot dataset and regression line"
   ]
  },
  {
   "cell_type": "code",
   "execution_count": 49,
   "metadata": {
    "collapsed": true
   },
   "outputs": [],
   "source": [
    "def abline(slope, intercept):\n",
    "    \"\"\"Plot a line from slope and intercept\"\"\"\n",
    "    axes = plt.gca()\n",
    "    x_vals = np.array(axes.get_xlim())\n",
    "    y_vals = intercept + slope * x_vals\n",
    "\n",
    "    plt.plot(x_vals, y_vals, '--')\n",
    "    "
   ]
  },
  {
   "cell_type": "code",
   "execution_count": 50,
   "metadata": {},
   "outputs": [
    {
     "data": {
      "image/png": "[encoded data removed]",
      "text/plain": [
       "<matplotlib.figure.Figure at 0x7f61f19a7210>"
      ]
     },
     "metadata": {},
     "output_type": "display_data"
    }
   ],
   "source": [
    "plt.figure()\n",
    "plt.axis([0, 100, 0, 100])\n",
    "\n",
    "abline(m, b)\n",
    "\n",
    "plt.plot(dataset[:,0], dataset[:,1],\"ro\")\n",
    "\n",
    "\n",
    "plt.show()"
   ]
  },
  {
   "cell_type": "markdown",
   "metadata": {
    "collapsed": true
   },
   "source": [
    "## What mark will you get if you study for 80 hours?"
   ]
  },
  {
   "cell_type": "code",
   "execution_count": 51,
   "metadata": {},
   "outputs": [
    {
     "name": "stdout",
     "output_type": "stream",
     "text": [
      "mark for 80 hrs= 67.0842791911\n"
     ]
    }
   ],
   "source": [
    "mark = m*80 + b\n",
    "print \"mark for 80 hrs=\", mark"
   ]
  },
  {
   "cell_type": "markdown",
   "metadata": {},
   "source": [
    "## How many hours of study do you need to get an A?"
   ]
  },
  {
   "cell_type": "code",
   "execution_count": 52,
   "metadata": {},
   "outputs": [
    {
     "name": "stdout",
     "output_type": "stream",
     "text": [
      "Hours to get an a >=  96.020999825\n"
     ]
    }
   ],
   "source": [
    "# Assuming A >= 85\n",
    "# hours = (mark - b)/m\n",
    "hours = (85-b)/m\n",
    "print \"Hours to get an a >= \", hours"
   ]
  },
  {
   "cell_type": "code",
   "execution_count": null,
   "metadata": {
    "collapsed": true
   },
   "outputs": [],
   "source": []
  }
 ],
 "metadata": {
  "kernelspec": {
   "display_name": "Python 2",
   "language": "python",
   "name": "python2"
  },
  "language_info": {
   "codemirror_mode": {
    "name": "ipython",
    "version": 2
   },
   "file_extension": ".py",
   "mimetype": "text/x-python",
   "name": "python",
   "nbconvert_exporter": "python",
   "pygments_lexer": "ipython2",
   "version": "2.7.14"
  }
 },
 "nbformat": 4,
 "nbformat_minor": 2
}
