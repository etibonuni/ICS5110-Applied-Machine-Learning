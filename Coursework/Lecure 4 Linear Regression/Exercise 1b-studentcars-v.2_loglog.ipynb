{
 "cells": [
  {
   "cell_type": "markdown",
   "metadata": {},
   "source": [
    "# Build a SLR model for the price of a used car (KMs v. Price)\n",
    "This is v.2 of the notebook, using log scales for both price and mileage"
   ]
  },
  {
   "cell_type": "code",
   "execution_count": 2,
   "metadata": {
    "collapsed": true
   },
   "outputs": [],
   "source": [
    "import numpy as np\n",
    "import pandas as pd\n",
    "import matplotlib.pyplot as plt"
   ]
  },
  {
   "cell_type": "markdown",
   "metadata": {},
   "source": [
    "Read the data set from csv file"
   ]
  },
  {
   "cell_type": "code",
   "execution_count": 3,
   "metadata": {
    "collapsed": true
   },
   "outputs": [],
   "source": [
    "df = pd.read_csv(\"student_car_data.csv\", header=None)"
   ]
  },
  {
   "cell_type": "markdown",
   "metadata": {},
   "source": [
    "Take a look at the data."
   ]
  },
  {
   "cell_type": "code",
   "execution_count": 4,
   "metadata": {},
   "outputs": [
    {
     "data": {
      "text/html": [
       "<div>\n",
       "<style>\n",
       "    .dataframe thead tr:only-child th {\n",
       "        text-align: right;\n",
       "    }\n",
       "\n",
       "    .dataframe thead th {\n",
       "        text-align: left;\n",
       "    }\n",
       "\n",
       "    .dataframe tbody tr th {\n",
       "        vertical-align: top;\n",
       "    }\n",
       "</style>\n",
       "<table border=\"1\" class=\"dataframe\">\n",
       "  <thead>\n",
       "    <tr style=\"text-align: right;\">\n",
       "      <th></th>\n",
       "      <th>0</th>\n",
       "      <th>1</th>\n",
       "      <th>2</th>\n",
       "      <th>3</th>\n",
       "      <th>4</th>\n",
       "    </tr>\n",
       "  </thead>\n",
       "  <tbody>\n",
       "    <tr>\n",
       "      <th>0</th>\n",
       "      <td>2017</td>\n",
       "      <td>14,822</td>\n",
       "      <td>�18,700.00</td>\n",
       "      <td>NaN</td>\n",
       "      <td>Toyota Auris HDi</td>\n",
       "    </tr>\n",
       "    <tr>\n",
       "      <th>1</th>\n",
       "      <td>2017</td>\n",
       "      <td>31,286</td>\n",
       "      <td>�14,000.00</td>\n",
       "      <td>NaN</td>\n",
       "      <td>NaN</td>\n",
       "    </tr>\n",
       "    <tr>\n",
       "      <th>2</th>\n",
       "      <td>2017</td>\n",
       "      <td>42,533</td>\n",
       "      <td>�7,300.00</td>\n",
       "      <td>2011.0</td>\n",
       "      <td>Seat Ibiza 1.2TSI</td>\n",
       "    </tr>\n",
       "    <tr>\n",
       "      <th>3</th>\n",
       "      <td>2017</td>\n",
       "      <td>45,312</td>\n",
       "      <td>�6,700.00</td>\n",
       "      <td>2011.0</td>\n",
       "      <td>VW Polo</td>\n",
       "    </tr>\n",
       "    <tr>\n",
       "      <th>4</th>\n",
       "      <td>2017</td>\n",
       "      <td>46,863</td>\n",
       "      <td>�10,700.00</td>\n",
       "      <td>2013.0</td>\n",
       "      <td>VW Polo 1.2 TSI</td>\n",
       "    </tr>\n",
       "    <tr>\n",
       "      <th>5</th>\n",
       "      <td>2017</td>\n",
       "      <td>57,000</td>\n",
       "      <td>�6,100.00</td>\n",
       "      <td>NaN</td>\n",
       "      <td>NaN</td>\n",
       "    </tr>\n",
       "    <tr>\n",
       "      <th>6</th>\n",
       "      <td>2017</td>\n",
       "      <td>60,000</td>\n",
       "      <td>�7,700.00</td>\n",
       "      <td>2013.0</td>\n",
       "      <td>Suzuki Swift</td>\n",
       "    </tr>\n",
       "    <tr>\n",
       "      <th>7</th>\n",
       "      <td>2017</td>\n",
       "      <td>71,010</td>\n",
       "      <td>�5,800.00</td>\n",
       "      <td>2010.0</td>\n",
       "      <td>NaN</td>\n",
       "    </tr>\n",
       "    <tr>\n",
       "      <th>8</th>\n",
       "      <td>2017</td>\n",
       "      <td>84,000</td>\n",
       "      <td>�8,000.00</td>\n",
       "      <td>2012.0</td>\n",
       "      <td>Mazda Demio</td>\n",
       "    </tr>\n",
       "    <tr>\n",
       "      <th>9</th>\n",
       "      <td>2017</td>\n",
       "      <td>85,697</td>\n",
       "      <td>�3,000.00</td>\n",
       "      <td>2002.0</td>\n",
       "      <td>Toyota Vitz</td>\n",
       "    </tr>\n",
       "    <tr>\n",
       "      <th>10</th>\n",
       "      <td>2017</td>\n",
       "      <td>97,000</td>\n",
       "      <td>�4,000.00</td>\n",
       "      <td>NaN</td>\n",
       "      <td>NaN</td>\n",
       "    </tr>\n",
       "    <tr>\n",
       "      <th>11</th>\n",
       "      <td>2017</td>\n",
       "      <td>118,000</td>\n",
       "      <td>�1,500.00</td>\n",
       "      <td>2001.0</td>\n",
       "      <td>Peugeot 206</td>\n",
       "    </tr>\n",
       "    <tr>\n",
       "      <th>12</th>\n",
       "      <td>2017</td>\n",
       "      <td>118,895</td>\n",
       "      <td>�4,100.00</td>\n",
       "      <td>2004.0</td>\n",
       "      <td>PEUGEOT 307 XR 1.4</td>\n",
       "    </tr>\n",
       "    <tr>\n",
       "      <th>13</th>\n",
       "      <td>2017</td>\n",
       "      <td>142,278</td>\n",
       "      <td>�1,200.00</td>\n",
       "      <td>2000.0</td>\n",
       "      <td>VW Polo</td>\n",
       "    </tr>\n",
       "    <tr>\n",
       "      <th>14</th>\n",
       "      <td>2017</td>\n",
       "      <td>178,000</td>\n",
       "      <td>�6,000.00</td>\n",
       "      <td>2007.0</td>\n",
       "      <td>Toyota Auris</td>\n",
       "    </tr>\n",
       "    <tr>\n",
       "      <th>15</th>\n",
       "      <td>2017</td>\n",
       "      <td>199,312</td>\n",
       "      <td>�900.00</td>\n",
       "      <td>NaN</td>\n",
       "      <td>NaN</td>\n",
       "    </tr>\n",
       "    <tr>\n",
       "      <th>16</th>\n",
       "      <td>2017</td>\n",
       "      <td>138,000</td>\n",
       "      <td>�3,000.00</td>\n",
       "      <td>2005.0</td>\n",
       "      <td>Ford Fiesta</td>\n",
       "    </tr>\n",
       "    <tr>\n",
       "      <th>17</th>\n",
       "      <td>2017</td>\n",
       "      <td>110,000</td>\n",
       "      <td>�6,000.00</td>\n",
       "      <td>2007.0</td>\n",
       "      <td>Peugeot 407 GT</td>\n",
       "    </tr>\n",
       "    <tr>\n",
       "      <th>18</th>\n",
       "      <td>2017</td>\n",
       "      <td>45,000</td>\n",
       "      <td>�3,200.00</td>\n",
       "      <td>1998.0</td>\n",
       "      <td>Alfaromeo GTV</td>\n",
       "    </tr>\n",
       "    <tr>\n",
       "      <th>19</th>\n",
       "      <td>2017</td>\n",
       "      <td>42,000</td>\n",
       "      <td>�8,200.00</td>\n",
       "      <td>2012.0</td>\n",
       "      <td>Honda FIT</td>\n",
       "    </tr>\n",
       "  </tbody>\n",
       "</table>\n",
       "</div>"
      ],
      "text/plain": [
       "       0        1           2       3                   4\n",
       "0   2017   14,822  �18,700.00     NaN    Toyota Auris HDi\n",
       "1   2017   31,286  �14,000.00     NaN                 NaN\n",
       "2   2017   42,533   �7,300.00  2011.0   Seat Ibiza 1.2TSI\n",
       "3   2017   45,312   �6,700.00  2011.0             VW Polo\n",
       "4   2017   46,863  �10,700.00  2013.0     VW Polo 1.2 TSI\n",
       "5   2017   57,000   �6,100.00     NaN                 NaN\n",
       "6   2017   60,000   �7,700.00  2013.0        Suzuki Swift\n",
       "7   2017   71,010   �5,800.00  2010.0                 NaN\n",
       "8   2017   84,000   �8,000.00  2012.0         Mazda Demio\n",
       "9   2017   85,697   �3,000.00  2002.0         Toyota Vitz\n",
       "10  2017   97,000   �4,000.00     NaN                 NaN\n",
       "11  2017  118,000   �1,500.00  2001.0         Peugeot 206\n",
       "12  2017  118,895   �4,100.00  2004.0  PEUGEOT 307 XR 1.4\n",
       "13  2017  142,278   �1,200.00  2000.0             VW Polo\n",
       "14  2017  178,000   �6,000.00  2007.0        Toyota Auris\n",
       "15  2017  199,312     �900.00     NaN                 NaN\n",
       "16  2017  138,000   �3,000.00  2005.0         Ford Fiesta\n",
       "17  2017  110,000   �6,000.00  2007.0      Peugeot 407 GT\n",
       "18  2017   45,000   �3,200.00  1998.0       Alfaromeo GTV\n",
       "19  2017   42,000   �8,200.00  2012.0           Honda FIT"
      ]
     },
     "execution_count": 4,
     "metadata": {},
     "output_type": "execute_result"
    }
   ],
   "source": [
    "df"
   ]
  },
  {
   "cell_type": "markdown",
   "metadata": {},
   "source": [
    "Extract the fields we need and clean them up."
   ]
  },
  {
   "cell_type": "code",
   "execution_count": 5,
   "metadata": {
    "collapsed": true
   },
   "outputs": [],
   "source": [
    "df = df.iloc[:,1:3]\n",
    "#df.iloc[:,:].replace(regex=True, inplace=True, to_replace=\",\", value=\"\")\n",
    "df.iloc[:,:].replace(regex=True, inplace=True, to_replace=\"\\D\", value=\"\")\n",
    "df=df.apply(pd.to_numeric, errors=\"ignore\")\n",
    "df.columns = [\"mileage\", \"price\"]\n",
    "df[\"price_thousands\"] = df.price/1000\n",
    "df[\"km_thousands\"] = (df.mileage)/1000"
   ]
  },
  {
   "cell_type": "code",
   "execution_count": 6,
   "metadata": {},
   "outputs": [
    {
     "name": "stdout",
     "output_type": "stream",
     "text": [
      "    mileage    price  price_thousands  km_thousands\n",
      "0     14822  1870000           1870.0        14.822\n",
      "1     31286  1400000           1400.0        31.286\n",
      "2     42533   730000            730.0        42.533\n",
      "3     45312   670000            670.0        45.312\n",
      "4     46863  1070000           1070.0        46.863\n",
      "5     57000   610000            610.0        57.000\n",
      "6     60000   770000            770.0        60.000\n",
      "7     71010   580000            580.0        71.010\n",
      "8     84000   800000            800.0        84.000\n",
      "9     85697   300000            300.0        85.697\n",
      "10    97000   400000            400.0        97.000\n",
      "11   118000   150000            150.0       118.000\n",
      "12   118895   410000            410.0       118.895\n",
      "13   142278   120000            120.0       142.278\n",
      "14   178000   600000            600.0       178.000\n",
      "15   199312    90000             90.0       199.312\n",
      "16   138000   300000            300.0       138.000\n",
      "17   110000   600000            600.0       110.000\n",
      "18    45000   320000            320.0        45.000\n",
      "19    42000   820000            820.0        42.000\n"
     ]
    }
   ],
   "source": [
    "print df"
   ]
  },
  {
   "cell_type": "code",
   "execution_count": null,
   "metadata": {
    "collapsed": true
   },
   "outputs": [],
   "source": []
  },
  {
   "cell_type": "markdown",
   "metadata": {},
   "source": [
    "### Generate best-fit line using SLR\n",
    "First we define functions to fit a linear regression line to a data set..."
   ]
  },
  {
   "cell_type": "code",
   "execution_count": 7,
   "metadata": {
    "collapsed": true
   },
   "outputs": [],
   "source": [
    "def fitLine(data_x, data_y):\n",
    "    sumX = np.sum(data_x)\n",
    "    sumY = np.sum(data_y)\n",
    "    sumXY = np.sum(np.multiply(data_x, data_y))\n",
    "    sumX_2 = np.sum(np.multiply(data_x, data_x))\n",
    "    \n",
    "    n = len(data_x)\n",
    "    \n",
    "    m = (n*sumXY - sumX*sumY) / (n * sumX_2 - (sumX*sumX))\n",
    "    \n",
    "    b = (sumY * sumX_2 - sumXY*sumX) / (n*sumX_2 - (sumX*sumX))\n",
    "    \n",
    "    return (m,b)"
   ]
  },
  {
   "cell_type": "markdown",
   "metadata": {},
   "source": [
    "... and one to plot a line given the slope and intercept"
   ]
  },
  {
   "cell_type": "code",
   "execution_count": 8,
   "metadata": {
    "collapsed": true
   },
   "outputs": [],
   "source": [
    "def abline(slope, intercept):\n",
    "    \"\"\"Plot a line from slope and intercept\"\"\"\n",
    "    axes = plt.gca()\n",
    "    x_vals = np.array(axes.get_xlim())\n",
    "    y_vals = intercept + slope * x_vals\n",
    "\n",
    "    plt.plot(x_vals, y_vals, '--')"
   ]
  },
  {
   "cell_type": "markdown",
   "metadata": {},
   "source": [
    "Now we plot our dataset and a fitted regression line..."
   ]
  },
  {
   "cell_type": "code",
   "execution_count": 9,
   "metadata": {
    "scrolled": true
   },
   "outputs": [
    {
     "data": {
      "image/png": "[encoded data removed]",
      "text/plain": [
       "<matplotlib.figure.Figure at 0x7fb308582490>"
      ]
     },
     "metadata": {},
     "output_type": "display_data"
    }
   ],
   "source": [
    "plt.figure()\n",
    "plt.title(\"Car Depreciation\")\n",
    "plt.xlabel(\"Mileage (KM/1000)\")\n",
    "plt.ylabel(\"Price /1000\")\n",
    "#plt.axis([min_mileage, max_mileage, min_price, max_price])\n",
    "\n",
    "mileage_prices = df[[\"km_thousands\", \"price_thousands\"]]\n",
    "\n",
    "(m,b) = fitLine(mileage_prices.iloc[:,0], mileage_prices.iloc[:,1])\n",
    "\n",
    "plt.plot(df.km_thousands, df.price_thousands,\"ro\")\n",
    "\n",
    "abline(m,b)\n",
    "\n",
    "plt.show()\n",
    "plt.close()"
   ]
  },
  {
   "cell_type": "markdown",
   "metadata": {},
   "source": [
    "Calculate R^2 for our line of best fit..."
   ]
  },
  {
   "cell_type": "code",
   "execution_count": 10,
   "metadata": {
    "collapsed": true
   },
   "outputs": [],
   "source": [
    "def calcRsquared(dataset, y_hat):\n",
    "    r2Num = sum(np.square(dataset[:,1]-y_hat))\n",
    "\n",
    "    y_avg = np.mean(dataset[:,1])\n",
    "\n",
    "    r2Den = sum(np.square(dataset[:,1]-y_avg))\n",
    "\n",
    "    r2 = 1.-(r2Num/r2Den)\n",
    "\n",
    "    return r2"
   ]
  },
  {
   "cell_type": "code",
   "execution_count": 11,
   "metadata": {},
   "outputs": [
    {
     "data": {
      "text/plain": [
       "0.47055838046690779"
      ]
     },
     "execution_count": 11,
     "metadata": {},
     "output_type": "execute_result"
    }
   ],
   "source": [
    "# Calculate R Squared\n",
    "dset = np.array(df[[\"km_thousands\", \"price_thousands\"]])\n",
    "\n",
    "y_hat = b+m*dset[:,0]\n",
    "\n",
    "calcRsquared(dset, y_hat)\n"
   ]
  },
  {
   "cell_type": "markdown",
   "metadata": {},
   "source": [
    "This accuracy is not great...visual inspection of the above plot suggests that the data would conform better to a decaying curve asymptotically approaching zero. This is not surprising because the value of a car cannot go negative, no matter how high the mileage. This sounds like a log curve, so let's try fitting a log curve to the data...\n",
    "We define a function to plot a log curve..."
   ]
  },
  {
   "cell_type": "code",
   "execution_count": 12,
   "metadata": {
    "collapsed": true
   },
   "outputs": [],
   "source": [
    "def plotlog(m,b):\n",
    "    axes = plt.gca()\n",
    "    x_vals = np.arange(axes.get_xlim()[0], axes.get_xlim()[1], (axes.get_xlim()[1]-axes.get_xlim()[0])/20)\n",
    "    y_vals = np.exp(b+m*(np.log(x_vals)))\n",
    "    \n",
    "    plt.plot(x_vals, y_vals, \"--\")"
   ]
  },
  {
   "cell_type": "markdown",
   "metadata": {},
   "source": [
    "We create a new data column taking the log of the mileage and fit a regression line using the log scale instead of the linear scale and plot the data on a log scale..."
   ]
  },
  {
   "cell_type": "code",
   "execution_count": 13,
   "metadata": {},
   "outputs": [
    {
     "data": {
      "image/png": "[encoded data removed]",
      "text/plain": [
       "<matplotlib.figure.Figure at 0x7fb3010e7f10>"
      ]
     },
     "metadata": {},
     "output_type": "display_data"
    }
   ],
   "source": [
    "df[\"km_log\"] = np.log(df[\"km_thousands\"])\n",
    "df[\"price_log\"] = np.log(df[\"price_thousands\"])\n",
    "\n",
    "plt.figure()\n",
    "\n",
    "plt.xlabel(\"Mileage (KM/1000)\")\n",
    "plt.ylabel(\"Price /1000\")\n",
    "#plt.axis([min_mileage, max_mileage, min_price, max_price])\n",
    "\n",
    "mileage_prices = df[[\"km_log\", \"price_log\"]]\n",
    "\n",
    "(m,b) = fitLine(mileage_prices.iloc[:,0], mileage_prices.iloc[:,1])\n",
    "\n",
    "plt.plot(df.km_log, df.price_log,\"ro\")\n",
    "\n",
    "abline(m,b)\n",
    "\n",
    "plt.show()\n",
    "plt.close()"
   ]
  },
  {
   "cell_type": "markdown",
   "metadata": {},
   "source": [
    "The data seems to fit much better on a log scale than a linear scale...let's plot the log line on a linear scale..."
   ]
  },
  {
   "cell_type": "code",
   "execution_count": 14,
   "metadata": {},
   "outputs": [
    {
     "data": {
      "image/png": "[encoded data removed]",
      "text/plain": [
       "<matplotlib.figure.Figure at 0x7fb300fe6850>"
      ]
     },
     "metadata": {},
     "output_type": "display_data"
    }
   ],
   "source": [
    "plt.figure()\n",
    "\n",
    "plt.xlabel(\"Mileage (KM/1000)\")\n",
    "plt.ylabel(\"Price /1000\")\n",
    "#plt.axis([min_mileage, max_mileage, min_price, max_price])\n",
    "\n",
    "mileage_prices = df[[\"km_thousands\", \"price_thousands\"]]\n",
    "\n",
    "plt.plot(df.km_thousands, df.price_thousands,\"ro\")\n",
    "\n",
    "plotlog(m,b)\n",
    "\n",
    "plt.show()\n",
    "plt.close()"
   ]
  },
  {
   "cell_type": "markdown",
   "metadata": {},
   "source": [
    "...and calculate r^2 for this new line..."
   ]
  },
  {
   "cell_type": "code",
   "execution_count": 15,
   "metadata": {},
   "outputs": [
    {
     "data": {
      "text/plain": [
       "0.7312897563389984"
      ]
     },
     "execution_count": 15,
     "metadata": {},
     "output_type": "execute_result"
    }
   ],
   "source": [
    "y_hat = np.exp(b+m*np.log(dset[:,0]))\n",
    "\n",
    "calcRsquared(dset, y_hat)"
   ]
  },
  {
   "cell_type": "markdown",
   "metadata": {},
   "source": [
    "This accuracy is better than that in v.1 of the notebook where we go only 0.67709065538347613 without removing any visually-perceived outliers. In the log/log plot, it is not so clear which are the outliers, if any, however just to compare with v.1 we remove the same points and re-calculate our accuracy."
   ]
  },
  {
   "cell_type": "code",
   "execution_count": 16,
   "metadata": {},
   "outputs": [
    {
     "data": {
      "text/html": [
       "<div>\n",
       "<style>\n",
       "    .dataframe thead tr:only-child th {\n",
       "        text-align: right;\n",
       "    }\n",
       "\n",
       "    .dataframe thead th {\n",
       "        text-align: left;\n",
       "    }\n",
       "\n",
       "    .dataframe tbody tr th {\n",
       "        vertical-align: top;\n",
       "    }\n",
       "</style>\n",
       "<table border=\"1\" class=\"dataframe\">\n",
       "  <thead>\n",
       "    <tr style=\"text-align: right;\">\n",
       "      <th></th>\n",
       "      <th>mileage</th>\n",
       "      <th>price</th>\n",
       "      <th>price_thousands</th>\n",
       "      <th>km_thousands</th>\n",
       "      <th>km_log</th>\n",
       "      <th>price_log</th>\n",
       "    </tr>\n",
       "  </thead>\n",
       "  <tbody>\n",
       "    <tr>\n",
       "      <th>0</th>\n",
       "      <td>14822</td>\n",
       "      <td>1870000</td>\n",
       "      <td>1870.0</td>\n",
       "      <td>14.822</td>\n",
       "      <td>2.696113</td>\n",
       "      <td>7.533694</td>\n",
       "    </tr>\n",
       "    <tr>\n",
       "      <th>1</th>\n",
       "      <td>31286</td>\n",
       "      <td>1400000</td>\n",
       "      <td>1400.0</td>\n",
       "      <td>31.286</td>\n",
       "      <td>3.443171</td>\n",
       "      <td>7.244228</td>\n",
       "    </tr>\n",
       "    <tr>\n",
       "      <th>2</th>\n",
       "      <td>42533</td>\n",
       "      <td>730000</td>\n",
       "      <td>730.0</td>\n",
       "      <td>42.533</td>\n",
       "      <td>3.750280</td>\n",
       "      <td>6.593045</td>\n",
       "    </tr>\n",
       "    <tr>\n",
       "      <th>3</th>\n",
       "      <td>45312</td>\n",
       "      <td>670000</td>\n",
       "      <td>670.0</td>\n",
       "      <td>45.312</td>\n",
       "      <td>3.813572</td>\n",
       "      <td>6.507278</td>\n",
       "    </tr>\n",
       "    <tr>\n",
       "      <th>4</th>\n",
       "      <td>46863</td>\n",
       "      <td>1070000</td>\n",
       "      <td>1070.0</td>\n",
       "      <td>46.863</td>\n",
       "      <td>3.847228</td>\n",
       "      <td>6.975414</td>\n",
       "    </tr>\n",
       "    <tr>\n",
       "      <th>5</th>\n",
       "      <td>57000</td>\n",
       "      <td>610000</td>\n",
       "      <td>610.0</td>\n",
       "      <td>57.000</td>\n",
       "      <td>4.043051</td>\n",
       "      <td>6.413459</td>\n",
       "    </tr>\n",
       "    <tr>\n",
       "      <th>6</th>\n",
       "      <td>60000</td>\n",
       "      <td>770000</td>\n",
       "      <td>770.0</td>\n",
       "      <td>60.000</td>\n",
       "      <td>4.094345</td>\n",
       "      <td>6.646391</td>\n",
       "    </tr>\n",
       "    <tr>\n",
       "      <th>7</th>\n",
       "      <td>71010</td>\n",
       "      <td>580000</td>\n",
       "      <td>580.0</td>\n",
       "      <td>71.010</td>\n",
       "      <td>4.262821</td>\n",
       "      <td>6.363028</td>\n",
       "    </tr>\n",
       "    <tr>\n",
       "      <th>8</th>\n",
       "      <td>84000</td>\n",
       "      <td>800000</td>\n",
       "      <td>800.0</td>\n",
       "      <td>84.000</td>\n",
       "      <td>4.430817</td>\n",
       "      <td>6.684612</td>\n",
       "    </tr>\n",
       "    <tr>\n",
       "      <th>9</th>\n",
       "      <td>85697</td>\n",
       "      <td>300000</td>\n",
       "      <td>300.0</td>\n",
       "      <td>85.697</td>\n",
       "      <td>4.450818</td>\n",
       "      <td>5.703782</td>\n",
       "    </tr>\n",
       "    <tr>\n",
       "      <th>10</th>\n",
       "      <td>97000</td>\n",
       "      <td>400000</td>\n",
       "      <td>400.0</td>\n",
       "      <td>97.000</td>\n",
       "      <td>4.574711</td>\n",
       "      <td>5.991465</td>\n",
       "    </tr>\n",
       "    <tr>\n",
       "      <th>11</th>\n",
       "      <td>118000</td>\n",
       "      <td>150000</td>\n",
       "      <td>150.0</td>\n",
       "      <td>118.000</td>\n",
       "      <td>4.770685</td>\n",
       "      <td>5.010635</td>\n",
       "    </tr>\n",
       "    <tr>\n",
       "      <th>12</th>\n",
       "      <td>118895</td>\n",
       "      <td>410000</td>\n",
       "      <td>410.0</td>\n",
       "      <td>118.895</td>\n",
       "      <td>4.778241</td>\n",
       "      <td>6.016157</td>\n",
       "    </tr>\n",
       "    <tr>\n",
       "      <th>13</th>\n",
       "      <td>142278</td>\n",
       "      <td>120000</td>\n",
       "      <td>120.0</td>\n",
       "      <td>142.278</td>\n",
       "      <td>4.957783</td>\n",
       "      <td>4.787492</td>\n",
       "    </tr>\n",
       "    <tr>\n",
       "      <th>15</th>\n",
       "      <td>199312</td>\n",
       "      <td>90000</td>\n",
       "      <td>90.0</td>\n",
       "      <td>199.312</td>\n",
       "      <td>5.294871</td>\n",
       "      <td>4.499810</td>\n",
       "    </tr>\n",
       "    <tr>\n",
       "      <th>16</th>\n",
       "      <td>138000</td>\n",
       "      <td>300000</td>\n",
       "      <td>300.0</td>\n",
       "      <td>138.000</td>\n",
       "      <td>4.927254</td>\n",
       "      <td>5.703782</td>\n",
       "    </tr>\n",
       "    <tr>\n",
       "      <th>17</th>\n",
       "      <td>110000</td>\n",
       "      <td>600000</td>\n",
       "      <td>600.0</td>\n",
       "      <td>110.000</td>\n",
       "      <td>4.700480</td>\n",
       "      <td>6.396930</td>\n",
       "    </tr>\n",
       "    <tr>\n",
       "      <th>19</th>\n",
       "      <td>42000</td>\n",
       "      <td>820000</td>\n",
       "      <td>820.0</td>\n",
       "      <td>42.000</td>\n",
       "      <td>3.737670</td>\n",
       "      <td>6.709304</td>\n",
       "    </tr>\n",
       "  </tbody>\n",
       "</table>\n",
       "</div>"
      ],
      "text/plain": [
       "    mileage    price  price_thousands  km_thousands    km_log  price_log\n",
       "0     14822  1870000           1870.0        14.822  2.696113   7.533694\n",
       "1     31286  1400000           1400.0        31.286  3.443171   7.244228\n",
       "2     42533   730000            730.0        42.533  3.750280   6.593045\n",
       "3     45312   670000            670.0        45.312  3.813572   6.507278\n",
       "4     46863  1070000           1070.0        46.863  3.847228   6.975414\n",
       "5     57000   610000            610.0        57.000  4.043051   6.413459\n",
       "6     60000   770000            770.0        60.000  4.094345   6.646391\n",
       "7     71010   580000            580.0        71.010  4.262821   6.363028\n",
       "8     84000   800000            800.0        84.000  4.430817   6.684612\n",
       "9     85697   300000            300.0        85.697  4.450818   5.703782\n",
       "10    97000   400000            400.0        97.000  4.574711   5.991465\n",
       "11   118000   150000            150.0       118.000  4.770685   5.010635\n",
       "12   118895   410000            410.0       118.895  4.778241   6.016157\n",
       "13   142278   120000            120.0       142.278  4.957783   4.787492\n",
       "15   199312    90000             90.0       199.312  5.294871   4.499810\n",
       "16   138000   300000            300.0       138.000  4.927254   5.703782\n",
       "17   110000   600000            600.0       110.000  4.700480   6.396930\n",
       "19    42000   820000            820.0        42.000  3.737670   6.709304"
      ]
     },
     "execution_count": 16,
     "metadata": {},
     "output_type": "execute_result"
    }
   ],
   "source": [
    "df = df.drop([14,18])\n",
    "df"
   ]
  },
  {
   "cell_type": "code",
   "execution_count": 17,
   "metadata": {},
   "outputs": [
    {
     "data": {
      "image/png": "[encoded data removed]",
      "text/plain": [
       "<matplotlib.figure.Figure at 0x7fb30856fe90>"
      ]
     },
     "metadata": {},
     "output_type": "display_data"
    }
   ],
   "source": [
    "plt.figure()\n",
    "\n",
    "plt.xlabel(\"Mileage (KM/1000)\")\n",
    "plt.ylabel(\"Price /1000\")\n",
    "#plt.axis([min_mileage, max_mileage, min_price, max_price])\n",
    "\n",
    "mileage_prices = df[[\"km_log\", \"price_log\"]]\n",
    "\n",
    "(m,b) = fitLine(mileage_prices.iloc[:,0], mileage_prices.iloc[:,1])\n",
    "\n",
    "plt.plot(df.km_log, df.price_log,\"ro\")\n",
    "\n",
    "abline(m,b)\n",
    "\n",
    "plt.show()\n",
    "plt.close()"
   ]
  },
  {
   "cell_type": "code",
   "execution_count": 18,
   "metadata": {},
   "outputs": [
    {
     "data": {
      "text/plain": [
       "0.60688516027384165"
      ]
     },
     "execution_count": 18,
     "metadata": {},
     "output_type": "execute_result"
    }
   ],
   "source": [
    "dset = np.array(df[[\"km_thousands\", \"price_thousands\"]])\n",
    "y_hat = np.exp(b+m*np.log(dset[:,0]))\n",
    "\n",
    "calcRsquared(dset, y_hat)"
   ]
  },
  {
   "cell_type": "markdown",
   "metadata": {},
   "source": [
    "Compared to v.1 where we got an accuracy of 0.8 after removing two apparent outliers, here removing the same two points resulted in a lower accuracy. Perhaps the points weren't \"outliers\" at all..."
   ]
  },
  {
   "cell_type": "code",
   "execution_count": 19,
   "metadata": {},
   "outputs": [
    {
     "data": {
      "image/png": "[encoded data removed]",
      "text/plain": [
       "<matplotlib.figure.Figure at 0x7fb300f1c150>"
      ]
     },
     "metadata": {},
     "output_type": "display_data"
    }
   ],
   "source": [
    "plt.figure()\n",
    "\n",
    "plt.xlabel(\"Mileage (KM/1000)\")\n",
    "plt.ylabel(\"Price /1000\")\n",
    "#plt.axis([min_mileage, max_mileage, min_price, max_price])\n",
    "\n",
    "mileage_prices = df[[\"km_thousands\", \"price_thousands\"]]\n",
    "\n",
    "plt.plot(df.km_thousands, df.price_thousands,\"ro\")\n",
    "\n",
    "plotlog(m,b)\n",
    "\n",
    "plt.show()\n",
    "plt.close()"
   ]
  },
  {
   "cell_type": "code",
   "execution_count": null,
   "metadata": {
    "collapsed": true
   },
   "outputs": [],
   "source": []
  }
 ],
 "metadata": {
  "kernelspec": {
   "display_name": "Python 2",
   "language": "python",
   "name": "python2"
  },
  "language_info": {
   "codemirror_mode": {
    "name": "ipython",
    "version": 2
   },
   "file_extension": ".py",
   "mimetype": "text/x-python",
   "name": "python",
   "nbconvert_exporter": "python",
   "pygments_lexer": "ipython2",
   "version": "2.7.14"
  }
 },
 "nbformat": 4,
 "nbformat_minor": 2
}
