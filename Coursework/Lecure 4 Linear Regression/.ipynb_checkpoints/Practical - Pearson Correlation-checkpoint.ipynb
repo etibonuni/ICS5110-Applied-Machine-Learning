{
 "cells": [
  {
   "cell_type": "markdown",
   "metadata": {},
   "source": [
    "# Compute Pearson's Correlation Coefficient (r) for the following tuples (study hours, study-unit mark)"
   ]
  },
  {
   "cell_type": "code",
   "execution_count": 1,
   "metadata": {},
   "outputs": [],
   "source": [
    "import numpy as np"
   ]
  },
  {
   "cell_type": "code",
   "execution_count": 23,
   "metadata": {},
   "outputs": [],
   "source": [
    "def pearsonCorr(x, y):\n",
    "    x_mean = sum(x)/len(x)\n",
    "    y_mean = sum(y)/len(y)\n",
    "    \n",
    "    numer = sum([(x[i]-x_mean)*(y[i]-y_mean) for i in range(len(x))])\n",
    "    \n",
    "    denom = np.sqrt(sum([(x[i]-x_mean)**2 for i in range(len(x))]))*np.sqrt(sum([(y[i]-y_mean)**2 for i in range(len(y))])) \n",
    "    \n",
    "    return numer/denom\n",
    "\n"
   ]
  },
  {
   "cell_type": "code",
   "execution_count": 25,
   "metadata": {},
   "outputs": [
    {
     "data": {
      "text/plain": [
       "0.98181827341003769"
      ]
     },
     "execution_count": 25,
     "metadata": {},
     "output_type": "execute_result"
    }
   ],
   "source": [
    "data = [[84,76,90,63,55,60,34], [70,64,83,45,40,38,20]]\n",
    "\n",
    "pearsonCorr(data[0], data[1])"
   ]
  }
 ],
 "metadata": {
  "kernelspec": {
   "display_name": "Python 2",
   "language": "python",
   "name": "python2"
  },
  "language_info": {
   "codemirror_mode": {
    "name": "ipython",
    "version": 2
   },
   "file_extension": ".py",
   "mimetype": "text/x-python",
   "name": "python",
   "nbconvert_exporter": "python",
   "pygments_lexer": "ipython2",
   "version": "2.7.14"
  }
 },
 "nbformat": 4,
 "nbformat_minor": 2
}
