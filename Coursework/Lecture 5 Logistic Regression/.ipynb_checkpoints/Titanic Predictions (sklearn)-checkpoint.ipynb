{
 "cells": [
  {
   "cell_type": "code",
   "execution_count": 236,
   "metadata": {},
   "outputs": [],
   "source": [
    "import numpy as np\n",
    "import pandas as pd\n",
    "import sklearn.linear_model as sk_lin\n",
    "import matplotlib.pyplot as plt\n",
    "from sklearn.model_selection import cross_val_score\n",
    "from sklearn import preprocessing\n",
    "\n",
    "%matplotlib notebook"
   ]
  },
  {
   "cell_type": "markdown",
   "metadata": {},
   "source": [
    "#### Take a look at the data"
   ]
  },
  {
   "cell_type": "code",
   "execution_count": 237,
   "metadata": {},
   "outputs": [],
   "source": [
    "df = pd.read_csv(\"train.csv\")\n"
   ]
  },
  {
   "cell_type": "markdown",
   "metadata": {},
   "source": [
    "###### Are there any outliers in the scaler fields that we have?\n",
    "The Age field look fine, but the Fare field evidences a large number of \"outliers\" with three in particular being twice the size of their next largest neighbour. I investigated these data points in order to understand if they are a problem in the data, or whether they are real and researching the names of the passengers, revealed that those particular passengers had indeed been staying in the most luxurious suite on the ship, hence the expensive fare."
   ]
  },
  {
   "cell_type": "markdown",
   "metadata": {},
   "source": [
    "#### Drop fields we don't need.\n",
    "Dropped passenger Ids and names as those are irrelevant for the purpose of Logistic Regression. Also dropped cabin. Extracting the deck on which the passenger was housed might be relevant, however the data in this column is quite sparse and inconsistent, so it is not clear how to impute the missing values."
   ]
  },
  {
   "cell_type": "code",
   "execution_count": 238,
   "metadata": {},
   "outputs": [
    {
     "data": {
      "text/html": [
       "<div>\n",
       "<style>\n",
       "    .dataframe thead tr:only-child th {\n",
       "        text-align: right;\n",
       "    }\n",
       "\n",
       "    .dataframe thead th {\n",
       "        text-align: left;\n",
       "    }\n",
       "\n",
       "    .dataframe tbody tr th {\n",
       "        vertical-align: top;\n",
       "    }\n",
       "</style>\n",
       "<table border=\"1\" class=\"dataframe\">\n",
       "  <thead>\n",
       "    <tr style=\"text-align: right;\">\n",
       "      <th></th>\n",
       "      <th>Survived</th>\n",
       "      <th>Pclass</th>\n",
       "      <th>Sex</th>\n",
       "      <th>Age</th>\n",
       "      <th>SibSp</th>\n",
       "      <th>Parch</th>\n",
       "      <th>Fare</th>\n",
       "      <th>Embarked</th>\n",
       "    </tr>\n",
       "  </thead>\n",
       "  <tbody>\n",
       "    <tr>\n",
       "      <th>0</th>\n",
       "      <td>0</td>\n",
       "      <td>3</td>\n",
       "      <td>male</td>\n",
       "      <td>22.0</td>\n",
       "      <td>1</td>\n",
       "      <td>0</td>\n",
       "      <td>7.2500</td>\n",
       "      <td>S</td>\n",
       "    </tr>\n",
       "    <tr>\n",
       "      <th>1</th>\n",
       "      <td>1</td>\n",
       "      <td>1</td>\n",
       "      <td>female</td>\n",
       "      <td>38.0</td>\n",
       "      <td>1</td>\n",
       "      <td>0</td>\n",
       "      <td>71.2833</td>\n",
       "      <td>C</td>\n",
       "    </tr>\n",
       "    <tr>\n",
       "      <th>2</th>\n",
       "      <td>1</td>\n",
       "      <td>3</td>\n",
       "      <td>female</td>\n",
       "      <td>26.0</td>\n",
       "      <td>0</td>\n",
       "      <td>0</td>\n",
       "      <td>7.9250</td>\n",
       "      <td>S</td>\n",
       "    </tr>\n",
       "    <tr>\n",
       "      <th>3</th>\n",
       "      <td>1</td>\n",
       "      <td>1</td>\n",
       "      <td>female</td>\n",
       "      <td>35.0</td>\n",
       "      <td>1</td>\n",
       "      <td>0</td>\n",
       "      <td>53.1000</td>\n",
       "      <td>S</td>\n",
       "    </tr>\n",
       "    <tr>\n",
       "      <th>4</th>\n",
       "      <td>0</td>\n",
       "      <td>3</td>\n",
       "      <td>male</td>\n",
       "      <td>35.0</td>\n",
       "      <td>0</td>\n",
       "      <td>0</td>\n",
       "      <td>8.0500</td>\n",
       "      <td>S</td>\n",
       "    </tr>\n",
       "  </tbody>\n",
       "</table>\n",
       "</div>"
      ],
      "text/plain": [
       "   Survived  Pclass     Sex   Age  SibSp  Parch     Fare Embarked\n",
       "0         0       3    male  22.0      1      0   7.2500        S\n",
       "1         1       1  female  38.0      1      0  71.2833        C\n",
       "2         1       3  female  26.0      0      0   7.9250        S\n",
       "3         1       1  female  35.0      1      0  53.1000        S\n",
       "4         0       3    male  35.0      0      0   8.0500        S"
      ]
     },
     "execution_count": 238,
     "metadata": {},
     "output_type": "execute_result"
    }
   ],
   "source": [
    "df = df[[\"Survived\", \"Pclass\", \"Sex\", \"Age\", \"SibSp\", \"Parch\", \"Fare\", \"Embarked\"]]\n",
    "df.head()\n",
    "\n"
   ]
  },
  {
   "cell_type": "markdown",
   "metadata": {},
   "source": [
    "#### Some data cleaning\n",
    "The Sex field is mapped to 0 and 1 while Age, SibSp, Parch and Fare fields are normalized ((x-min(x))/span(x)). PClass and embarked, being multi-class fields are split into |classes|-1 binary fields (one-hot encoding). Also any NaN fields are imputed to 0."
   ]
  },
  {
   "cell_type": "code",
   "execution_count": 245,
   "metadata": {},
   "outputs": [
    {
     "ename": "TypeError",
     "evalue": "fit() takes at least 2 arguments (1 given)",
     "output_type": "error",
     "traceback": [
      "\u001b[0;31m\u001b[0m",
      "\u001b[0;31mTypeError\u001b[0mTraceback (most recent call last)",
      "\u001b[0;32m<ipython-input-245-df7020f27c60>\u001b[0m in \u001b[0;36m<module>\u001b[0;34m()\u001b[0m\n\u001b[1;32m     40\u001b[0m \u001b[0;34m\u001b[0m\u001b[0m\n\u001b[1;32m     41\u001b[0m \u001b[0menc\u001b[0m \u001b[0;34m=\u001b[0m \u001b[0mpreprocessing\u001b[0m\u001b[0;34m.\u001b[0m\u001b[0mOneHotEncoder\u001b[0m\u001b[0;34m(\u001b[0m\u001b[0;34m)\u001b[0m\u001b[0;34m\u001b[0m\u001b[0m\n\u001b[0;32m---> 42\u001b[0;31m \u001b[0menc\u001b[0m\u001b[0;34m.\u001b[0m\u001b[0mfit\u001b[0m\u001b[0;34m(\u001b[0m\u001b[0;34m)\u001b[0m\u001b[0;34m\u001b[0m\u001b[0m\n\u001b[0m\u001b[1;32m     43\u001b[0m \u001b[0mdf\u001b[0m\u001b[0;34m.\u001b[0m\u001b[0mdescribe\u001b[0m\u001b[0;34m(\u001b[0m\u001b[0;34m)\u001b[0m\u001b[0;34m\u001b[0m\u001b[0m\n\u001b[1;32m     44\u001b[0m \u001b[0;34m\u001b[0m\u001b[0m\n",
      "\u001b[0;31mTypeError\u001b[0m: fit() takes at least 2 arguments (1 given)"
     ]
    }
   ],
   "source": [
    "# Convert Sex field to 1/0\n",
    "df = df.fillna(0)\n",
    "\n",
    "sexmap = {\"male\":1, \"female\":0}\n",
    "df[\"Sex\"] = df[\"Sex\"].map(sexmap)\n",
    "\n",
    "# Normalize Age\n",
    "#span = np.max(df[\"Age\"]) - np.min(df[\"Age\"])\n",
    "\n",
    "#df[\"Age\"] = (df[\"Age\"]-np.min(df[\"Age\"]))/span\n",
    "\n",
    "# Tried joining SibSp and Parch into a single \"Family\" field, but results in lower accuracy\n",
    "#df[\"Family\"] = df[\"SibSp\"]+df[\"Parch\"]\n",
    "#span = np.max(df[\"Family\"]) - np.min(df[\"Family\"])\n",
    "#df[\"Family\"] = (df[\"Family\"]-np.min(df[\"Family\"]))/span\n",
    "\n",
    "scaler = preprocessing.StandardScaler().fit(df[[\"SibSp\", \"Parch\", \"Fare\", \"Age\"]])\n",
    "df.loc[:,[\"SibSp\", \"Parch\", \"Fare\", \"Age\"]] = scaler.transform(df[[\"SibSp\", \"Parch\", \"Fare\", \"Age\"]])\n",
    "# Normalize SibSp\n",
    "#span = np.max(df[\"SibSp\"]) - np.min(df[\"SibSp\"])\n",
    "#\n",
    "#df[\"SibSp\"] = (df[\"SibSp\"]-np.min(df[\"SibSp\"]))/span\n",
    "#\n",
    "## Normalize Parch\n",
    "#span = np.max(df[\"Parch\"]) - np.min(df[\"Parch\"])\n",
    "#\n",
    "#df[\"Parch\"] = (df[\"Parch\"]-np.min(df[\"Parch\"]))/span\n",
    "#\n",
    "## Normalize Fare\n",
    "#span = np.max(df[\"Fare\"]) - np.min(df[\"Fare\"])\n",
    "#\n",
    "#df[\"Fare\"] = (df[\"Fare\"]-np.min(df[\"Fare\"]))/span\n",
    "\n",
    "\n",
    "\n",
    "# Encode categorical values in 1-hot encoding\n",
    "#pclass_1hot = pd.get_dummies(df[\"Pclass\"])\n",
    "#pclass_1hot.columns = [\"pClass_\"+str(pclass_1hot.columns[i]) for i in range(0,len(pclass_1hot.columns))]\n",
    "#df=df.join(pclass_1hot.iloc[:,0:-1])\n",
    "\n",
    "enc = preprocessing.OneHotEncoder()\n",
    "enc.fit(df[[\"Pclass\"]]);\n",
    "\n",
    "df.describe()\n",
    "\n",
    "# Commented out as the \"embarcation port\" does not seem to make any difference to the accuracy\n",
    "#embarked_1hot = pd.get_dummies(df[\"Embarked\"])\n",
    "#embarked_1hot.columns = [\"Embarked_\"+str(embarked_1hot.columns[i]) for i in range(0, len(embarked_1hot.columns))]\n",
    "#df=df.join(embarked_1hot.iloc[:,0:-1])\n",
    "\n",
    "df = df.drop([\"Pclass\", \"Embarked\"], axis=1)\n",
    "\n",
    "\n",
    "\n",
    "# Drop outliers in Fare -> Commented out as results in worse accuracy\n",
    "#q75, q25 = np.percentile(df[\"Fare\"], [75 ,25])\n",
    "#iqr = q75 - q25\n",
    "#df = df[df[\"Fare\"] <= iqr*3]\n",
    "\n"
   ]
  },
  {
   "cell_type": "markdown",
   "metadata": {},
   "source": [
    "#### The new shape of the data set..."
   ]
  },
  {
   "cell_type": "code",
   "execution_count": 240,
   "metadata": {},
   "outputs": [
    {
     "data": {
      "text/html": [
       "<div>\n",
       "<style>\n",
       "    .dataframe thead tr:only-child th {\n",
       "        text-align: right;\n",
       "    }\n",
       "\n",
       "    .dataframe thead th {\n",
       "        text-align: left;\n",
       "    }\n",
       "\n",
       "    .dataframe tbody tr th {\n",
       "        vertical-align: top;\n",
       "    }\n",
       "</style>\n",
       "<table border=\"1\" class=\"dataframe\">\n",
       "  <thead>\n",
       "    <tr style=\"text-align: right;\">\n",
       "      <th></th>\n",
       "      <th>Survived</th>\n",
       "      <th>Sex</th>\n",
       "      <th>Age</th>\n",
       "      <th>SibSp</th>\n",
       "      <th>Parch</th>\n",
       "      <th>Fare</th>\n",
       "      <th>pClass_1</th>\n",
       "      <th>pClass_2</th>\n",
       "    </tr>\n",
       "  </thead>\n",
       "  <tbody>\n",
       "    <tr>\n",
       "      <th>0</th>\n",
       "      <td>0</td>\n",
       "      <td>1</td>\n",
       "      <td>-0.102313</td>\n",
       "      <td>0.432793</td>\n",
       "      <td>-0.473674</td>\n",
       "      <td>-0.502445</td>\n",
       "      <td>0</td>\n",
       "      <td>0</td>\n",
       "    </tr>\n",
       "    <tr>\n",
       "      <th>1</th>\n",
       "      <td>1</td>\n",
       "      <td>0</td>\n",
       "      <td>0.807492</td>\n",
       "      <td>0.432793</td>\n",
       "      <td>-0.473674</td>\n",
       "      <td>0.786845</td>\n",
       "      <td>1</td>\n",
       "      <td>0</td>\n",
       "    </tr>\n",
       "    <tr>\n",
       "      <th>2</th>\n",
       "      <td>1</td>\n",
       "      <td>0</td>\n",
       "      <td>0.125138</td>\n",
       "      <td>-0.474545</td>\n",
       "      <td>-0.473674</td>\n",
       "      <td>-0.488854</td>\n",
       "      <td>0</td>\n",
       "      <td>0</td>\n",
       "    </tr>\n",
       "    <tr>\n",
       "      <th>3</th>\n",
       "      <td>1</td>\n",
       "      <td>0</td>\n",
       "      <td>0.636903</td>\n",
       "      <td>0.432793</td>\n",
       "      <td>-0.473674</td>\n",
       "      <td>0.420730</td>\n",
       "      <td>1</td>\n",
       "      <td>0</td>\n",
       "    </tr>\n",
       "    <tr>\n",
       "      <th>4</th>\n",
       "      <td>0</td>\n",
       "      <td>1</td>\n",
       "      <td>0.636903</td>\n",
       "      <td>-0.474545</td>\n",
       "      <td>-0.473674</td>\n",
       "      <td>-0.486337</td>\n",
       "      <td>0</td>\n",
       "      <td>0</td>\n",
       "    </tr>\n",
       "  </tbody>\n",
       "</table>\n",
       "</div>"
      ],
      "text/plain": [
       "   Survived  Sex       Age     SibSp     Parch      Fare  pClass_1  pClass_2\n",
       "0         0    1 -0.102313  0.432793 -0.473674 -0.502445         0         0\n",
       "1         1    0  0.807492  0.432793 -0.473674  0.786845         1         0\n",
       "2         1    0  0.125138 -0.474545 -0.473674 -0.488854         0         0\n",
       "3         1    0  0.636903  0.432793 -0.473674  0.420730         1         0\n",
       "4         0    1  0.636903 -0.474545 -0.473674 -0.486337         0         0"
      ]
     },
     "execution_count": 240,
     "metadata": {},
     "output_type": "execute_result"
    }
   ],
   "source": [
    "df.head()"
   ]
  },
  {
   "cell_type": "markdown",
   "metadata": {},
   "source": [
    "## Set up Logistic Regression with skLearn\n",
    "Set up training and testing sets"
   ]
  },
  {
   "cell_type": "code",
   "execution_count": 241,
   "metadata": {},
   "outputs": [],
   "source": [
    "Y = df[\"Survived\"].values\n",
    "X=df.iloc[:,1:]\n",
    "## Split df into test and train datasets (70%/30%)\n",
    "#\n",
    "#splitNdx = int(df.shape[0]*0.7)\n",
    "#X_train = np.matrix(df.iloc[0:splitNdx,1:].values)\n",
    "#Y_train = df.iloc[0:splitNdx, 0].values\n",
    "#X_test = np.matrix(df.iloc[splitNdx:, 1:].values)\n",
    "#Y_test = df.iloc[splitNdx:, 0].values\n",
    "\n",
    "#print X_train.shape\n",
    "#print X_test.shape\n"
   ]
  },
  {
   "cell_type": "code",
   "execution_count": 242,
   "metadata": {},
   "outputs": [],
   "source": [
    "logReg = sk_lin.LogisticRegression(penalty=\"l1\", C=0.1)\n",
    "\n",
    "#logReg.fit(X_train, Y_train)"
   ]
  },
  {
   "cell_type": "code",
   "execution_count": 243,
   "metadata": {},
   "outputs": [
    {
     "data": {
      "text/plain": [
       "array([ 0.8       ,  0.77777778,  0.7752809 ,  0.84269663,  0.7752809 ,\n",
       "        0.76404494,  0.7752809 ,  0.76404494,  0.83146067,  0.78409091])"
      ]
     },
     "execution_count": 243,
     "metadata": {},
     "output_type": "execute_result"
    }
   ],
   "source": [
    "scores = cross_val_score(logReg, X, Y, cv=10)\n",
    "scores\n",
    "#Y_hat = logReg.predict(X_test)"
   ]
  },
  {
   "cell_type": "code",
   "execution_count": 244,
   "metadata": {},
   "outputs": [
    {
     "name": "stdout",
     "output_type": "stream",
     "text": [
      "Accuracy: 0.79 (+/- 0.05)\n"
     ]
    }
   ],
   "source": [
    "print(\"Accuracy: %0.2f (+/- %0.2f)\" % (scores.mean(), scores.std() * 2))\n",
    "#comp = Y_hat == Y_test\n",
    "\n",
    "#print \"Accracy=\", (float(np.sum(comp.astype(int)))/len(comp))*100, \"%\""
   ]
  },
  {
   "cell_type": "code",
   "execution_count": null,
   "metadata": {
    "collapsed": true
   },
   "outputs": [],
   "source": []
  }
 ],
 "metadata": {
  "kernelspec": {
   "display_name": "Python 2",
   "language": "python",
   "name": "python2"
  },
  "language_info": {
   "codemirror_mode": {
    "name": "ipython",
    "version": 2
   },
   "file_extension": ".py",
   "mimetype": "text/x-python",
   "name": "python",
   "nbconvert_exporter": "python",
   "pygments_lexer": "ipython2",
   "version": "2.7.14"
  }
 },
 "nbformat": 4,
 "nbformat_minor": 2
}
