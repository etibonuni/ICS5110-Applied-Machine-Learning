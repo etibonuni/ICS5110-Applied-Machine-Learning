{
 "cells": [
  {
   "cell_type": "markdown",
   "metadata": {},
   "source": [
    "# Animal Shelter (XGBoost)\n"
   ]
  },
  {
   "cell_type": "code",
   "execution_count": 149,
   "metadata": {
    "collapsed": true
   },
   "outputs": [],
   "source": [
    "import pandas as pd\n",
    "import seaborn as sns\n",
    "import numpy as np\n",
    "import matplotlib.pyplot as plt\n",
    "%matplotlib inline"
   ]
  },
  {
   "cell_type": "markdown",
   "metadata": {},
   "source": [
    "Load the Animal Shelter dataset and display a sample."
   ]
  },
  {
   "cell_type": "code",
   "execution_count": 150,
   "metadata": {
    "collapsed": true
   },
   "outputs": [],
   "source": [
    "df = pd.read_csv(\"train.csv\")"
   ]
  },
  {
   "cell_type": "code",
   "execution_count": 151,
   "metadata": {},
   "outputs": [
    {
     "data": {
      "text/html": [
       "<div>\n",
       "<style>\n",
       "    .dataframe thead tr:only-child th {\n",
       "        text-align: right;\n",
       "    }\n",
       "\n",
       "    .dataframe thead th {\n",
       "        text-align: left;\n",
       "    }\n",
       "\n",
       "    .dataframe tbody tr th {\n",
       "        vertical-align: top;\n",
       "    }\n",
       "</style>\n",
       "<table border=\"1\" class=\"dataframe\">\n",
       "  <thead>\n",
       "    <tr style=\"text-align: right;\">\n",
       "      <th></th>\n",
       "      <th>AnimalID</th>\n",
       "      <th>Name</th>\n",
       "      <th>DateTime</th>\n",
       "      <th>OutcomeType</th>\n",
       "      <th>OutcomeSubtype</th>\n",
       "      <th>AnimalType</th>\n",
       "      <th>SexuponOutcome</th>\n",
       "      <th>AgeuponOutcome</th>\n",
       "      <th>Breed</th>\n",
       "      <th>Color</th>\n",
       "    </tr>\n",
       "  </thead>\n",
       "  <tbody>\n",
       "    <tr>\n",
       "      <th>0</th>\n",
       "      <td>A671945</td>\n",
       "      <td>Hambone</td>\n",
       "      <td>2014-02-12 18:22:00</td>\n",
       "      <td>Return_to_owner</td>\n",
       "      <td>NaN</td>\n",
       "      <td>Dog</td>\n",
       "      <td>Neutered Male</td>\n",
       "      <td>1 year</td>\n",
       "      <td>Shetland Sheepdog Mix</td>\n",
       "      <td>Brown/White</td>\n",
       "    </tr>\n",
       "    <tr>\n",
       "      <th>1</th>\n",
       "      <td>A656520</td>\n",
       "      <td>Emily</td>\n",
       "      <td>2013-10-13 12:44:00</td>\n",
       "      <td>Euthanasia</td>\n",
       "      <td>Suffering</td>\n",
       "      <td>Cat</td>\n",
       "      <td>Spayed Female</td>\n",
       "      <td>1 year</td>\n",
       "      <td>Domestic Shorthair Mix</td>\n",
       "      <td>Cream Tabby</td>\n",
       "    </tr>\n",
       "    <tr>\n",
       "      <th>2</th>\n",
       "      <td>A686464</td>\n",
       "      <td>Pearce</td>\n",
       "      <td>2015-01-31 12:28:00</td>\n",
       "      <td>Adoption</td>\n",
       "      <td>Foster</td>\n",
       "      <td>Dog</td>\n",
       "      <td>Neutered Male</td>\n",
       "      <td>2 years</td>\n",
       "      <td>Pit Bull Mix</td>\n",
       "      <td>Blue/White</td>\n",
       "    </tr>\n",
       "    <tr>\n",
       "      <th>3</th>\n",
       "      <td>A683430</td>\n",
       "      <td>NaN</td>\n",
       "      <td>2014-07-11 19:09:00</td>\n",
       "      <td>Transfer</td>\n",
       "      <td>Partner</td>\n",
       "      <td>Cat</td>\n",
       "      <td>Intact Male</td>\n",
       "      <td>3 weeks</td>\n",
       "      <td>Domestic Shorthair Mix</td>\n",
       "      <td>Blue Cream</td>\n",
       "    </tr>\n",
       "    <tr>\n",
       "      <th>4</th>\n",
       "      <td>A667013</td>\n",
       "      <td>NaN</td>\n",
       "      <td>2013-11-15 12:52:00</td>\n",
       "      <td>Transfer</td>\n",
       "      <td>Partner</td>\n",
       "      <td>Dog</td>\n",
       "      <td>Neutered Male</td>\n",
       "      <td>2 years</td>\n",
       "      <td>Lhasa Apso/Miniature Poodle</td>\n",
       "      <td>Tan</td>\n",
       "    </tr>\n",
       "  </tbody>\n",
       "</table>\n",
       "</div>"
      ],
      "text/plain": [
       "  AnimalID     Name             DateTime      OutcomeType OutcomeSubtype  \\\n",
       "0  A671945  Hambone  2014-02-12 18:22:00  Return_to_owner            NaN   \n",
       "1  A656520    Emily  2013-10-13 12:44:00       Euthanasia      Suffering   \n",
       "2  A686464   Pearce  2015-01-31 12:28:00         Adoption         Foster   \n",
       "3  A683430      NaN  2014-07-11 19:09:00         Transfer        Partner   \n",
       "4  A667013      NaN  2013-11-15 12:52:00         Transfer        Partner   \n",
       "\n",
       "  AnimalType SexuponOutcome AgeuponOutcome                        Breed  \\\n",
       "0        Dog  Neutered Male         1 year        Shetland Sheepdog Mix   \n",
       "1        Cat  Spayed Female         1 year       Domestic Shorthair Mix   \n",
       "2        Dog  Neutered Male        2 years                 Pit Bull Mix   \n",
       "3        Cat    Intact Male        3 weeks       Domestic Shorthair Mix   \n",
       "4        Dog  Neutered Male        2 years  Lhasa Apso/Miniature Poodle   \n",
       "\n",
       "         Color  \n",
       "0  Brown/White  \n",
       "1  Cream Tabby  \n",
       "2   Blue/White  \n",
       "3   Blue Cream  \n",
       "4          Tan  "
      ]
     },
     "execution_count": 151,
     "metadata": {},
     "output_type": "execute_result"
    }
   ],
   "source": [
    "df.head()"
   ]
  },
  {
   "cell_type": "code",
   "execution_count": 152,
   "metadata": {},
   "outputs": [
    {
     "data": {
      "text/html": [
       "<div>\n",
       "<style>\n",
       "    .dataframe thead tr:only-child th {\n",
       "        text-align: right;\n",
       "    }\n",
       "\n",
       "    .dataframe thead th {\n",
       "        text-align: left;\n",
       "    }\n",
       "\n",
       "    .dataframe tbody tr th {\n",
       "        vertical-align: top;\n",
       "    }\n",
       "</style>\n",
       "<table border=\"1\" class=\"dataframe\">\n",
       "  <thead>\n",
       "    <tr style=\"text-align: right;\">\n",
       "      <th></th>\n",
       "      <th>AnimalID</th>\n",
       "      <th>Name</th>\n",
       "      <th>DateTime</th>\n",
       "      <th>OutcomeType</th>\n",
       "      <th>OutcomeSubtype</th>\n",
       "      <th>AnimalType</th>\n",
       "      <th>SexuponOutcome</th>\n",
       "      <th>AgeuponOutcome</th>\n",
       "      <th>Breed</th>\n",
       "      <th>Color</th>\n",
       "    </tr>\n",
       "  </thead>\n",
       "  <tbody>\n",
       "    <tr>\n",
       "      <th>count</th>\n",
       "      <td>26729</td>\n",
       "      <td>19038</td>\n",
       "      <td>26729</td>\n",
       "      <td>26729</td>\n",
       "      <td>13117</td>\n",
       "      <td>26729</td>\n",
       "      <td>26728</td>\n",
       "      <td>26711</td>\n",
       "      <td>26729</td>\n",
       "      <td>26729</td>\n",
       "    </tr>\n",
       "    <tr>\n",
       "      <th>unique</th>\n",
       "      <td>26729</td>\n",
       "      <td>6374</td>\n",
       "      <td>22918</td>\n",
       "      <td>5</td>\n",
       "      <td>16</td>\n",
       "      <td>2</td>\n",
       "      <td>5</td>\n",
       "      <td>44</td>\n",
       "      <td>1380</td>\n",
       "      <td>366</td>\n",
       "    </tr>\n",
       "    <tr>\n",
       "      <th>top</th>\n",
       "      <td>A705677</td>\n",
       "      <td>Max</td>\n",
       "      <td>2015-08-11 00:00:00</td>\n",
       "      <td>Adoption</td>\n",
       "      <td>Partner</td>\n",
       "      <td>Dog</td>\n",
       "      <td>Neutered Male</td>\n",
       "      <td>1 year</td>\n",
       "      <td>Domestic Shorthair Mix</td>\n",
       "      <td>Black/White</td>\n",
       "    </tr>\n",
       "    <tr>\n",
       "      <th>freq</th>\n",
       "      <td>1</td>\n",
       "      <td>136</td>\n",
       "      <td>19</td>\n",
       "      <td>10769</td>\n",
       "      <td>7816</td>\n",
       "      <td>15595</td>\n",
       "      <td>9779</td>\n",
       "      <td>3969</td>\n",
       "      <td>8810</td>\n",
       "      <td>2824</td>\n",
       "    </tr>\n",
       "  </tbody>\n",
       "</table>\n",
       "</div>"
      ],
      "text/plain": [
       "       AnimalID   Name             DateTime OutcomeType OutcomeSubtype  \\\n",
       "count     26729  19038                26729       26729          13117   \n",
       "unique    26729   6374                22918           5             16   \n",
       "top     A705677    Max  2015-08-11 00:00:00    Adoption        Partner   \n",
       "freq          1    136                   19       10769           7816   \n",
       "\n",
       "       AnimalType SexuponOutcome AgeuponOutcome                   Breed  \\\n",
       "count       26729          26728          26711                   26729   \n",
       "unique          2              5             44                    1380   \n",
       "top           Dog  Neutered Male         1 year  Domestic Shorthair Mix   \n",
       "freq        15595           9779           3969                    8810   \n",
       "\n",
       "              Color  \n",
       "count         26729  \n",
       "unique          366  \n",
       "top     Black/White  \n",
       "freq           2824  "
      ]
     },
     "execution_count": 152,
     "metadata": {},
     "output_type": "execute_result"
    }
   ],
   "source": [
    "df.describe()"
   ]
  },
  {
   "cell_type": "raw",
   "metadata": {},
   "source": [
    "df.head()"
   ]
  },
  {
   "cell_type": "markdown",
   "metadata": {},
   "source": [
    "# 1. Data Exploration and Preparation\n",
    "\n",
    "\n",
    "Split the \"SexuponOutcome\" field into \"Sex\" and \"Neutered\"."
   ]
  },
  {
   "cell_type": "code",
   "execution_count": 153,
   "metadata": {
    "collapsed": true
   },
   "outputs": [],
   "source": [
    "def splitSex(df):\n",
    "    df.loc[df[\"SexuponOutcome\"].isnull(), \"SexuponOutcome\"]=\"unknown\"\n",
    "\n",
    "    df[\"Sex\"] = df[\"SexuponOutcome\"].str.lower().str.contains(\" male\")\n",
    "    df.loc[df[\"SexuponOutcome\"].str.lower().str.contains(\" male\"), \"Sex\"] = \"male\"\n",
    "    df.loc[df[\"SexuponOutcome\"].str.lower().str.contains(\"female\"), \"Sex\"] = \"female\"\n",
    "    df.loc[df[\"SexuponOutcome\"].str.lower().str.contains(\"unknown\"), \"Sex\"] = \"unknown\"\n",
    "\n",
    "    df[\"Neutered\"] = (df[\"SexuponOutcome\"].str.lower().str.contains(\"neutered\")) |  (df[\"SexuponOutcome\"].str.lower().str.contains(\"spayed\"))\n",
    "    df[\"Neutered\"] = df[\"Neutered\"].astype(int)\n",
    "    df[[\"SexuponOutcome\", \"Sex\", \"Neutered\"]].head()\n",
    "    \n",
    "splitSex(df)"
   ]
  },
  {
   "cell_type": "code",
   "execution_count": 154,
   "metadata": {
    "collapsed": true
   },
   "outputs": [],
   "source": [
    "def processName(df):\n",
    "    df[\"HasName\"] = ~df[\"Name\"].isnull()\n",
    "    df[\"HasName\"] = df[\"HasName\"].astype(int)\n",
    "\n",
    "\n",
    "processName(df)"
   ]
  },
  {
   "cell_type": "markdown",
   "metadata": {
    "collapsed": true
   },
   "source": [
    "Explore the sex and intactness fields visually with respect to outcome. It appears that being neutered is a fair predictor for adoption."
   ]
  },
  {
   "cell_type": "code",
   "execution_count": 155,
   "metadata": {},
   "outputs": [
    {
     "data": {
      "text/plain": [
       "<matplotlib.axes._subplots.AxesSubplot at 0x7f5ad38480d0>"
      ]
     },
     "execution_count": 155,
     "metadata": {},
     "output_type": "execute_result"
    },
    {
     "data": {
      "image/png": "[encoded data removed]",
      "text/plain": [
       "<matplotlib.figure.Figure at 0x7f5acf49d450>"
      ]
     },
     "metadata": {},
     "output_type": "display_data"
    }
   ],
   "source": [
    "f, ([ax1, ax3], [ax2, ax4]) = plt.subplots(2, 2, figsize=(16, 10))\n",
    "sns.countplot(data=df, x='OutcomeType',hue='Sex', ax=ax1)\n",
    "sns.countplot(data=df, x='Sex',hue='OutcomeType', ax=ax2)\n",
    "sns.countplot(data=df, x=\"Sex\", hue=\"Neutered\", ax=ax3)\n",
    "sns.countplot(data=df, x=\"Neutered\", hue=\"OutcomeType\", ax=ax4)"
   ]
  },
  {
   "cell_type": "markdown",
   "metadata": {},
   "source": [
    "Clean up the breed field. Here we determine if an animal is a purebreed or a mix and create a new field encoding this information."
   ]
  },
  {
   "cell_type": "code",
   "execution_count": 156,
   "metadata": {
    "collapsed": true
   },
   "outputs": [],
   "source": [
    "def cleanupBreed(df):\n",
    "    df[\"PureBreed\"] = ~df[\"Breed\"].str.lower().str.contains(\"mix\")\n",
    "    df.loc[df[\"Breed\"].str.contains(\"/\"), \"PureBreed\"]=False\n",
    "    df[\"PureBreed\"] = df[\"PureBreed\"].astype(int)\n",
    "    df[[\"Breed\", \"PureBreed\"]].head(10)\n",
    "    \n",
    "cleanupBreed(df)"
   ]
  },
  {
   "cell_type": "markdown",
   "metadata": {},
   "source": [
    "Plot normalized ratios of outcomes by breed purity. It looks like purebreed dogs are more likely to be returned to owner (not surprising), however not more likely to be adopted(surprising)."
   ]
  },
  {
   "cell_type": "code",
   "execution_count": 157,
   "metadata": {},
   "outputs": [
    {
     "data": {
      "text/plain": [
       "<matplotlib.axes._subplots.AxesSubplot at 0x7f5ad35dcf90>"
      ]
     },
     "execution_count": 157,
     "metadata": {},
     "output_type": "execute_result"
    },
    {
     "data": {
      "image/png": "[encoded data removed]",
      "text/plain": [
       "<matplotlib.figure.Figure at 0x7f5ad66d9e50>"
      ]
     },
     "metadata": {},
     "output_type": "display_data"
    }
   ],
   "source": [
    "# Normalize counts over imbalanced categories.\n",
    "# if norm_over_x=True, x counts are normalized. If False, sub_x counts are normalized.\n",
    "def normalizeCounts(df, x, sub_x, norm_over_x=False):\n",
    "\n",
    "    agg1 = df.pivot_table(index=[x, sub_x], values=[\"AnimalID\"], aggfunc=len)\n",
    "\n",
    "    agg1.columns=[\"NormCount\"]\n",
    "    agg1[\"NormCount\"] = agg1[\"NormCount\"].astype(float)\n",
    "    agg2 = df.pivot_table(index=[sub_x], values=\"AnimalID\", aggfunc=len)\n",
    "    #print agg2\n",
    "    \n",
    "    x_vals = agg1.index.levels[0].values\n",
    "    \n",
    "    #print agg1\n",
    "    for x_val in x_vals:\n",
    "        sub_x_vals = agg1.loc[x_val].index.unique().values\n",
    "        if norm_over_x:\n",
    "            tot = sum(agg1.loc[x_val, \"NormCount\"].values)\n",
    "        \n",
    "            \n",
    "        for sub_x_val in sub_x_vals:\n",
    "            if not norm_over_x:\n",
    "                tot = agg2.loc[sub_x_val][0]\n",
    "        \n",
    "            val = agg1.loc[x_val].loc[sub_x_val,\"NormCount\"]\n",
    "            val /= tot\n",
    "            agg1.loc[x_val].loc[sub_x_val]=val\n",
    "\n",
    "\n",
    "    agg1 = agg1.reset_index()\n",
    "    #print agg1\n",
    "    \n",
    "    return agg1\n",
    "\n",
    "# Plot bar chart of outcomes split by pureBreed, normalized over Outcome.\n",
    "sns.barplot(data=normalizeCounts(df, \"OutcomeType\", \"PureBreed\", norm_over_x=True), x=\"OutcomeType\", hue=\"PureBreed\", y=\"NormCount\")"
   ]
  },
  {
   "cell_type": "markdown",
   "metadata": {},
   "source": [
    "The dog breed potentially encodes information that could improve classifier predictions, such as size of dog, breed popularity, breed temperament and longevity etc. This information, however is difficult to extract from the breed. Instead we encode the breed field into a set of features that can then be used by the classifier. The breed field is transformed into features by calculating a term-document matrix taking the rows in the Breed column as the document corpus. This results in the breed words being vectorized. \n",
    "\n",
    "This should allow the classifier to implicitly infer information regarding the breeds which affects the outcome. For example if chihuahuas or chihuahua mixes are unpopular for adoption, any breed mentioning chihuahua should result in a lower probability of adoption in the classifier. If medium sized breeds tend to be adopted more frequently, this should also be a correlation that emerges in the classifier. "
   ]
  },
  {
   "cell_type": "code",
   "execution_count": 158,
   "metadata": {},
   "outputs": [
    {
     "name": "stdout",
     "output_type": "stream",
     "text": [
      "(26729, 262)\n",
      "0.416951443384\n",
      "NumDims= 44\n",
      "(26729, 44)\n",
      "AnimalID\n",
      "Name\n",
      "DateTime\n",
      "OutcomeType\n",
      "OutcomeSubtype\n",
      "AnimalType\n",
      "SexuponOutcome\n",
      "AgeuponOutcome\n",
      "Breed\n",
      "Color\n",
      "Sex\n",
      "Neutered\n",
      "HasName\n",
      "PureBreed\n",
      "Breed_0\n",
      "Breed_1\n",
      "Breed_2\n",
      "Breed_3\n",
      "Breed_4\n",
      "Breed_5\n",
      "Breed_6\n",
      "Breed_7\n",
      "Breed_8\n",
      "Breed_9\n",
      "Breed_10\n",
      "Breed_11\n",
      "Breed_12\n",
      "Breed_13\n",
      "Breed_14\n",
      "Breed_15\n",
      "Breed_16\n",
      "Breed_17\n",
      "Breed_18\n",
      "Breed_19\n",
      "Breed_20\n",
      "Breed_21\n",
      "Breed_22\n",
      "Breed_23\n",
      "Breed_24\n",
      "Breed_25\n",
      "Breed_26\n",
      "Breed_27\n",
      "Breed_28\n",
      "Breed_29\n",
      "Breed_30\n",
      "Breed_31\n",
      "Breed_32\n",
      "Breed_33\n",
      "Breed_34\n",
      "Breed_35\n",
      "Breed_36\n",
      "Breed_37\n",
      "Breed_38\n",
      "Breed_39\n",
      "Breed_40\n",
      "Breed_41\n",
      "Breed_42\n",
      "Breed_43\n"
     ]
    }
   ],
   "source": [
    "from sklearn.feature_extraction.text import CountVectorizer\n",
    "from sklearn.feature_extraction.text import TfidfVectorizer\n",
    "from sklearn.decomposition import PCA\n",
    "\n",
    "breedsVec = TfidfVectorizer()\n",
    "def preprocessBreed(df):\n",
    "    #vec = CountVectorizer()\n",
    "    \n",
    "    breedsVec.fit(df[\"Breed\"])#.str.replace(\"Mix\", \"\").str.replace(\"/\", \" \").str.lower())\n",
    "    \n",
    "    \n",
    "    return breedsVec\n",
    "    \n",
    "def processBreed(df, pca=False):\n",
    "    breedsTDM = breedsVec.transform(df[\"Breed\"])#.str.replace(\"Mix\", \"\").str.replace(\"/\", \" \").str.lower())\n",
    "    print breedsTDM.toarray().shape\n",
    "    \n",
    "    if pca:\n",
    "        pca = PCA()  \n",
    "        pca.fit(breedsTDM.toarray())\n",
    "\n",
    "        cumul_variance = [sum(pca.explained_variance_ratio_[:i]) for i in range(len(pca.explained_variance_ratio_))]\n",
    "        print sum(pca.explained_variance_ratio_[:3])\n",
    "       # print pca.explained_variance_ratio_\n",
    "        #print cumul_variance\n",
    "\n",
    "        numDims = len(cumul_variance)\n",
    "        for i in range(len(cumul_variance)):\n",
    "            if cumul_variance[i]>=0.9:\n",
    "                numDims = i\n",
    "                break\n",
    "\n",
    "        print \"NumDims=\", numDims\n",
    "\n",
    "        reduced_dims = pca.transform(breedsTDM.toarray())\n",
    "        reduced_dims = reduced_dims[:,:numDims]\n",
    "\n",
    "        print reduced_dims.shape\n",
    "        breedsdf = pd.DataFrame(reduced_dims)#breedsTDM.toarray())\n",
    "        breedCols = [\"Breed_\"+str(i) for i in range(0, reduced_dims.shape[1]) ]\n",
    "        breedsdf.columns = breedCols\n",
    "        #print breedsdf.head()\n",
    "\n",
    "        df = df.join(breedsdf)\n",
    "    else:\n",
    "        breedsdf = pd.DataFrame(breedsTDM.toarray())\n",
    "        breedCols = [\"Breed_\"+breedsVec.get_feature_names()[i] for i in range(0, breedsTDM.shape[1]) ]\n",
    "        breedsdf.columns = breedCols\n",
    "        #print breedsdf.head()\n",
    "\n",
    "        df = df.join(breedsdf)\n",
    "\n",
    "    #print df.head()\n",
    "    return df\n",
    "\n",
    "\n",
    "preprocessBreed(df)\n",
    "df = processBreed(df, True)\n",
    "df.head()\n",
    "\n",
    "for c in df.columns.values:\n",
    "    print c"
   ]
  },
  {
   "cell_type": "markdown",
   "metadata": {},
   "source": [
    "We define a function that translates the age fields in the dataset to days by parsing the units (year(s), month(s), week(s)). We then map the age in days to an ageBracket field so as to categories the animals as (BABY, JUVENILE, ADULT, SENIOR). Animal shelters do not allow animals to be adopted before they are weaned, therefore the \"BABY\" bracket should add resultion to our classifier."
   ]
  },
  {
   "cell_type": "code",
   "execution_count": 159,
   "metadata": {
    "collapsed": true
   },
   "outputs": [],
   "source": [
    "def getAgeInDays(ageStr):\n",
    "    if pd.isnull(ageStr):\n",
    "        return ageStr\n",
    "    \n",
    "    ageParts = ageStr.lower().split(\" \")\n",
    "    val = int(ageParts[0])\n",
    "    units = ageParts[1]\n",
    "    \n",
    "    if units[-1:]==\"s\":\n",
    "        units = units[0:-1]\n",
    "    \n",
    "    if units==\"year\":\n",
    "        val = 365*val\n",
    "    elif units==\"month\":\n",
    "        val = 30*val\n",
    "    elif units==\"week\":\n",
    "        val = 7*val\n",
    "    \n",
    "    return val\n",
    "\n",
    "def getAgeBracket(ageInDays):\n",
    "    if ageInDays<=42:\n",
    "        return \"baby\"\n",
    "    elif ageInDays<=365:\n",
    "        return \"juvenile\"\n",
    "    elif ageInDays<=365*9:\n",
    "        return \"adult\"\n",
    "    else:\n",
    "        return \"senior\"\n",
    "\n",
    "    \n",
    "def processAge(df):\n",
    "    df[\"AgeDays\"] = df[\"AgeuponOutcome\"].apply(getAgeInDays)\n",
    "    meanAge = df[[\"AgeDays\"]].mean()\n",
    "\n",
    "    df.loc[df[\"AgeDays\"].isnull(), \"AgeDays\"]=meanAge[0]\n",
    "    df[\"AgeBracket\"] = df[\"AgeDays\"].apply(getAgeBracket)\n",
    "    \n",
    "    \n",
    "processAge(df)"
   ]
  },
  {
   "cell_type": "markdown",
   "metadata": {
    "collapsed": true
   },
   "source": [
    "\n",
    "A quick histogram of age distribution shows that most animals at the shelter are younger than about 2 years of age."
   ]
  },
  {
   "cell_type": "code",
   "execution_count": 160,
   "metadata": {},
   "outputs": [
    {
     "data": {
      "text/plain": [
       "<matplotlib.axes._subplots.AxesSubplot at 0x7f5ad20f5f10>"
      ]
     },
     "execution_count": 160,
     "metadata": {},
     "output_type": "execute_result"
    },
    {
     "data": {
      "image/png": "[encoded data removed]",
      "text/plain": [
       "<matplotlib.figure.Figure at 0x7f5ad209dd90>"
      ]
     },
     "metadata": {},
     "output_type": "display_data"
    }
   ],
   "source": [
    "\n",
    "sns.distplot(df.AgeDays/365, bins = 20, kde=False, axlabel=\"Age in Years\")"
   ]
  },
  {
   "cell_type": "markdown",
   "metadata": {},
   "source": [
    "Visualising outcomes based on these age categories reveals, unsurprisingly, that juveniles are more likely to be adopted than any other age bracket. Babies are less likely to be adopted as shelters usually don't allow them to until they are weaned and are also the most likely to die, or be transferred. Interestingly senior dogs are more likely to be returned to their owner. These facts should have explanatory value in our model."
   ]
  },
  {
   "cell_type": "code",
   "execution_count": 161,
   "metadata": {},
   "outputs": [
    {
     "data": {
      "text/plain": [
       "<matplotlib.axes._subplots.AxesSubplot at 0x7f5acf828b50>"
      ]
     },
     "execution_count": 161,
     "metadata": {},
     "output_type": "execute_result"
    },
    {
     "data": {
      "image/png": "[encoded data removed]",
      "text/plain": [
       "<matplotlib.figure.Figure at 0x7f5acf80e2d0>"
      ]
     },
     "metadata": {},
     "output_type": "display_data"
    }
   ],
   "source": [
    "# Plot unnormalized...\n",
    "sns.countplot(data=df, x=\"AgeBracket\", hue=\"OutcomeType\", order=[\"baby\", \"juvenile\", \"adult\", \"senior\"])\n"
   ]
  },
  {
   "cell_type": "code",
   "execution_count": 162,
   "metadata": {},
   "outputs": [
    {
     "data": {
      "text/plain": [
       "<matplotlib.axes._subplots.AxesSubplot at 0x7f5ad2001c50>"
      ]
     },
     "execution_count": 162,
     "metadata": {},
     "output_type": "execute_result"
    },
    {
     "data": {
      "image/png": "[encoded data removed]",
      "text/plain": [
       "<matplotlib.figure.Figure at 0x7f5ad1eef550>"
      ]
     },
     "metadata": {},
     "output_type": "display_data"
    }
   ],
   "source": [
    "\n",
    "#...and normalized data\n",
    "sns.barplot(data=normalizeCounts(df, \"AgeBracket\", \"OutcomeType\", norm_over_x=True), x=\"AgeBracket\", hue=\"OutcomeType\", y=\"NormCount\", order=[\"baby\", \"juvenile\", \"adult\", \"senior\"])"
   ]
  },
  {
   "cell_type": "markdown",
   "metadata": {
    "collapsed": true
   },
   "source": [
    "Here we also take the DateTime column and we split the day into 3 hour segments. This should tell us the most likely time of day for an outcome. It looks like most adoptions as well as most transfers occur during the afternoon and early evening, peaking around 17:00 (unsurprising as it is the time most people finish their dayjob)"
   ]
  },
  {
   "cell_type": "code",
   "execution_count": 163,
   "metadata": {},
   "outputs": [
    {
     "data": {
      "text/plain": [
       "<matplotlib.axes._subplots.AxesSubplot at 0x7f5ad20ba8d0>"
      ]
     },
     "execution_count": 163,
     "metadata": {},
     "output_type": "execute_result"
    },
    {
     "data": {
      "image/png": "[encoded data removed]",
      "text/plain": [
       "<matplotlib.figure.Figure at 0x7f5ad1ed2290>"
      ]
     },
     "metadata": {},
     "output_type": "display_data"
    }
   ],
   "source": [
    "def tsToDaySegment(ts):\n",
    "    return \"HR_\"+str(int(ts.hour/3))\n",
    "    \n",
    "def processDate(df):\n",
    "    df[\"DateTime\"] = pd.to_datetime(df[\"DateTime\"])\n",
    "    df[\"DaySegment\"] = df[\"DateTime\"].apply(tsToDaySegment)\n",
    "    df[\"OutcomeDay\"] = df[\"DateTime\"].dt.day\n",
    "    df[\"OutcomeMonth\"] = df[\"DateTime\"].dt.month\n",
    "    df[\"OutcomeHour\"] = df[\"DateTime\"].dt.hour\n",
    "    \n",
    "processDate(df)\n",
    "\n",
    "sns.countplot(data=df, x=\"DaySegment\", hue=\"OutcomeType\", order=[\"HR_0\", \"HR_1\", \"HR_2\", \"HR_3\", \"HR_4\", \"HR_5\", \"HR_6\", \"HR_7\", \"HR_8\"])"
   ]
  },
  {
   "cell_type": "markdown",
   "metadata": {},
   "source": [
    "Does the day of the week make a difference to the outcomes? \n",
    "\n",
    "It looks like adoptions are much more likely during the weekend."
   ]
  },
  {
   "cell_type": "code",
   "execution_count": 164,
   "metadata": {},
   "outputs": [
    {
     "data": {
      "text/plain": [
       "<matplotlib.axes._subplots.AxesSubplot at 0x7f5acf4bba90>"
      ]
     },
     "execution_count": 164,
     "metadata": {},
     "output_type": "execute_result"
    },
    {
     "data": {
      "image/png": "[encoded data removed]",
      "text/plain": [
       "<matplotlib.figure.Figure at 0x7f5ad6da44d0>"
      ]
     },
     "metadata": {},
     "output_type": "display_data"
    }
   ],
   "source": [
    "weekdist = pd.DataFrame(data=df[[\"DateTime\", \"OutcomeType\"]])\n",
    "weekdist[\"DayOfWeek\"] = weekdist[\"DateTime\"].apply(lambda ts: ts.weekday())\n",
    "\n",
    "sns.countplot(data=weekdist, x=\"DayOfWeek\", hue=\"OutcomeType\")"
   ]
  },
  {
   "cell_type": "markdown",
   "metadata": {},
   "source": [
    "Create an \"IsWeekend\" feature to hopefully help the classifier along."
   ]
  },
  {
   "cell_type": "code",
   "execution_count": 165,
   "metadata": {},
   "outputs": [
    {
     "data": {
      "text/plain": [
       "<matplotlib.axes._subplots.AxesSubplot at 0x7f5ad2769750>"
      ]
     },
     "execution_count": 165,
     "metadata": {},
     "output_type": "execute_result"
    },
    {
     "data": {
      "image/png": "[encoded data removed]",
      "text/plain": [
       "<matplotlib.figure.Figure at 0x7f5ad2459890>"
      ]
     },
     "metadata": {},
     "output_type": "display_data"
    }
   ],
   "source": [
    "def processWeekend(df):\n",
    "    df[\"IsWeekend\"] = df[\"DateTime\"].apply(lambda ts: (ts.weekday()>=5))\n",
    "    df[\"IsWeekend\"] = df[\"IsWeekend\"].astype(int)\n",
    "\n",
    "processWeekend(df)\n",
    "sns.barplot(data=normalizeCounts(df, \"IsWeekend\", \"OutcomeType\", norm_over_x=True), x=\"IsWeekend\", hue=\"OutcomeType\", y=\"NormCount\")"
   ]
  },
  {
   "cell_type": "markdown",
   "metadata": {},
   "source": [
    "Some more visual exploration relating to the outcome datetime field. Plot outcomes by month, day and hour. One can see interesting cyclicity in this data. In particular the peaks in adoption around Christmas and around July/August (summer holidays!)"
   ]
  },
  {
   "cell_type": "code",
   "execution_count": 166,
   "metadata": {},
   "outputs": [
    {
     "data": {
      "image/png": "[encoded data removed]",
      "text/plain": [
       "<matplotlib.figure.Figure at 0x7f5ad27c3ed0>"
      ]
     },
     "metadata": {},
     "output_type": "display_data"
    }
   ],
   "source": [
    "f, (ax1, ax2, ax3) = plt.subplots(3, 1, figsize=(16, 10))\n",
    "sns.countplot(data=df, x=\"OutcomeMonth\", hue=\"OutcomeType\", ax=ax1)\n",
    "sns.countplot(data=df, x=\"OutcomeDay\", hue=\"OutcomeType\", ax=ax2)\n",
    "sns.countplot(data=df, x=\"OutcomeHour\", hue=\"OutcomeType\", ax=ax3)\n",
    "plt.show()"
   ]
  },
  {
   "cell_type": "markdown",
   "metadata": {},
   "source": [
    "Does having a name make a difference to the outcome? Yes. Having a name is much more likely to result in adoption and/or return to owner."
   ]
  },
  {
   "cell_type": "code",
   "execution_count": 167,
   "metadata": {},
   "outputs": [
    {
     "data": {
      "text/plain": [
       "<matplotlib.axes._subplots.AxesSubplot at 0x7f5afc7f6d90>"
      ]
     },
     "execution_count": 167,
     "metadata": {},
     "output_type": "execute_result"
    },
    {
     "data": {
      "image/png": "[encoded data removed]",
      "text/plain": [
       "<matplotlib.figure.Figure at 0x7f5afc995e90>"
      ]
     },
     "metadata": {},
     "output_type": "display_data"
    }
   ],
   "source": [
    "def processName(df):\n",
    "    df[\"HasName\"] = ~df[\"Name\"].isnull()\n",
    "    df[\"HasName\"] = df[\"HasName\"].astype(int)\n",
    "\n",
    "\n",
    "processName(df)\n",
    "\n",
    "#sns.countplot(data=df, x=\"HasName\", hue=\"OutcomeType\")\n",
    "sns.barplot(data=normalizeCounts(df, \"HasName\", \"OutcomeType\", norm_over_x=True), x=\"HasName\", hue=\"OutcomeType\", y=\"NormCount\")"
   ]
  },
  {
   "cell_type": "markdown",
   "metadata": {},
   "source": [
    "We also need to simplify the color field. There are too many unique colors. We do this by splitting on \"/\" or \" \" and taking only the first word."
   ]
  },
  {
   "cell_type": "code",
   "execution_count": 168,
   "metadata": {},
   "outputs": [
    {
     "data": {
      "text/plain": [
       "366"
      ]
     },
     "execution_count": 168,
     "metadata": {},
     "output_type": "execute_result"
    }
   ],
   "source": [
    "df[\"Color\"].unique().size"
   ]
  },
  {
   "cell_type": "code",
   "execution_count": 169,
   "metadata": {},
   "outputs": [
    {
     "name": "stdout",
     "output_type": "stream",
     "text": [
      "29\n"
     ]
    },
    {
     "data": {
      "text/html": [
       "<div>\n",
       "<style>\n",
       "    .dataframe thead tr:only-child th {\n",
       "        text-align: right;\n",
       "    }\n",
       "\n",
       "    .dataframe thead th {\n",
       "        text-align: left;\n",
       "    }\n",
       "\n",
       "    .dataframe tbody tr th {\n",
       "        vertical-align: top;\n",
       "    }\n",
       "</style>\n",
       "<table border=\"1\" class=\"dataframe\">\n",
       "  <thead>\n",
       "    <tr style=\"text-align: right;\">\n",
       "      <th></th>\n",
       "      <th>Color</th>\n",
       "      <th>SimpleColor</th>\n",
       "    </tr>\n",
       "  </thead>\n",
       "  <tbody>\n",
       "    <tr>\n",
       "      <th>0</th>\n",
       "      <td>Brown/White</td>\n",
       "      <td>brown</td>\n",
       "    </tr>\n",
       "    <tr>\n",
       "      <th>1</th>\n",
       "      <td>Cream Tabby</td>\n",
       "      <td>cream</td>\n",
       "    </tr>\n",
       "    <tr>\n",
       "      <th>2</th>\n",
       "      <td>Blue/White</td>\n",
       "      <td>blue</td>\n",
       "    </tr>\n",
       "    <tr>\n",
       "      <th>3</th>\n",
       "      <td>Blue Cream</td>\n",
       "      <td>blue</td>\n",
       "    </tr>\n",
       "    <tr>\n",
       "      <th>4</th>\n",
       "      <td>Tan</td>\n",
       "      <td>tan</td>\n",
       "    </tr>\n",
       "  </tbody>\n",
       "</table>\n",
       "</div>"
      ],
      "text/plain": [
       "         Color SimpleColor\n",
       "0  Brown/White       brown\n",
       "1  Cream Tabby       cream\n",
       "2   Blue/White        blue\n",
       "3   Blue Cream        blue\n",
       "4          Tan         tan"
      ]
     },
     "execution_count": 169,
     "metadata": {},
     "output_type": "execute_result"
    }
   ],
   "source": [
    "#df[\"SimpleColor\"] = df[\"Color\"].apply(lambda c: c.split(\"/| \")[0])\n",
    "def processColor(df):\n",
    "    df[\"SimpleColor\"] = df[\"Color\"].apply(lambda c: c.lower().split(\"/\")[0].split(\" \")[0])\n",
    "\n",
    "\n",
    "processColor(df)\n",
    "\n",
    "print df[\"SimpleColor\"].unique().size\n",
    "df[[\"Color\", \"SimpleColor\"]].head()\n"
   ]
  },
  {
   "cell_type": "code",
   "execution_count": 170,
   "metadata": {},
   "outputs": [
    {
     "name": "stdout",
     "output_type": "stream",
     "text": [
      "['Return_to_owner' 'Euthanasia' 'Adoption' 'Transfer' 'Died']\n"
     ]
    },
    {
     "data": {
      "image/png": "[encoded data removed]",
      "text/plain": [
       "<matplotlib.figure.Figure at 0x7f5ad293b090>"
      ]
     },
     "metadata": {},
     "output_type": "display_data"
    }
   ],
   "source": [
    "outcomes = df[\"OutcomeType\"].unique()\n",
    "print outcomes\n",
    "f, ax1 = plt.subplots(outcomes.size, 1, figsize=(10, 10))\n",
    "\n",
    "df[\"SimpleColor\"].value_counts().index\n",
    "for i in range(0,len(outcomes)):\n",
    "    outcome = outcomes[i]\n",
    "    ax1[i].tick_params(axis=\"x\", rotation=45)\n",
    "    sns.barplot(data=normalizeCounts(df.loc[df[\"OutcomeType\"]==outcome,:], x=\"SimpleColor\", sub_x=\"OutcomeType\", norm_over_x=False), x=\"SimpleColor\", hue=\"OutcomeType\", y=\"NormCount\", order=df[\"SimpleColor\"].value_counts().index, ax=ax1[i])\n",
    "    \n",
    "f.subplots_adjust(hspace=0.8)"
   ]
  },
  {
   "cell_type": "markdown",
   "metadata": {},
   "source": [
    "How balanced or unbalanced are our classes?"
   ]
  },
  {
   "cell_type": "code",
   "execution_count": 171,
   "metadata": {},
   "outputs": [
    {
     "data": {
      "text/plain": [
       "<matplotlib.axes._subplots.AxesSubplot at 0x7f5ad25e3fd0>"
      ]
     },
     "execution_count": 171,
     "metadata": {},
     "output_type": "execute_result"
    },
    {
     "data": {
      "image/png": "[encoded data removed]",
      "text/plain": [
       "<matplotlib.figure.Figure at 0x7f5afc99fed0>"
      ]
     },
     "metadata": {},
     "output_type": "display_data"
    }
   ],
   "source": [
    "sns.countplot(data=df, x=\"OutcomeType\", hue=\"AnimalType\")"
   ]
  },
  {
   "cell_type": "markdown",
   "metadata": {},
   "source": [
    "It is clear that there is a severe inbalance in the prediction classes.\n",
    "\n",
    "The simplest solution is to duplicate records in the minority classes, however experiments with this approach resulted in a worse classifier performance.\n",
    "\n",
    "Instead we use SMOTE (further down) which empirically gives much better results."
   ]
  },
  {
   "cell_type": "code",
   "execution_count": 172,
   "metadata": {
    "collapsed": true
   },
   "outputs": [],
   "source": [
    "#outcomeCounts = df.pivot_table(index=[\"OutcomeType\"], values=[\"AnimalID\"], aggfunc=len)\n",
    "#\n",
    "#maxOutcomeCount = np.max(outcomeCounts.values.ravel())\n",
    "#\n",
    "#outcomes = df[\"OutcomeType\"].unique()\n",
    "#\n",
    "##newrecords = pd.DataFrame(columns=df.columns)\n",
    "#\n",
    "#newrecords = pd.DataFrame.from_items(\n",
    "#    [(name, pd.Series(data=None, dtype=series.dtype)) for name, series in df.iteritems()])\n",
    "#\n",
    "#for outcome in outcomes:\n",
    "#    outcomeCount = outcomeCounts.loc[outcome].values[0]\n",
    "#    diff = maxOutcomeCount - outcomeCount\n",
    "#    \n",
    "#    if diff > 0:\n",
    "#        subset = pd.DataFrame(df.loc[df[\"OutcomeType\"]==outcome,:])\n",
    "#        subset = subset.iloc[np.random.randint(0, subset.index.size, size=diff)]\n",
    "#        print outcome, \": added \", subset.index.size, \" records\"\n",
    "#        newrecords = newrecords.append(subset)\n",
    "#        \n",
    "#print \"Total records added: \", newrecords.index.size\n",
    "\n",
    "#df = df.append(newrecords)\n",
    "\n",
    "#sns.countplot(data=df, x=\"OutcomeType\")"
   ]
  },
  {
   "cell_type": "markdown",
   "metadata": {},
   "source": [
    "# Machine Learning Model\n",
    "\n",
    "Prepare the dataset for learning\n",
    "\n",
    "N.B. We will treat OutcomeType as the dependant variable. OutcomeType is directly inferable from OutcomeSubtype, however this goes contrary to the spirit of the Kaggle challenge and the Kaggle testing set does not include this field among the features, therefore in order for our learning algorithm not to be trivial, we will remove this field."
   ]
  },
  {
   "cell_type": "code",
   "execution_count": 173,
   "metadata": {},
   "outputs": [
    {
     "data": {
      "text/html": [
       "<div>\n",
       "<style>\n",
       "    .dataframe thead tr:only-child th {\n",
       "        text-align: right;\n",
       "    }\n",
       "\n",
       "    .dataframe thead th {\n",
       "        text-align: left;\n",
       "    }\n",
       "\n",
       "    .dataframe tbody tr th {\n",
       "        vertical-align: top;\n",
       "    }\n",
       "</style>\n",
       "<table border=\"1\" class=\"dataframe\">\n",
       "  <thead>\n",
       "    <tr style=\"text-align: right;\">\n",
       "      <th></th>\n",
       "      <th>AnimalID</th>\n",
       "      <th>Name</th>\n",
       "      <th>DateTime</th>\n",
       "      <th>OutcomeType</th>\n",
       "      <th>OutcomeSubtype</th>\n",
       "      <th>AnimalType</th>\n",
       "      <th>SexuponOutcome</th>\n",
       "      <th>AgeuponOutcome</th>\n",
       "      <th>Breed</th>\n",
       "      <th>Color</th>\n",
       "      <th>...</th>\n",
       "      <th>Breed_42</th>\n",
       "      <th>Breed_43</th>\n",
       "      <th>AgeDays</th>\n",
       "      <th>AgeBracket</th>\n",
       "      <th>DaySegment</th>\n",
       "      <th>OutcomeDay</th>\n",
       "      <th>OutcomeMonth</th>\n",
       "      <th>OutcomeHour</th>\n",
       "      <th>IsWeekend</th>\n",
       "      <th>SimpleColor</th>\n",
       "    </tr>\n",
       "  </thead>\n",
       "  <tbody>\n",
       "    <tr>\n",
       "      <th>0</th>\n",
       "      <td>A671945</td>\n",
       "      <td>Hambone</td>\n",
       "      <td>2014-02-12 18:22:00</td>\n",
       "      <td>Return_to_owner</td>\n",
       "      <td>NaN</td>\n",
       "      <td>Dog</td>\n",
       "      <td>Neutered Male</td>\n",
       "      <td>1 year</td>\n",
       "      <td>Shetland Sheepdog Mix</td>\n",
       "      <td>Brown/White</td>\n",
       "      <td>...</td>\n",
       "      <td>0.020984</td>\n",
       "      <td>0.049362</td>\n",
       "      <td>365.0</td>\n",
       "      <td>juvenile</td>\n",
       "      <td>HR_6</td>\n",
       "      <td>12</td>\n",
       "      <td>2</td>\n",
       "      <td>18</td>\n",
       "      <td>0</td>\n",
       "      <td>brown</td>\n",
       "    </tr>\n",
       "    <tr>\n",
       "      <th>1</th>\n",
       "      <td>A656520</td>\n",
       "      <td>Emily</td>\n",
       "      <td>2013-10-13 12:44:00</td>\n",
       "      <td>Euthanasia</td>\n",
       "      <td>Suffering</td>\n",
       "      <td>Cat</td>\n",
       "      <td>Spayed Female</td>\n",
       "      <td>1 year</td>\n",
       "      <td>Domestic Shorthair Mix</td>\n",
       "      <td>Cream Tabby</td>\n",
       "      <td>...</td>\n",
       "      <td>-0.000348</td>\n",
       "      <td>-0.000039</td>\n",
       "      <td>365.0</td>\n",
       "      <td>juvenile</td>\n",
       "      <td>HR_4</td>\n",
       "      <td>13</td>\n",
       "      <td>10</td>\n",
       "      <td>12</td>\n",
       "      <td>1</td>\n",
       "      <td>cream</td>\n",
       "    </tr>\n",
       "    <tr>\n",
       "      <th>2</th>\n",
       "      <td>A686464</td>\n",
       "      <td>Pearce</td>\n",
       "      <td>2015-01-31 12:28:00</td>\n",
       "      <td>Adoption</td>\n",
       "      <td>Foster</td>\n",
       "      <td>Dog</td>\n",
       "      <td>Neutered Male</td>\n",
       "      <td>2 years</td>\n",
       "      <td>Pit Bull Mix</td>\n",
       "      <td>Blue/White</td>\n",
       "      <td>...</td>\n",
       "      <td>0.006741</td>\n",
       "      <td>-0.001895</td>\n",
       "      <td>730.0</td>\n",
       "      <td>adult</td>\n",
       "      <td>HR_4</td>\n",
       "      <td>31</td>\n",
       "      <td>1</td>\n",
       "      <td>12</td>\n",
       "      <td>1</td>\n",
       "      <td>blue</td>\n",
       "    </tr>\n",
       "    <tr>\n",
       "      <th>3</th>\n",
       "      <td>A683430</td>\n",
       "      <td>NaN</td>\n",
       "      <td>2014-07-11 19:09:00</td>\n",
       "      <td>Transfer</td>\n",
       "      <td>Partner</td>\n",
       "      <td>Cat</td>\n",
       "      <td>Intact Male</td>\n",
       "      <td>3 weeks</td>\n",
       "      <td>Domestic Shorthair Mix</td>\n",
       "      <td>Blue Cream</td>\n",
       "      <td>...</td>\n",
       "      <td>-0.000348</td>\n",
       "      <td>-0.000039</td>\n",
       "      <td>21.0</td>\n",
       "      <td>baby</td>\n",
       "      <td>HR_6</td>\n",
       "      <td>11</td>\n",
       "      <td>7</td>\n",
       "      <td>19</td>\n",
       "      <td>0</td>\n",
       "      <td>blue</td>\n",
       "    </tr>\n",
       "    <tr>\n",
       "      <th>4</th>\n",
       "      <td>A667013</td>\n",
       "      <td>NaN</td>\n",
       "      <td>2013-11-15 12:52:00</td>\n",
       "      <td>Transfer</td>\n",
       "      <td>Partner</td>\n",
       "      <td>Dog</td>\n",
       "      <td>Neutered Male</td>\n",
       "      <td>2 years</td>\n",
       "      <td>Lhasa Apso/Miniature Poodle</td>\n",
       "      <td>Tan</td>\n",
       "      <td>...</td>\n",
       "      <td>0.108121</td>\n",
       "      <td>0.520692</td>\n",
       "      <td>730.0</td>\n",
       "      <td>adult</td>\n",
       "      <td>HR_4</td>\n",
       "      <td>15</td>\n",
       "      <td>11</td>\n",
       "      <td>12</td>\n",
       "      <td>0</td>\n",
       "      <td>tan</td>\n",
       "    </tr>\n",
       "  </tbody>\n",
       "</table>\n",
       "<p>5 rows × 66 columns</p>\n",
       "</div>"
      ],
      "text/plain": [
       "  AnimalID     Name            DateTime      OutcomeType OutcomeSubtype  \\\n",
       "0  A671945  Hambone 2014-02-12 18:22:00  Return_to_owner            NaN   \n",
       "1  A656520    Emily 2013-10-13 12:44:00       Euthanasia      Suffering   \n",
       "2  A686464   Pearce 2015-01-31 12:28:00         Adoption         Foster   \n",
       "3  A683430      NaN 2014-07-11 19:09:00         Transfer        Partner   \n",
       "4  A667013      NaN 2013-11-15 12:52:00         Transfer        Partner   \n",
       "\n",
       "  AnimalType SexuponOutcome AgeuponOutcome                        Breed  \\\n",
       "0        Dog  Neutered Male         1 year        Shetland Sheepdog Mix   \n",
       "1        Cat  Spayed Female         1 year       Domestic Shorthair Mix   \n",
       "2        Dog  Neutered Male        2 years                 Pit Bull Mix   \n",
       "3        Cat    Intact Male        3 weeks       Domestic Shorthair Mix   \n",
       "4        Dog  Neutered Male        2 years  Lhasa Apso/Miniature Poodle   \n",
       "\n",
       "         Color     ...       Breed_42  Breed_43  AgeDays  AgeBracket  \\\n",
       "0  Brown/White     ...       0.020984  0.049362    365.0    juvenile   \n",
       "1  Cream Tabby     ...      -0.000348 -0.000039    365.0    juvenile   \n",
       "2   Blue/White     ...       0.006741 -0.001895    730.0       adult   \n",
       "3   Blue Cream     ...      -0.000348 -0.000039     21.0        baby   \n",
       "4          Tan     ...       0.108121  0.520692    730.0       adult   \n",
       "\n",
       "   DaySegment  OutcomeDay  OutcomeMonth  OutcomeHour  IsWeekend  SimpleColor  \n",
       "0        HR_6          12             2           18          0        brown  \n",
       "1        HR_4          13            10           12          1        cream  \n",
       "2        HR_4          31             1           12          1         blue  \n",
       "3        HR_6          11             7           19          0         blue  \n",
       "4        HR_4          15            11           12          0          tan  \n",
       "\n",
       "[5 rows x 66 columns]"
      ]
     },
     "execution_count": 173,
     "metadata": {},
     "output_type": "execute_result"
    }
   ],
   "source": [
    "df.head()\n"
   ]
  },
  {
   "cell_type": "markdown",
   "metadata": {},
   "source": [
    "Select only the fields we need for learning."
   ]
  },
  {
   "cell_type": "code",
   "execution_count": 174,
   "metadata": {},
   "outputs": [
    {
     "name": "stdout",
     "output_type": "stream",
     "text": [
      "       OutcomeType AnimalType     Sex  Neutered  HasName  PureBreed   Breed_0  \\\n",
      "0  Return_to_owner        Dog    male         1        1          0 -0.314240   \n",
      "1       Euthanasia        Cat  female         1        1          0  0.607728   \n",
      "2         Adoption        Dog    male         1        1          0 -0.465691   \n",
      "3         Transfer        Cat    male         0        0          0  0.607728   \n",
      "4         Transfer        Dog    male         1        0          0 -0.364685   \n",
      "\n",
      "    Breed_1   Breed_2   Breed_3     ...       Breed_42  Breed_43  AgeDays  \\\n",
      "0 -0.062968  0.001002 -0.138225     ...       0.020984  0.049362    365.0   \n",
      "1  0.042688 -0.066866  0.008813     ...      -0.000348 -0.000039    365.0   \n",
      "2  0.814847  0.068050  0.198410     ...       0.006741 -0.001895    730.0   \n",
      "3  0.042688 -0.066866  0.008813     ...      -0.000348 -0.000039     21.0   \n",
      "4 -0.088368  0.003603 -0.202300     ...       0.108121  0.520692    730.0   \n",
      "\n",
      "   AgeBracket  DaySegment  OutcomeDay  OutcomeMonth  OutcomeHour  IsWeekend  \\\n",
      "0    juvenile        HR_6          12             2           18          0   \n",
      "1    juvenile        HR_4          13            10           12          1   \n",
      "2       adult        HR_4          31             1           12          1   \n",
      "3        baby        HR_6          11             7           19          0   \n",
      "4       adult        HR_4          15            11           12          0   \n",
      "\n",
      "   SimpleColor  \n",
      "0        brown  \n",
      "1        cream  \n",
      "2         blue  \n",
      "3         blue  \n",
      "4          tan  \n",
      "\n",
      "[5 rows x 58 columns]\n"
     ]
    }
   ],
   "source": [
    "prepared_df = df.copy()\n",
    "prepared_df = prepared_df.drop([\"AnimalID\", \"Name\", \"DateTime\", \"OutcomeSubtype\", \"SexuponOutcome\", \"AgeuponOutcome\", \"Breed\", \"Color\"], axis=1)\n",
    "\n",
    "print prepared_df.head()"
   ]
  },
  {
   "cell_type": "markdown",
   "metadata": {},
   "source": [
    "Pre-process our fields to make them suitable for passing to a machine learning algorithm."
   ]
  },
  {
   "cell_type": "code",
   "execution_count": 175,
   "metadata": {
    "collapsed": true
   },
   "outputs": [],
   "source": [
    "from sklearn import preprocessing\n",
    "# Need to install sklearn_pandas for DataFrameMapper. This is more flexible than sklearn pipeline\n",
    "# because it can perform separate operations on different columns of the dataframe.\n",
    "# pip install sklearn-pandas\n",
    "from sklearn_pandas import DataFrameMapper\n",
    "\n",
    "mapper = DataFrameMapper([\n",
    "     (\"AnimalType\", preprocessing.LabelBinarizer()),\n",
    "     (\"Sex\", preprocessing.LabelBinarizer()),\n",
    "     (\"Neutered\", preprocessing.LabelBinarizer()),\n",
    "     (\"PureBreed\", preprocessing.LabelBinarizer()),\n",
    "     (\"AgeBracket\", preprocessing.LabelBinarizer()),\n",
    "     (\"DaySegment\", preprocessing.LabelBinarizer()),\n",
    "     (\"IsWeekend\", preprocessing.LabelBinarizer()),\n",
    "     (\"HasName\", preprocessing.LabelBinarizer()),\n",
    "     (\"SimpleColor\", None),\n",
    "], default=None, df_out=True)\n",
    "\n",
    "labelMapper = DataFrameMapper([\n",
    "    (\"OutcomeType\", preprocessing.LabelEncoder()),\n",
    "], df_out=True)\n",
    "\n",
    "\n"
   ]
  },
  {
   "cell_type": "code",
   "execution_count": 176,
   "metadata": {},
   "outputs": [],
   "source": [
    "# Transform the target field\n",
    "classes_array = labelMapper.fit_transform(prepared_df)\n",
    "\n",
    "# Transform the independent features\n",
    "prepared_fitted_df = mapper.fit_transform(prepared_df)\n",
    "\n",
    "# Drop redundant columns to avoid the Dummy Variable Trap\n",
    "# This is not needed for Tree-based classifiers such as XGBoost, however\n",
    "# it is good practice anyway\n",
    "prepared_fitted_df = prepared_fitted_df.drop([\"Sex_unknown\",  \"AgeBracket_senior\", \"SimpleColor\", \"OutcomeType\" ], axis=1)\n",
    "\n",
    "# Convert the features dataframe to an array so as to be able to pass the data\n",
    "# to the learning functions.\n",
    "features_array = prepared_fitted_df.values \n",
    "\n",
    "#print prepared_fitted_df.columns\n",
    "#print classes_array.head()\n",
    "#prepared_fitted_df.head()\n"
   ]
  },
  {
   "cell_type": "markdown",
   "metadata": {},
   "source": [
    "As can be seen here the data is severely imbalanced. "
   ]
  },
  {
   "cell_type": "code",
   "execution_count": 177,
   "metadata": {},
   "outputs": [
    {
     "name": "stdout",
     "output_type": "stream",
     "text": [
      "Adoption = 10769\n",
      "Died = 197\n",
      "Euthanasia = 1555\n",
      "Return_to_owner = 4786\n",
      "Transfer = 9422\n"
     ]
    }
   ],
   "source": [
    "classnames = ['Adoption', 'Died', 'Euthanasia', 'Return_to_owner', 'Transfer']\n",
    "\n",
    "for c in range(0,5):\n",
    "    print classnames[c], \"=\", len(classes_array.loc[classes_array[\"OutcomeType\"]==c])"
   ]
  },
  {
   "cell_type": "markdown",
   "metadata": {},
   "source": [
    "Supersample the data using the SMOTE algorithm so as to mitigate the problem of class imbalance.\n",
    "\n",
    "NB. Here we used the library downloadable from http://contrib.scikit-learn.org/imbalanced-learn/stable/install.html"
   ]
  },
  {
   "cell_type": "code",
   "execution_count": 178,
   "metadata": {},
   "outputs": [
    {
     "name": "stdout",
     "output_type": "stream",
     "text": [
      "(26729, 66)\n",
      "(26729, 1)\n",
      "(21383, 66)\n",
      "(21383, 1)\n"
     ]
    }
   ],
   "source": [
    "from sklearn.model_selection import train_test_split\n",
    "from imblearn.over_sampling import SMOTE \n",
    "\n",
    "# Split the dataset into Train/Test\n",
    "X_train, X_test, y_train, y_test = train_test_split(features_array, classes_array.values, test_size=0.2, random_state=42)\n",
    "\n",
    "# Supersample the minitority class slightly.\n",
    "#sm = SMOTE(random_state=42, n_jobs=4, ratio={1:1000})\n",
    "#X_train, y_train = sm.fit_sample(X_train, y_train.ravel())\n",
    "\n",
    "# Restore the y_train array shape as SMOTE reshapes it.\n",
    "#y_train = np.transpose(y_train[np.newaxis])\n",
    "\n",
    "print features_array.shape\n",
    "print classes_array.shape\n",
    "print X_train.shape\n",
    "print y_train.shape\n"
   ]
  },
  {
   "cell_type": "markdown",
   "metadata": {},
   "source": [
    "Define a function to plot Receiver Operating Characteristic curves for the outcome class labels."
   ]
  },
  {
   "cell_type": "code",
   "execution_count": 179,
   "metadata": {
    "collapsed": true
   },
   "outputs": [],
   "source": [
    "from sklearn.metrics import roc_curve, auc\n",
    "from sklearn.preprocessing import label_binarize\n",
    "\n",
    "def plotROCCurves(classes, classlabels, y_test_bin, y_test_proba):\n",
    "    # Compute ROC curve and ROC area for each class\n",
    "    fpr = dict()\n",
    "    tpr = dict()\n",
    "    roc_auc = dict()\n",
    "    for i in range(0, len(classes)):\n",
    "        fpr[i], tpr[i], _ = roc_curve(y_test_bin[:, i], y_test_proba[:, i])\n",
    "        roc_auc[i] = auc(fpr[i], tpr[i])\n",
    "\n",
    "    print int(np.ceil(float(len(classes))/2)), 2\n",
    "    f, plts = plt.subplots(int(np.ceil(float(len(classes))/2)), 2, figsize=(10, 10))\n",
    "\n",
    "    plts = plts.ravel()\n",
    "    lw = 2\n",
    "\n",
    "    #classlabels=labelMapper.features[0][1].inverse_transform(classes)\n",
    "\n",
    "    for cls in range(0, len(plts)):#range(0, clf2.n_classes_):\n",
    "        #plt.subplot(3,2,cls+1)\n",
    "        if (cls < len(classes)):\n",
    "            plts[cls].plot(fpr[cls], tpr[cls], color='darkorange',\n",
    "                     lw=lw, label='ROC curve (area = %0.2f)' % roc_auc[cls])\n",
    "            plts[cls].plot([0, 1], [0, 1], color='navy', lw=lw, linestyle='--')\n",
    "            plts[cls].set_xlim([0.0, 1.0])\n",
    "            plts[cls].set_ylim([0.0, 1.05])\n",
    "            plts[cls].set_xlabel('False Positive Rate')\n",
    "            plts[cls].set_ylabel('True Positive Rate')\n",
    "            plts[cls].set_title('ROC curve - '+classlabels[cls]+\"(AUC = \" + str(round(roc_auc[cls], 2))+ \")\")\n",
    "            plt.legend(loc=\"lower right\")\n",
    "        else:\n",
    "            plts[cls].axis(\"off\")\n",
    "\n",
    "    f.subplots_adjust(hspace=0.4)\n",
    "    plt.show()\n",
    "    \n"
   ]
  },
  {
   "cell_type": "markdown",
   "metadata": {},
   "source": [
    "The XGBoost classifier, similar to RandomForest, has a feature importance/selection feature which we use here to perform feature reduction on our dataset."
   ]
  },
  {
   "cell_type": "code",
   "execution_count": 180,
   "metadata": {},
   "outputs": [
    {
     "data": {
      "image/png": "[encoded data removed]",
      "text/plain": [
       "<matplotlib.figure.Figure at 0x7f5ad2b0ad50>"
      ]
     },
     "metadata": {},
     "output_type": "display_data"
    },
    {
     "name": "stdout",
     "output_type": "stream",
     "text": [
      "Threshold= 1e-05 : Re-fitting with  64  features instead of  66\n",
      "f1 score= 0.660980575195\n",
      "log loss= 0.778512292982\n",
      "Threshold= 2.78255940221e-05 : Re-fitting with  64  features instead of  66\n",
      "f1 score= 0.660980575195\n",
      "log loss= 0.778512292982\n",
      "Threshold= 7.74263682681e-05 : Re-fitting with  64  features instead of  66\n",
      "f1 score= 0.660980575195\n",
      "log loss= 0.778512292982\n",
      "Threshold= 0.000215443469003 : Re-fitting with  64  features instead of  66\n",
      "f1 score= 0.660980575195\n",
      "log loss= 0.778512292982\n",
      "Threshold= 0.000599484250319 : Re-fitting with  62  features instead of  66\n",
      "f1 score= 0.662233964634\n",
      "log loss= 0.778217819136\n",
      "Threshold= 0.0016681005372 : Re-fitting with  60  features instead of  66\n",
      "f1 score= 0.661251475716\n",
      "log loss= 0.778567300735\n",
      "Threshold= 0.00464158883361 : Re-fitting with  45  features instead of  66\n",
      "f1 score= 0.663715358989\n",
      "log loss= 0.778308451776\n",
      "Threshold= 0.0129154966501 : Re-fitting with  15  features instead of  66\n",
      "f1 score= 0.661739771971\n",
      "log loss= 0.781921224611\n",
      "Threshold= 0.035938136638 : Re-fitting with  4  features instead of  66\n",
      "f1 score= 0.63324237084\n",
      "log loss= 0.818396440524\n",
      "Threshold= 0.1 : Re-fitting with  2  features instead of  66\n",
      "f1 score= 0.55159323547\n",
      "log loss= 0.961242752666\n"
     ]
    }
   ],
   "source": [
    "import xgboost as xgb\n",
    "from sklearn.metrics import roc_curve, auc\n",
    "from sklearn.preprocessing import label_binarize\n",
    "from sklearn.metrics import f1_score\n",
    "from sklearn.metrics import log_loss\n",
    "\n",
    "# Define an instance of XGBoost and fir the training set to it\n",
    "fselGB = xgb.XGBClassifier(n_jobs=4)\n",
    "fselGB.fit(X_train, y_train[:,0])\n",
    "\n",
    "# Plot feature importances visually\n",
    "fig, ax = plt.subplots(figsize=(20, 20))\n",
    "xgb.plot_importance(fselGB, ax=ax)\n",
    "plt.show()\n",
    "\n",
    "# In order to determine which features tp select for our model, we iterate on a threshold value.\n",
    "# Any feature with an importance value smaller than the threshold is removed and the model performance\n",
    "# is determined in terms of f1 score and log loss. \n",
    "# In this way we determine the threshold value at which the performance is maximised and hence which features\n",
    "# to include in our model.\n",
    "thresholds_for_test = np.geomspace(0.00001, 0.1, 10, endpoint=True)\n",
    "f1scores=[]\n",
    "loglosses=[]\n",
    "paramsleft=[]\n",
    "for thresh in thresholds_for_test:\n",
    "    support = fselGB.feature_importances_>thresh\n",
    "    print \"Threshold=\", thresh, \": Re-fitting with \", np.sum(support), \" features instead of \", len(support)\n",
    "    \n",
    "    GB2 = xgb.XGBClassifier(n_jobs=4)\n",
    "\n",
    "    GB2.fit(X_train[:,support], y_train[:,0])\n",
    "\n",
    "    preds = GB2.predict(X_test[:,support])\n",
    "    proba = GB2.predict_proba(X_test[:,support])\n",
    "\n",
    "    f1score = f1_score(y_test, preds, average=\"weighted\")\n",
    "    logloss = log_loss(y_test, proba, labels=GB2.classes_)\n",
    "    print \"f1 score=\", f1score\n",
    "    print \"log loss=\", logloss\n",
    "\n",
    "    f1scores.append(f1score)\n",
    "    loglosses.append(logloss)\n",
    "    paramsleft.append(np.sum(support))\n"
   ]
  },
  {
   "cell_type": "code",
   "execution_count": 181,
   "metadata": {},
   "outputs": [
    {
     "name": "stdout",
     "output_type": "stream",
     "text": [
      "[array([  1.00000000e-05,   2.78255940e-05,   7.74263683e-05,\n",
      "         2.15443469e-04,   5.99484250e-04,   1.66810054e-03,\n",
      "         4.64158883e-03,   1.29154967e-02,   3.59381366e-02,\n",
      "         1.00000000e-01]), [64, 64, 64, 64, 62, 60, 45, 15, 4, 2], [0.66098057519512643, 0.66098057519512643, 0.66098057519512643, 0.66098057519512643, 0.6622339646341775, 0.66125147571624332, 0.6637153589886301, 0.66173977197093559, 0.63324237083979629, 0.55159323547006478], [0.77851229298196445, 0.77851229298196445, 0.77851229298196445, 0.77851229298196445, 0.77821781913608068, 0.77856730073488334, 0.77830845177601471, 0.7819212246107845, 0.81839644052422744, 0.96124275266640569]]\n"
     ]
    }
   ],
   "source": [
    "xgbresults = [thresholds_for_test, paramsleft, f1scores, loglosses]\n",
    "print xgbresults"
   ]
  },
  {
   "cell_type": "markdown",
   "metadata": {},
   "source": [
    "Plot the resultant f1 scores and log loses vs. threshold in order to get a visual understanding of the effect of feature reduction on the model performance.\n",
    "Use the calculated scores to determine the optimal threshold."
   ]
  },
  {
   "cell_type": "code",
   "execution_count": 182,
   "metadata": {
    "scrolled": true
   },
   "outputs": [
    {
     "name": "stdout",
     "output_type": "stream",
     "text": [
      "Will use threshold  0.00262053654197\n",
      "[ True  True False  True False False  True  True  True False  True  True\n",
      "  True False  True False  True  True  True  True  True False  True  True\n",
      "  True  True  True  True  True  True  True False  True  True  True False\n",
      "  True  True  True False  True False  True False  True  True  True  True\n",
      "  True  True  True  True  True  True  True  True False  True  True  True\n",
      "  True  True  True  True  True  True]\n"
     ]
    },
    {
     "data": {
      "image/png": "[encoded data removed]",
      "text/plain": [
       "<matplotlib.figure.Figure at 0x7f5ad1b8a350>"
      ]
     },
     "metadata": {},
     "output_type": "display_data"
    }
   ],
   "source": [
    "f, ax = plt.subplots(1, figsize=(10,10))\n",
    "plt.plot(thresholds_for_test, f1scores, \"bx-\", thresholds_for_test, loglosses, \"rx-\",)\n",
    "\n",
    "f1_thresh = np.argsort(f1scores)[-1] # index of best f1 score\n",
    "ll_thresh = np.argsort(loglosses)[0] # index of best log loss\n",
    "\n",
    "# Average the two\n",
    "final_threshold = np.average((thresholds_for_test[f1_thresh], thresholds_for_test[ll_thresh]))\n",
    "\n",
    "# final_support is now a boolean array masking out the most important features.\n",
    "final_support = fselGB.feature_importances_>=final_threshold\n",
    "\n",
    "print \"Will use threshold \", final_threshold\n",
    "print final_support\n",
    "\n",
    "# Save the contents of X_test before feature reduction.\n",
    "#X_test_pre_red = X_test\n",
    "\n",
    "# Reduce the features on the training and test sets\n",
    "X_train = X_train[:,final_support]\n",
    "X_test = X_test[:, final_support]\n",
    "\n"
   ]
  },
  {
   "cell_type": "markdown",
   "metadata": {},
   "source": [
    "Print the selected column names in order of importance. \n",
    "\n",
    "We can see that the features identified as expanatory in the Data Exploration section also appear here. This is expected and is a good indication that we are selecting the correct fields.\n",
    "\n",
    "It is also interesting to see which breeds/breed features are he most important."
   ]
  },
  {
   "cell_type": "code",
   "execution_count": 183,
   "metadata": {},
   "outputs": [
    {
     "name": "stdout",
     "output_type": "stream",
     "text": [
      "['AgeDays' 'OutcomeHour' 'HasName' 'Neutered' 'Breed_0' 'Breed_1'\n",
      " 'OutcomeMonth' 'OutcomeDay' 'IsWeekend' 'AnimalType' 'Breed_6'\n",
      " 'DaySegment_HR_0' 'AgeBracket_baby' 'Breed_2' 'Breed_18' 'Breed_19'\n",
      " 'Breed_40' 'DaySegment_HR_2' 'DaySegment_HR_3' 'Breed_32' 'Breed_42'\n",
      " 'DaySegment_HR_6' 'Breed_8' 'Sex_female' 'Breed_9' 'Breed_10' 'Breed_39'\n",
      " 'Breed_35' 'Breed_27' 'Breed_28' 'Breed_43' 'Breed_4' 'Breed_20'\n",
      " 'Breed_29' 'AgeBracket_juvenile' 'Breed_14' 'Breed_5' 'Breed_31'\n",
      " 'Breed_24' 'Breed_7' 'Breed_15' 'Breed_26' 'Breed_36' 'Breed_34'\n",
      " 'Breed_33' 'Breed_12' 'DaySegment_HR_4' 'Breed_11' 'Breed_30' 'Breed_37'\n",
      " 'Breed_22' 'Breed_16' 'Breed_41']\n"
     ]
    }
   ],
   "source": [
    "sortedIndexes = np.argsort(fselGB.feature_importances_)[::-1]\n",
    "colnames= prepared_fitted_df.columns.values\n",
    "#colnames = np.append(colnames, \"SimpleOutcome\")\n",
    "\n",
    "print colnames[sortedIndexes][final_support[sortedIndexes]]"
   ]
  },
  {
   "cell_type": "code",
   "execution_count": null,
   "metadata": {},
   "outputs": [
    {
     "name": "stdout",
     "output_type": "stream",
     "text": [
      "Types [1, 2, 2, 1, 2, 2, 1, 2, 2, 1] and maxint [12, 19, 9, 0, 15, 0, 0, 3, 1, 0] detected\n",
      "--- Evolve in 332800 possible combinations ---\n",
      "[CV] reg_alpha=6.13443529534, n_jobs=2, colsample_bytree=0.47, missing=nan, learning_rate=0.3, colsample_bylevel=0.45, n_estimators=270, subsample=0.93, objective=multi:softprob, max_depth=500 \n",
      "[CV] reg_alpha=4.28990744493, n_jobs=2, colsample_bytree=0.51, missing=nan, learning_rate=0.4, colsample_bylevel=0.65, n_estimators=150, subsample=0.95, objective=multi:softprob, max_depth=500 \n",
      "[CV] reg_alpha=7.33563854429, n_jobs=2, colsample_bytree=0.45, missing=nan, learning_rate=0.2, colsample_bylevel=0.65, n_estimators=150, subsample=0.83, objective=multi:softprob, max_depth=500 \n"
     ]
    }
   ],
   "source": [
    "from sklearn.cross_validation import StratifiedKFold\n",
    "from scipy.stats import randint as sp_randint\n",
    "from scipy.stats import uniform as sp_uniform\n",
    "# We use the genetic algorithm cross validation search library at https://github.com/rsteca/sklearn-deap \n",
    "# in order to optimize the XGBoost Hyperparameters.\n",
    "from evolutionary_search import EvolutionaryAlgorithmSearchCV\n",
    "\n",
    "# Ideally we use approx. 10 folds\n",
    "k_fold = 3\n",
    "  \n",
    "# Use Stratified KFold so as to mitigate the effects of the imbalanced dataset.\n",
    "# Stratified k-fold makes sure that the cross validation folds are always selected with the same \n",
    "# ratio of outcome classes\n",
    "cv = StratifiedKFold(y_train[:,0],n_folds=k_fold,shuffle=True)\n",
    "  \n",
    "# initialize the classifier\n",
    "GB = xgb.XGBClassifier()\n",
    "  \n",
    "# Define the hyperparamer ranges inside which we want to optimize our model\n",
    "param_grid = {'max_depth': [500],\n",
    "              'learning_rate': np.arange(0.1,0.5, 0.1),\n",
    "              'objective':['multi:softprob'],\n",
    "              'n_jobs': [2],\n",
    "              'missing': [np.nan],\n",
    "              'reg_alpha': np.geomspace(3, 15, 10, endpoint=True),\n",
    "              'colsample_bytree': np.arange(0.25, 0.55, 0.02),\n",
    "              'colsample_bylevel': np.arange(0.45, 0.85, 0.2),\n",
    "              'subsample': np.arange(0.80, 1, 0.01),\n",
    "              'n_estimators': np.arange(50, 300, 20)}\n",
    "  \n",
    "#param_grid = {'max_depth': [500],\n",
    "#              'learning_rate': np.arange(0.15, 0.25, 0.01),\n",
    "#              'objective':['multi:softprob'],\n",
    "#              'n_jobs': [3],\n",
    "#              'missing': [np.nan],\n",
    "#              'reg_alpha': np.geomspace(3, 10, 10, endpoint=True),\n",
    "#              'colsample_bytree': np.arange(0.45, 0.55, 0.01),\n",
    "#              'colsample_bylevel': np.arange(0.75, 0.85, 0.01),\n",
    "#              'subsample': np.arange(0.85, 0.95, 0.01),\n",
    "#              'n_estimators': np.arange(50, 100, 10)}\n",
    "\n",
    "#param_grid = {'max_depth': [500],\n",
    "#              'learning_rate': np.arange(0.25, 0.35, 0.02),\n",
    "#              'objective':['multi:softprob'],\n",
    "#              'n_jobs': [2],\n",
    "#              'missing': [np.nan],\n",
    "#              'reg_alpha': np.geomspace(9, 11, 10, endpoint=True),\n",
    "#              'colsample_bytree': np.arange(0.25, 0.35, 0.02),\n",
    "#              'colsample_bylevel': np.arange(0.45, 0.55, 0.02),\n",
    "#              'subsample': np.arange(0.85, 1, 0.02),\n",
    "#              'n_estimators': np.arange(90, 110, 10)}\n",
    "\n",
    "search_GB = EvolutionaryAlgorithmSearchCV(estimator=GB,\n",
    "                                   params=param_grid,\n",
    "                                   scoring=\"neg_log_loss\",\n",
    "                                   cv=cv,\n",
    "                                   verbose=10,\n",
    "                                   population_size=50,\n",
    "                                   gene_mutation_prob=0.20,\n",
    "                                   gene_crossover_prob=0.5,\n",
    "                                   tournament_size=5,\n",
    "                                   generations_number=10,\n",
    "                                   n_jobs=3)\n",
    "\n",
    "search_GB.fit(X_train,y_train[:,0])\n",
    "print ' ',search_GB.best_score_\n",
    "print ' ',search_GB.best_params_\n",
    "\n"
   ]
  },
  {
   "cell_type": "code",
   "execution_count": 145,
   "metadata": {},
   "outputs": [
    {
     "name": "stdout",
     "output_type": "stream",
     "text": [
      "-0.784819966287\n",
      "{'reg_alpha': 10.999999999999996, 'n_jobs': 2, 'colsample_bytree': 0.33000000000000007, 'missing': nan, 'learning_rate': 0.27000000000000002, 'colsample_bylevel': 0.51000000000000001, 'n_estimators': 100, 'subsample': 0.95000000000000007, 'objective': 'multi:softprob', 'max_depth': 500}\n"
     ]
    }
   ],
   "source": [
    "print search_GB.best_score_\n",
    "print search_GB.best_params_"
   ]
  },
  {
   "cell_type": "markdown",
   "metadata": {},
   "source": [
    "Finally initialise our final model with optimized hyperparameters, train it with the selected features and generate predictions and probabilities for the test set."
   ]
  },
  {
   "cell_type": "code",
   "execution_count": 146,
   "metadata": {},
   "outputs": [
    {
     "name": "stdout",
     "output_type": "stream",
     "text": [
      "[3 0 4 ..., 0 4 3]\n",
      "[[  1.99435726e-01   2.51713558e-03   2.37187400e-01   3.64077449e-01\n",
      "    1.96782321e-01]\n",
      " [  8.31306875e-01   3.46147525e-03   1.01067135e-02   1.30236577e-02\n",
      "    1.42101318e-01]\n",
      " [  7.48300320e-03   7.92012736e-03   1.14293367e-01   5.36536239e-03\n",
      "    8.64938140e-01]\n",
      " ..., \n",
      " [  9.44354117e-01   9.15789162e-04   1.60371477e-03   6.12763409e-03\n",
      "    4.69987579e-02]\n",
      " [  1.49819930e-03   8.31386540e-03   7.59385526e-02   1.75407808e-03\n",
      "    9.12495315e-01]\n",
      " [  3.98147047e-01   2.10440881e-03   1.61974356e-02   5.25206447e-01\n",
      "    5.83446398e-02]]\n"
     ]
    }
   ],
   "source": [
    "from numpy import nan\n",
    "from numpy import sort\n",
    "import xgboost as xgb\n",
    "from sklearn.model_selection import train_test_split\n",
    "from sklearn.metrics import accuracy_score\n",
    "from sklearn.feature_selection import SelectFromModel\n",
    "\n",
    "params={'reg_alpha': 2.21221629107, 'n_jobs':2, 'colsample_bytree':0.3, 'missing':nan, 'learning_rate':0.1, 'colsample_bylevel':0.7, 'n_estimators':300, 'subsample':0.8, 'objective':'multi:softprob', 'max_depth':500}\n",
    "\n",
    "#params={'reg_alpha': 13.894954943731374, 'n_jobs': 2, 'colsample_bytree': 0.42988412779163959, 'missing': nan, 'learning_rate': 0.8455569183464563, 'n_estimators': 130, 'subsample': 0.75090906210651975, 'objective': 'multi:softprob', 'max_depth': 200}\n",
    "GB = xgb.XGBClassifier(**search_GB.best_params_)\n",
    "\n",
    "GB.fit(X_train, y_train[:,0])\n",
    "\n",
    "preds = GB.predict(X_test)\n",
    "\n",
    "proba = GB.predict_proba(X_test)\n",
    "\n",
    "print preds\n",
    "print proba\n"
   ]
  },
  {
   "cell_type": "markdown",
   "metadata": {},
   "source": [
    "Calculate performance metrics for our test set predictions."
   ]
  },
  {
   "cell_type": "code",
   "execution_count": 147,
   "metadata": {},
   "outputs": [
    {
     "name": "stdout",
     "output_type": "stream",
     "text": [
      "f1 score= 0.681444070333\n",
      "log loss= 0.759790222662\n"
     ]
    }
   ],
   "source": [
    "\n",
    "from sklearn.metrics import f1_score\n",
    "from sklearn.metrics import log_loss\n",
    "\n",
    "f1score = f1_score(y_test, preds, average=\"micro\")\n",
    "logloss = log_loss(y_test, proba, labels=GB.classes_)\n",
    "print \"f1 score=\", f1score\n",
    "print \"log loss=\", logloss"
   ]
  },
  {
   "cell_type": "markdown",
   "metadata": {},
   "source": [
    "Plot ROC curves for prediction performance for our outcome classes."
   ]
  },
  {
   "cell_type": "code",
   "execution_count": 148,
   "metadata": {},
   "outputs": [
    {
     "name": "stdout",
     "output_type": "stream",
     "text": [
      "3 2\n"
     ]
    },
    {
     "data": {
      "image/png": "[encoded data removed]",
      "text/plain": [
       "<matplotlib.figure.Figure at 0x7f5ad2467910>"
      ]
     },
     "metadata": {},
     "output_type": "display_data"
    }
   ],
   "source": [
    "y_test_bin = label_binarize(y_test[:,0], GB.classes_)\n",
    "plotROCCurves(GB.classes_, labelMapper.features[0][1].inverse_transform(GB.classes_), y_test_bin, proba)"
   ]
  },
  {
   "cell_type": "markdown",
   "metadata": {},
   "source": [
    "Also generate a confusion matrix for the predictions."
   ]
  },
  {
   "cell_type": "code",
   "execution_count": 105,
   "metadata": {},
   "outputs": [
    {
     "name": "stdout",
     "output_type": "stream",
     "text": [
      "['Adoption' 'Died' 'Euthanasia' 'Return_to_owner' 'Transfer']\n"
     ]
    },
    {
     "data": {
      "text/plain": [
       "array([[1816,    0,    2,  219,  182],\n",
       "       [   4,    2,    3,    1,   23],\n",
       "       [  41,    1,   62,   67,  127],\n",
       "       [ 382,    0,    5,  440,  134],\n",
       "       [ 336,    1,   24,  153, 1321]])"
      ]
     },
     "execution_count": 105,
     "metadata": {},
     "output_type": "execute_result"
    }
   ],
   "source": [
    "from sklearn.metrics import confusion_matrix\n",
    "print labelMapper.features[0][1].inverse_transform(GB.classes_)\n",
    "cm = confusion_matrix(y_test[:,0], preds)#y_train[:,0]\n",
    "cm\n"
   ]
  },
  {
   "cell_type": "markdown",
   "metadata": {},
   "source": [
    "Load the Kaggle test set and prepare predictions to submit to Kaggle"
   ]
  },
  {
   "cell_type": "code",
   "execution_count": 107,
   "metadata": {},
   "outputs": [
    {
     "name": "stdout",
     "output_type": "stream",
     "text": [
      "(11456, 262)\n",
      "0.421725288447\n",
      "NumDims= 45\n",
      "(11456, 45)\n",
      "   ID      Name            DateTime AnimalType SexuponOutcome AgeuponOutcome  \\\n",
      "0   1    Summer 2015-10-12 12:15:00        Dog  Intact Female      10 months   \n",
      "1   2  Cheyenne 2014-07-26 17:59:00        Dog  Spayed Female        2 years   \n",
      "2   3       Gus 2016-01-13 12:20:00        Cat  Neutered Male         1 year   \n",
      "3   4     Pongo 2013-12-28 18:12:00        Dog    Intact Male       4 months   \n",
      "4   5   Skooter 2015-09-24 17:59:00        Dog  Neutered Male        2 years   \n",
      "\n",
      "                            Breed        Color     Sex  Neutered     ...       \\\n",
      "0          Labrador Retriever Mix    Red/White  female         0     ...        \n",
      "1  German Shepherd/Siberian Husky    Black/Tan  female         1     ...        \n",
      "2          Domestic Shorthair Mix  Brown Tabby    male         1     ...        \n",
      "3               Collie Smooth Mix     Tricolor    male         0     ...        \n",
      "4            Miniature Poodle Mix        White    male         1     ...        \n",
      "\n",
      "   Breed_44  AgeDays  AgeBracket  DaySegment  OutcomeDay  OutcomeMonth  \\\n",
      "0  0.002633    300.0    juvenile        HR_4          12            10   \n",
      "1 -0.004763    730.0       adult        HR_5          26             7   \n",
      "2  0.000042    365.0    juvenile        HR_4          13             1   \n",
      "3  0.005941    120.0    juvenile        HR_6          28            12   \n",
      "4 -0.000299    730.0       adult        HR_5          24             9   \n",
      "\n",
      "   OutcomeHour  IsWeekend  HasName  SimpleColor  \n",
      "0           12          0        1          red  \n",
      "1           17          1        1        black  \n",
      "2           12          0        1        brown  \n",
      "3           18          1        1     tricolor  \n",
      "4           17          0        1        white  \n",
      "\n",
      "[5 rows x 65 columns]\n",
      "  AnimalType     Sex  Neutered  PureBreed   Breed_0   Breed_1   Breed_2  \\\n",
      "0        Dog  female         0          0 -0.435271 -0.401770 -0.504455   \n",
      "1        Dog  female         1          0 -0.390503 -0.139735  0.000219   \n",
      "2        Cat    male         1          0  0.608581  0.040551 -0.069607   \n",
      "3        Dog    male         0          0 -0.314992 -0.078866  0.011194   \n",
      "4        Dog    male         1          0 -0.323247 -0.086057  0.019836   \n",
      "\n",
      "    Breed_3   Breed_4   Breed_5     ...       Breed_44  AgeDays  AgeBracket  \\\n",
      "0  0.573518  0.060852  0.029323     ...       0.002633    300.0    juvenile   \n",
      "1 -0.275473 -0.381300  0.275883     ...      -0.004763    730.0       adult   \n",
      "2  0.009034 -0.025605 -0.011271     ...       0.000042    365.0    juvenile   \n",
      "3 -0.147543  0.004390 -0.107836     ...       0.005941    120.0    juvenile   \n",
      "4 -0.195921  0.011604 -0.197840     ...      -0.000299    730.0       adult   \n",
      "\n",
      "   DaySegment  OutcomeDay  OutcomeMonth  OutcomeHour  IsWeekend  HasName  \\\n",
      "0        HR_4          12            10           12          0        1   \n",
      "1        HR_5          26             7           17          1        1   \n",
      "2        HR_4          13             1           12          0        1   \n",
      "3        HR_6          28            12           18          1        1   \n",
      "4        HR_5          24             9           17          0        1   \n",
      "\n",
      "   SimpleColor  \n",
      "0          red  \n",
      "1        black  \n",
      "2        brown  \n",
      "3     tricolor  \n",
      "4        white  \n",
      "\n",
      "[5 rows x 58 columns]\n",
      "Index([u'AnimalType', u'Sex_female', u'Sex_male', u'Sex_unknown', u'Neutered',\n",
      "       u'PureBreed', u'AgeBracket_adult', u'AgeBracket_baby',\n",
      "       u'AgeBracket_juvenile', u'AgeBracket_senior', u'DaySegment_HR_0',\n",
      "       u'DaySegment_HR_1', u'DaySegment_HR_2', u'DaySegment_HR_3',\n",
      "       u'DaySegment_HR_4', u'DaySegment_HR_5', u'DaySegment_HR_6',\n",
      "       u'DaySegment_HR_7', u'IsWeekend', u'HasName', u'SimpleColor',\n",
      "       u'Breed_0', u'Breed_1', u'Breed_2', u'Breed_3', u'Breed_4', u'Breed_5',\n",
      "       u'Breed_6', u'Breed_7', u'Breed_8', u'Breed_9', u'Breed_10',\n",
      "       u'Breed_11', u'Breed_12', u'Breed_13', u'Breed_14', u'Breed_15',\n",
      "       u'Breed_16', u'Breed_17', u'Breed_18', u'Breed_19', u'Breed_20',\n",
      "       u'Breed_21', u'Breed_22', u'Breed_23', u'Breed_24', u'Breed_25',\n",
      "       u'Breed_26', u'Breed_27', u'Breed_28', u'Breed_29', u'Breed_30',\n",
      "       u'Breed_31', u'Breed_32', u'Breed_33', u'Breed_34', u'Breed_35',\n",
      "       u'Breed_36', u'Breed_37', u'Breed_38', u'Breed_39', u'Breed_40',\n",
      "       u'Breed_41', u'Breed_42', u'Breed_43', u'Breed_44', u'AgeDays',\n",
      "       u'OutcomeDay', u'OutcomeMonth', u'OutcomeHour'],\n",
      "      dtype='object')\n"
     ]
    },
    {
     "data": {
      "text/html": [
       "<div>\n",
       "<style>\n",
       "    .dataframe thead tr:only-child th {\n",
       "        text-align: right;\n",
       "    }\n",
       "\n",
       "    .dataframe thead th {\n",
       "        text-align: left;\n",
       "    }\n",
       "\n",
       "    .dataframe tbody tr th {\n",
       "        vertical-align: top;\n",
       "    }\n",
       "</style>\n",
       "<table border=\"1\" class=\"dataframe\">\n",
       "  <thead>\n",
       "    <tr style=\"text-align: right;\">\n",
       "      <th></th>\n",
       "      <th>AnimalType</th>\n",
       "      <th>Sex_female</th>\n",
       "      <th>Sex_male</th>\n",
       "      <th>Neutered</th>\n",
       "      <th>PureBreed</th>\n",
       "      <th>AgeBracket_adult</th>\n",
       "      <th>AgeBracket_baby</th>\n",
       "      <th>AgeBracket_juvenile</th>\n",
       "      <th>DaySegment_HR_0</th>\n",
       "      <th>DaySegment_HR_1</th>\n",
       "      <th>...</th>\n",
       "      <th>Breed_39</th>\n",
       "      <th>Breed_40</th>\n",
       "      <th>Breed_41</th>\n",
       "      <th>Breed_42</th>\n",
       "      <th>Breed_43</th>\n",
       "      <th>Breed_44</th>\n",
       "      <th>AgeDays</th>\n",
       "      <th>OutcomeDay</th>\n",
       "      <th>OutcomeMonth</th>\n",
       "      <th>OutcomeHour</th>\n",
       "    </tr>\n",
       "  </thead>\n",
       "  <tbody>\n",
       "    <tr>\n",
       "      <th>0</th>\n",
       "      <td>1</td>\n",
       "      <td>1</td>\n",
       "      <td>0</td>\n",
       "      <td>0</td>\n",
       "      <td>0</td>\n",
       "      <td>0</td>\n",
       "      <td>0</td>\n",
       "      <td>1</td>\n",
       "      <td>0</td>\n",
       "      <td>0</td>\n",
       "      <td>...</td>\n",
       "      <td>0.00284081</td>\n",
       "      <td>-0.0141782</td>\n",
       "      <td>0.00417197</td>\n",
       "      <td>0.00124011</td>\n",
       "      <td>0.00361832</td>\n",
       "      <td>0.00263329</td>\n",
       "      <td>300</td>\n",
       "      <td>12</td>\n",
       "      <td>10</td>\n",
       "      <td>12</td>\n",
       "    </tr>\n",
       "    <tr>\n",
       "      <th>1</th>\n",
       "      <td>1</td>\n",
       "      <td>1</td>\n",
       "      <td>0</td>\n",
       "      <td>1</td>\n",
       "      <td>0</td>\n",
       "      <td>1</td>\n",
       "      <td>0</td>\n",
       "      <td>0</td>\n",
       "      <td>0</td>\n",
       "      <td>0</td>\n",
       "      <td>...</td>\n",
       "      <td>-0.00290592</td>\n",
       "      <td>-0.0071319</td>\n",
       "      <td>-0.00833613</td>\n",
       "      <td>-0.020529</td>\n",
       "      <td>-0.015255</td>\n",
       "      <td>-0.00476314</td>\n",
       "      <td>730</td>\n",
       "      <td>26</td>\n",
       "      <td>7</td>\n",
       "      <td>17</td>\n",
       "    </tr>\n",
       "    <tr>\n",
       "      <th>2</th>\n",
       "      <td>0</td>\n",
       "      <td>0</td>\n",
       "      <td>1</td>\n",
       "      <td>1</td>\n",
       "      <td>0</td>\n",
       "      <td>0</td>\n",
       "      <td>0</td>\n",
       "      <td>1</td>\n",
       "      <td>0</td>\n",
       "      <td>0</td>\n",
       "      <td>...</td>\n",
       "      <td>9.44868e-06</td>\n",
       "      <td>8.00508e-05</td>\n",
       "      <td>5.59745e-06</td>\n",
       "      <td>3.90603e-05</td>\n",
       "      <td>-0.000160389</td>\n",
       "      <td>4.18726e-05</td>\n",
       "      <td>365</td>\n",
       "      <td>13</td>\n",
       "      <td>1</td>\n",
       "      <td>12</td>\n",
       "    </tr>\n",
       "    <tr>\n",
       "      <th>3</th>\n",
       "      <td>1</td>\n",
       "      <td>0</td>\n",
       "      <td>1</td>\n",
       "      <td>0</td>\n",
       "      <td>0</td>\n",
       "      <td>0</td>\n",
       "      <td>0</td>\n",
       "      <td>1</td>\n",
       "      <td>0</td>\n",
       "      <td>0</td>\n",
       "      <td>...</td>\n",
       "      <td>-0.00702014</td>\n",
       "      <td>0.0288</td>\n",
       "      <td>0.0234145</td>\n",
       "      <td>0.0187252</td>\n",
       "      <td>0.0566832</td>\n",
       "      <td>0.00594066</td>\n",
       "      <td>120</td>\n",
       "      <td>28</td>\n",
       "      <td>12</td>\n",
       "      <td>18</td>\n",
       "    </tr>\n",
       "    <tr>\n",
       "      <th>4</th>\n",
       "      <td>1</td>\n",
       "      <td>0</td>\n",
       "      <td>1</td>\n",
       "      <td>1</td>\n",
       "      <td>0</td>\n",
       "      <td>1</td>\n",
       "      <td>0</td>\n",
       "      <td>0</td>\n",
       "      <td>0</td>\n",
       "      <td>0</td>\n",
       "      <td>...</td>\n",
       "      <td>0.00128108</td>\n",
       "      <td>0.00272011</td>\n",
       "      <td>-0.0198743</td>\n",
       "      <td>0.00547661</td>\n",
       "      <td>-0.00354888</td>\n",
       "      <td>-0.000299144</td>\n",
       "      <td>730</td>\n",
       "      <td>24</td>\n",
       "      <td>9</td>\n",
       "      <td>17</td>\n",
       "    </tr>\n",
       "  </tbody>\n",
       "</table>\n",
       "<p>5 rows × 66 columns</p>\n",
       "</div>"
      ],
      "text/plain": [
       "  AnimalType Sex_female Sex_male Neutered PureBreed AgeBracket_adult  \\\n",
       "0          1          1        0        0         0                0   \n",
       "1          1          1        0        1         0                1   \n",
       "2          0          0        1        1         0                0   \n",
       "3          1          0        1        0         0                0   \n",
       "4          1          0        1        1         0                1   \n",
       "\n",
       "  AgeBracket_baby AgeBracket_juvenile DaySegment_HR_0 DaySegment_HR_1  \\\n",
       "0               0                   1               0               0   \n",
       "1               0                   0               0               0   \n",
       "2               0                   1               0               0   \n",
       "3               0                   1               0               0   \n",
       "4               0                   0               0               0   \n",
       "\n",
       "      ...         Breed_39     Breed_40     Breed_41     Breed_42  \\\n",
       "0     ...       0.00284081   -0.0141782   0.00417197   0.00124011   \n",
       "1     ...      -0.00290592   -0.0071319  -0.00833613    -0.020529   \n",
       "2     ...      9.44868e-06  8.00508e-05  5.59745e-06  3.90603e-05   \n",
       "3     ...      -0.00702014       0.0288    0.0234145    0.0187252   \n",
       "4     ...       0.00128108   0.00272011   -0.0198743   0.00547661   \n",
       "\n",
       "      Breed_43     Breed_44 AgeDays OutcomeDay OutcomeMonth OutcomeHour  \n",
       "0   0.00361832   0.00263329     300         12           10          12  \n",
       "1    -0.015255  -0.00476314     730         26            7          17  \n",
       "2 -0.000160389  4.18726e-05     365         13            1          12  \n",
       "3    0.0566832   0.00594066     120         28           12          18  \n",
       "4  -0.00354888 -0.000299144     730         24            9          17  \n",
       "\n",
       "[5 rows x 66 columns]"
      ]
     },
     "execution_count": 107,
     "metadata": {},
     "output_type": "execute_result"
    }
   ],
   "source": [
    "testdf = pd.read_csv(\"test.csv\")\n",
    "\n",
    "splitSex(testdf)\n",
    "cleanupBreed(testdf)\n",
    "testdf = processBreed(testdf, True) \n",
    "processAge(testdf)    \n",
    "processDate(testdf)\n",
    "processWeekend(testdf)\n",
    "processName(testdf)\n",
    "processColor(testdf)\n",
    "\n",
    "\n",
    "prepared_testdf = testdf.copy()\n",
    "print prepared_testdf.head()\n",
    "prepared_testdf = prepared_testdf.drop([\"ID\", \"Name\", \"DateTime\", \"SexuponOutcome\", \"AgeuponOutcome\", \"Breed\", \"Color\"], axis=1)\n",
    "\n",
    "print prepared_testdf.head()\n",
    "\n",
    "prepared_fitted_testdf = mapper.fit_transform(prepared_testdf)\n",
    "\n",
    "print prepared_fitted_testdf.columns\n",
    "# Drop redundant columns to avoid the Dummy Variable Trap\n",
    "prepared_fitted_testdf = prepared_fitted_testdf.drop([\"Sex_unknown\",  \"AgeBracket_senior\", \"DaySegment_HR_7\", \"SimpleColor\" ], axis=1)\n",
    "prepared_fitted_testdf.head()"
   ]
  },
  {
   "cell_type": "code",
   "execution_count": 108,
   "metadata": {},
   "outputs": [
    {
     "name": "stdout",
     "output_type": "stream",
     "text": [
      "  AnimalType Sex_female Sex_male Neutered PureBreed AgeBracket_adult  \\\n",
      "0          1          1        0        0         0                0   \n",
      "1          1          1        0        1         0                1   \n",
      "2          0          0        1        1         0                0   \n",
      "3          1          0        1        0         0                0   \n",
      "4          1          0        1        1         0                1   \n",
      "\n",
      "  AgeBracket_baby AgeBracket_juvenile DaySegment_HR_0 DaySegment_HR_1  \\\n",
      "0               0                   1               0               0   \n",
      "1               0                   0               0               0   \n",
      "2               0                   1               0               0   \n",
      "3               0                   1               0               0   \n",
      "4               0                   0               0               0   \n",
      "\n",
      "      ...         Breed_39     Breed_40     Breed_41     Breed_42  \\\n",
      "0     ...       0.00284081   -0.0141782   0.00417197   0.00124011   \n",
      "1     ...      -0.00290592   -0.0071319  -0.00833613    -0.020529   \n",
      "2     ...      9.44868e-06  8.00508e-05  5.59745e-06  3.90603e-05   \n",
      "3     ...      -0.00702014       0.0288    0.0234145    0.0187252   \n",
      "4     ...       0.00128108   0.00272011   -0.0198743   0.00547661   \n",
      "\n",
      "      Breed_43     Breed_44 AgeDays OutcomeDay OutcomeMonth OutcomeHour  \n",
      "0   0.00361832   0.00263329     300         12           10          12  \n",
      "1    -0.015255  -0.00476314     730         26            7          17  \n",
      "2 -0.000160389  4.18726e-05     365         13            1          12  \n",
      "3    0.0566832   0.00594066     120         28           12          18  \n",
      "4  -0.00354888 -0.000299144     730         24            9          17  \n",
      "\n",
      "[5 rows x 66 columns]\n",
      "  AnimalType Sex_female Sex_male Neutered PureBreed AgeBracket_adult  \\\n",
      "0          1          0        1        1         0                0   \n",
      "1          0          1        0        1         0                0   \n",
      "2          1          0        1        1         0                1   \n",
      "3          0          0        1        0         0                0   \n",
      "4          1          0        1        1         0                1   \n",
      "\n",
      "  AgeBracket_baby AgeBracket_juvenile DaySegment_HR_0 DaySegment_HR_1  \\\n",
      "0               0                   1               0               0   \n",
      "1               0                   1               0               0   \n",
      "2               0                   0               0               0   \n",
      "3               1                   0               0               0   \n",
      "4               0                   0               0               0   \n",
      "\n",
      "      ...         Breed_38     Breed_39     Breed_40     Breed_41  \\\n",
      "0     ...       -0.0379624   -0.0102894  0.000810404    0.0104843   \n",
      "1     ...        0.0003359  0.000320076  -0.00048326  0.000160338   \n",
      "2     ...      0.000912824 -0.000881911  -0.00295428   0.00206163   \n",
      "3     ...        0.0003359  0.000320076  -0.00048326  0.000160338   \n",
      "4     ...        -0.113525   -0.0429514    0.0250403    0.0261136   \n",
      "\n",
      "      Breed_42     Breed_43 AgeDays OutcomeDay OutcomeMonth OutcomeHour  \n",
      "0    0.0209842    0.0493621     365         12            2          18  \n",
      "1 -0.000347932 -3.92784e-05     365         13           10          12  \n",
      "2   0.00674079  -0.00189519     730         31            1          12  \n",
      "3 -0.000347932 -3.92784e-05      21         11            7          19  \n",
      "4     0.108121     0.520692     730         15           11          12  \n",
      "\n",
      "[5 rows x 66 columns]\n",
      "[0 1 2 3 4]\n",
      "['Adoption' 'Died' 'Euthanasia' 'Return_to_owner' 'Transfer']\n"
     ]
    },
    {
     "data": {
      "text/html": [
       "<div>\n",
       "<style>\n",
       "    .dataframe thead tr:only-child th {\n",
       "        text-align: right;\n",
       "    }\n",
       "\n",
       "    .dataframe thead th {\n",
       "        text-align: left;\n",
       "    }\n",
       "\n",
       "    .dataframe tbody tr th {\n",
       "        vertical-align: top;\n",
       "    }\n",
       "</style>\n",
       "<table border=\"1\" class=\"dataframe\">\n",
       "  <thead>\n",
       "    <tr style=\"text-align: right;\">\n",
       "      <th></th>\n",
       "      <th>ID</th>\n",
       "      <th>Adoption</th>\n",
       "      <th>Died</th>\n",
       "      <th>Euthanasia</th>\n",
       "      <th>Return_to_owner</th>\n",
       "      <th>Transfer</th>\n",
       "    </tr>\n",
       "  </thead>\n",
       "  <tbody>\n",
       "    <tr>\n",
       "      <th>0</th>\n",
       "      <td>1</td>\n",
       "      <td>0.036540</td>\n",
       "      <td>0.009990</td>\n",
       "      <td>0.132398</td>\n",
       "      <td>0.044997</td>\n",
       "      <td>0.776075</td>\n",
       "    </tr>\n",
       "    <tr>\n",
       "      <th>1</th>\n",
       "      <td>2</td>\n",
       "      <td>0.580759</td>\n",
       "      <td>0.006121</td>\n",
       "      <td>0.090742</td>\n",
       "      <td>0.058012</td>\n",
       "      <td>0.264366</td>\n",
       "    </tr>\n",
       "    <tr>\n",
       "      <th>2</th>\n",
       "      <td>3</td>\n",
       "      <td>0.753340</td>\n",
       "      <td>0.003238</td>\n",
       "      <td>0.008420</td>\n",
       "      <td>0.109325</td>\n",
       "      <td>0.125678</td>\n",
       "    </tr>\n",
       "    <tr>\n",
       "      <th>3</th>\n",
       "      <td>4</td>\n",
       "      <td>0.163197</td>\n",
       "      <td>0.032682</td>\n",
       "      <td>0.162161</td>\n",
       "      <td>0.099635</td>\n",
       "      <td>0.542326</td>\n",
       "    </tr>\n",
       "    <tr>\n",
       "      <th>4</th>\n",
       "      <td>5</td>\n",
       "      <td>0.709774</td>\n",
       "      <td>0.006771</td>\n",
       "      <td>0.063068</td>\n",
       "      <td>0.053185</td>\n",
       "      <td>0.167201</td>\n",
       "    </tr>\n",
       "    <tr>\n",
       "      <th>5</th>\n",
       "      <td>6</td>\n",
       "      <td>0.199058</td>\n",
       "      <td>0.016648</td>\n",
       "      <td>0.106113</td>\n",
       "      <td>0.122849</td>\n",
       "      <td>0.555333</td>\n",
       "    </tr>\n",
       "    <tr>\n",
       "      <th>6</th>\n",
       "      <td>7</td>\n",
       "      <td>0.133719</td>\n",
       "      <td>0.024426</td>\n",
       "      <td>0.564459</td>\n",
       "      <td>0.048800</td>\n",
       "      <td>0.228596</td>\n",
       "    </tr>\n",
       "    <tr>\n",
       "      <th>7</th>\n",
       "      <td>8</td>\n",
       "      <td>0.903803</td>\n",
       "      <td>0.006504</td>\n",
       "      <td>0.012787</td>\n",
       "      <td>0.014435</td>\n",
       "      <td>0.062471</td>\n",
       "    </tr>\n",
       "    <tr>\n",
       "      <th>8</th>\n",
       "      <td>9</td>\n",
       "      <td>0.858423</td>\n",
       "      <td>0.004780</td>\n",
       "      <td>0.013394</td>\n",
       "      <td>0.034738</td>\n",
       "      <td>0.088665</td>\n",
       "    </tr>\n",
       "    <tr>\n",
       "      <th>9</th>\n",
       "      <td>10</td>\n",
       "      <td>0.741714</td>\n",
       "      <td>0.003932</td>\n",
       "      <td>0.020817</td>\n",
       "      <td>0.035692</td>\n",
       "      <td>0.197846</td>\n",
       "    </tr>\n",
       "    <tr>\n",
       "      <th>10</th>\n",
       "      <td>11</td>\n",
       "      <td>0.896051</td>\n",
       "      <td>0.002930</td>\n",
       "      <td>0.007756</td>\n",
       "      <td>0.029065</td>\n",
       "      <td>0.064197</td>\n",
       "    </tr>\n",
       "    <tr>\n",
       "      <th>11</th>\n",
       "      <td>12</td>\n",
       "      <td>0.016938</td>\n",
       "      <td>0.010527</td>\n",
       "      <td>0.209441</td>\n",
       "      <td>0.048667</td>\n",
       "      <td>0.714427</td>\n",
       "    </tr>\n",
       "    <tr>\n",
       "      <th>12</th>\n",
       "      <td>13</td>\n",
       "      <td>0.670164</td>\n",
       "      <td>0.003334</td>\n",
       "      <td>0.012676</td>\n",
       "      <td>0.019481</td>\n",
       "      <td>0.294344</td>\n",
       "    </tr>\n",
       "    <tr>\n",
       "      <th>13</th>\n",
       "      <td>14</td>\n",
       "      <td>0.602118</td>\n",
       "      <td>0.009283</td>\n",
       "      <td>0.098990</td>\n",
       "      <td>0.106081</td>\n",
       "      <td>0.183528</td>\n",
       "    </tr>\n",
       "    <tr>\n",
       "      <th>14</th>\n",
       "      <td>15</td>\n",
       "      <td>0.802928</td>\n",
       "      <td>0.006064</td>\n",
       "      <td>0.018738</td>\n",
       "      <td>0.062618</td>\n",
       "      <td>0.109652</td>\n",
       "    </tr>\n",
       "    <tr>\n",
       "      <th>15</th>\n",
       "      <td>16</td>\n",
       "      <td>0.829225</td>\n",
       "      <td>0.005739</td>\n",
       "      <td>0.011008</td>\n",
       "      <td>0.025977</td>\n",
       "      <td>0.128051</td>\n",
       "    </tr>\n",
       "    <tr>\n",
       "      <th>16</th>\n",
       "      <td>17</td>\n",
       "      <td>0.582588</td>\n",
       "      <td>0.008830</td>\n",
       "      <td>0.084673</td>\n",
       "      <td>0.114807</td>\n",
       "      <td>0.209103</td>\n",
       "    </tr>\n",
       "    <tr>\n",
       "      <th>17</th>\n",
       "      <td>18</td>\n",
       "      <td>0.630563</td>\n",
       "      <td>0.009931</td>\n",
       "      <td>0.085523</td>\n",
       "      <td>0.096055</td>\n",
       "      <td>0.177929</td>\n",
       "    </tr>\n",
       "    <tr>\n",
       "      <th>18</th>\n",
       "      <td>19</td>\n",
       "      <td>0.567692</td>\n",
       "      <td>0.003352</td>\n",
       "      <td>0.011983</td>\n",
       "      <td>0.184139</td>\n",
       "      <td>0.232834</td>\n",
       "    </tr>\n",
       "    <tr>\n",
       "      <th>19</th>\n",
       "      <td>20</td>\n",
       "      <td>0.171397</td>\n",
       "      <td>0.012198</td>\n",
       "      <td>0.103703</td>\n",
       "      <td>0.397848</td>\n",
       "      <td>0.314854</td>\n",
       "    </tr>\n",
       "    <tr>\n",
       "      <th>20</th>\n",
       "      <td>21</td>\n",
       "      <td>0.748602</td>\n",
       "      <td>0.001268</td>\n",
       "      <td>0.006873</td>\n",
       "      <td>0.215672</td>\n",
       "      <td>0.027583</td>\n",
       "    </tr>\n",
       "    <tr>\n",
       "      <th>21</th>\n",
       "      <td>22</td>\n",
       "      <td>0.004307</td>\n",
       "      <td>0.008403</td>\n",
       "      <td>0.008499</td>\n",
       "      <td>0.004506</td>\n",
       "      <td>0.974286</td>\n",
       "    </tr>\n",
       "    <tr>\n",
       "      <th>22</th>\n",
       "      <td>23</td>\n",
       "      <td>0.494168</td>\n",
       "      <td>0.007789</td>\n",
       "      <td>0.041185</td>\n",
       "      <td>0.070761</td>\n",
       "      <td>0.386097</td>\n",
       "    </tr>\n",
       "    <tr>\n",
       "      <th>23</th>\n",
       "      <td>24</td>\n",
       "      <td>0.007115</td>\n",
       "      <td>0.008494</td>\n",
       "      <td>0.007631</td>\n",
       "      <td>0.004192</td>\n",
       "      <td>0.972568</td>\n",
       "    </tr>\n",
       "    <tr>\n",
       "      <th>24</th>\n",
       "      <td>25</td>\n",
       "      <td>0.537865</td>\n",
       "      <td>0.010559</td>\n",
       "      <td>0.062439</td>\n",
       "      <td>0.054595</td>\n",
       "      <td>0.334543</td>\n",
       "    </tr>\n",
       "    <tr>\n",
       "      <th>25</th>\n",
       "      <td>26</td>\n",
       "      <td>0.408940</td>\n",
       "      <td>0.001946</td>\n",
       "      <td>0.014262</td>\n",
       "      <td>0.078965</td>\n",
       "      <td>0.495887</td>\n",
       "    </tr>\n",
       "    <tr>\n",
       "      <th>26</th>\n",
       "      <td>27</td>\n",
       "      <td>0.929565</td>\n",
       "      <td>0.001689</td>\n",
       "      <td>0.005143</td>\n",
       "      <td>0.005768</td>\n",
       "      <td>0.057834</td>\n",
       "    </tr>\n",
       "    <tr>\n",
       "      <th>27</th>\n",
       "      <td>28</td>\n",
       "      <td>0.108661</td>\n",
       "      <td>0.129858</td>\n",
       "      <td>0.287880</td>\n",
       "      <td>0.027286</td>\n",
       "      <td>0.446315</td>\n",
       "    </tr>\n",
       "    <tr>\n",
       "      <th>28</th>\n",
       "      <td>29</td>\n",
       "      <td>0.637120</td>\n",
       "      <td>0.003875</td>\n",
       "      <td>0.059932</td>\n",
       "      <td>0.085140</td>\n",
       "      <td>0.213934</td>\n",
       "    </tr>\n",
       "    <tr>\n",
       "      <th>29</th>\n",
       "      <td>30</td>\n",
       "      <td>0.687876</td>\n",
       "      <td>0.003396</td>\n",
       "      <td>0.055727</td>\n",
       "      <td>0.091059</td>\n",
       "      <td>0.161942</td>\n",
       "    </tr>\n",
       "    <tr>\n",
       "      <th>...</th>\n",
       "      <td>...</td>\n",
       "      <td>...</td>\n",
       "      <td>...</td>\n",
       "      <td>...</td>\n",
       "      <td>...</td>\n",
       "      <td>...</td>\n",
       "    </tr>\n",
       "    <tr>\n",
       "      <th>11426</th>\n",
       "      <td>11427</td>\n",
       "      <td>0.313314</td>\n",
       "      <td>0.011323</td>\n",
       "      <td>0.129963</td>\n",
       "      <td>0.081908</td>\n",
       "      <td>0.463493</td>\n",
       "    </tr>\n",
       "    <tr>\n",
       "      <th>11427</th>\n",
       "      <td>11428</td>\n",
       "      <td>0.080916</td>\n",
       "      <td>0.025502</td>\n",
       "      <td>0.081589</td>\n",
       "      <td>0.033421</td>\n",
       "      <td>0.778573</td>\n",
       "    </tr>\n",
       "    <tr>\n",
       "      <th>11428</th>\n",
       "      <td>11429</td>\n",
       "      <td>0.338145</td>\n",
       "      <td>0.012502</td>\n",
       "      <td>0.136687</td>\n",
       "      <td>0.109348</td>\n",
       "      <td>0.403319</td>\n",
       "    </tr>\n",
       "    <tr>\n",
       "      <th>11429</th>\n",
       "      <td>11430</td>\n",
       "      <td>0.794542</td>\n",
       "      <td>0.005883</td>\n",
       "      <td>0.044248</td>\n",
       "      <td>0.049161</td>\n",
       "      <td>0.106166</td>\n",
       "    </tr>\n",
       "    <tr>\n",
       "      <th>11430</th>\n",
       "      <td>11431</td>\n",
       "      <td>0.811800</td>\n",
       "      <td>0.001612</td>\n",
       "      <td>0.002388</td>\n",
       "      <td>0.008053</td>\n",
       "      <td>0.176148</td>\n",
       "    </tr>\n",
       "    <tr>\n",
       "      <th>11431</th>\n",
       "      <td>11432</td>\n",
       "      <td>0.035625</td>\n",
       "      <td>0.034067</td>\n",
       "      <td>0.236963</td>\n",
       "      <td>0.076589</td>\n",
       "      <td>0.616756</td>\n",
       "    </tr>\n",
       "    <tr>\n",
       "      <th>11432</th>\n",
       "      <td>11433</td>\n",
       "      <td>0.553759</td>\n",
       "      <td>0.010503</td>\n",
       "      <td>0.116671</td>\n",
       "      <td>0.074286</td>\n",
       "      <td>0.244781</td>\n",
       "    </tr>\n",
       "    <tr>\n",
       "      <th>11433</th>\n",
       "      <td>11434</td>\n",
       "      <td>0.599260</td>\n",
       "      <td>0.009518</td>\n",
       "      <td>0.016968</td>\n",
       "      <td>0.053020</td>\n",
       "      <td>0.321234</td>\n",
       "    </tr>\n",
       "    <tr>\n",
       "      <th>11434</th>\n",
       "      <td>11435</td>\n",
       "      <td>0.459615</td>\n",
       "      <td>0.027512</td>\n",
       "      <td>0.167868</td>\n",
       "      <td>0.073341</td>\n",
       "      <td>0.271665</td>\n",
       "    </tr>\n",
       "    <tr>\n",
       "      <th>11435</th>\n",
       "      <td>11436</td>\n",
       "      <td>0.032171</td>\n",
       "      <td>0.028907</td>\n",
       "      <td>0.029222</td>\n",
       "      <td>0.021063</td>\n",
       "      <td>0.888637</td>\n",
       "    </tr>\n",
       "    <tr>\n",
       "      <th>11436</th>\n",
       "      <td>11437</td>\n",
       "      <td>0.878415</td>\n",
       "      <td>0.000911</td>\n",
       "      <td>0.003619</td>\n",
       "      <td>0.074123</td>\n",
       "      <td>0.042932</td>\n",
       "    </tr>\n",
       "    <tr>\n",
       "      <th>11437</th>\n",
       "      <td>11438</td>\n",
       "      <td>0.034194</td>\n",
       "      <td>0.025539</td>\n",
       "      <td>0.117307</td>\n",
       "      <td>0.061467</td>\n",
       "      <td>0.761494</td>\n",
       "    </tr>\n",
       "    <tr>\n",
       "      <th>11438</th>\n",
       "      <td>11439</td>\n",
       "      <td>0.859873</td>\n",
       "      <td>0.008232</td>\n",
       "      <td>0.028606</td>\n",
       "      <td>0.021641</td>\n",
       "      <td>0.081648</td>\n",
       "    </tr>\n",
       "    <tr>\n",
       "      <th>11439</th>\n",
       "      <td>11440</td>\n",
       "      <td>0.504575</td>\n",
       "      <td>0.006477</td>\n",
       "      <td>0.057531</td>\n",
       "      <td>0.067893</td>\n",
       "      <td>0.363524</td>\n",
       "    </tr>\n",
       "    <tr>\n",
       "      <th>11440</th>\n",
       "      <td>11441</td>\n",
       "      <td>0.018721</td>\n",
       "      <td>0.018697</td>\n",
       "      <td>0.021038</td>\n",
       "      <td>0.016081</td>\n",
       "      <td>0.925463</td>\n",
       "    </tr>\n",
       "    <tr>\n",
       "      <th>11441</th>\n",
       "      <td>11442</td>\n",
       "      <td>0.553489</td>\n",
       "      <td>0.009431</td>\n",
       "      <td>0.082554</td>\n",
       "      <td>0.102125</td>\n",
       "      <td>0.252401</td>\n",
       "    </tr>\n",
       "    <tr>\n",
       "      <th>11442</th>\n",
       "      <td>11443</td>\n",
       "      <td>0.442905</td>\n",
       "      <td>0.006541</td>\n",
       "      <td>0.087122</td>\n",
       "      <td>0.094780</td>\n",
       "      <td>0.368653</td>\n",
       "    </tr>\n",
       "    <tr>\n",
       "      <th>11443</th>\n",
       "      <td>11444</td>\n",
       "      <td>0.583185</td>\n",
       "      <td>0.005516</td>\n",
       "      <td>0.019361</td>\n",
       "      <td>0.016868</td>\n",
       "      <td>0.375069</td>\n",
       "    </tr>\n",
       "    <tr>\n",
       "      <th>11444</th>\n",
       "      <td>11445</td>\n",
       "      <td>0.117789</td>\n",
       "      <td>0.010563</td>\n",
       "      <td>0.091878</td>\n",
       "      <td>0.358399</td>\n",
       "      <td>0.421371</td>\n",
       "    </tr>\n",
       "    <tr>\n",
       "      <th>11445</th>\n",
       "      <td>11446</td>\n",
       "      <td>0.003826</td>\n",
       "      <td>0.007006</td>\n",
       "      <td>0.009171</td>\n",
       "      <td>0.003298</td>\n",
       "      <td>0.976699</td>\n",
       "    </tr>\n",
       "    <tr>\n",
       "      <th>11446</th>\n",
       "      <td>11447</td>\n",
       "      <td>0.980903</td>\n",
       "      <td>0.000480</td>\n",
       "      <td>0.001116</td>\n",
       "      <td>0.010891</td>\n",
       "      <td>0.006610</td>\n",
       "    </tr>\n",
       "    <tr>\n",
       "      <th>11447</th>\n",
       "      <td>11448</td>\n",
       "      <td>0.621676</td>\n",
       "      <td>0.005620</td>\n",
       "      <td>0.036358</td>\n",
       "      <td>0.046811</td>\n",
       "      <td>0.289534</td>\n",
       "    </tr>\n",
       "    <tr>\n",
       "      <th>11448</th>\n",
       "      <td>11449</td>\n",
       "      <td>0.948628</td>\n",
       "      <td>0.000941</td>\n",
       "      <td>0.004147</td>\n",
       "      <td>0.013837</td>\n",
       "      <td>0.032447</td>\n",
       "    </tr>\n",
       "    <tr>\n",
       "      <th>11449</th>\n",
       "      <td>11450</td>\n",
       "      <td>0.607360</td>\n",
       "      <td>0.003260</td>\n",
       "      <td>0.014119</td>\n",
       "      <td>0.019343</td>\n",
       "      <td>0.355917</td>\n",
       "    </tr>\n",
       "    <tr>\n",
       "      <th>11450</th>\n",
       "      <td>11451</td>\n",
       "      <td>0.734621</td>\n",
       "      <td>0.006953</td>\n",
       "      <td>0.013352</td>\n",
       "      <td>0.042142</td>\n",
       "      <td>0.202933</td>\n",
       "    </tr>\n",
       "    <tr>\n",
       "      <th>11451</th>\n",
       "      <td>11452</td>\n",
       "      <td>0.702748</td>\n",
       "      <td>0.001488</td>\n",
       "      <td>0.003443</td>\n",
       "      <td>0.016044</td>\n",
       "      <td>0.276277</td>\n",
       "    </tr>\n",
       "    <tr>\n",
       "      <th>11452</th>\n",
       "      <td>11453</td>\n",
       "      <td>0.005769</td>\n",
       "      <td>0.014837</td>\n",
       "      <td>0.007718</td>\n",
       "      <td>0.003726</td>\n",
       "      <td>0.967949</td>\n",
       "    </tr>\n",
       "    <tr>\n",
       "      <th>11453</th>\n",
       "      <td>11454</td>\n",
       "      <td>0.040203</td>\n",
       "      <td>0.027496</td>\n",
       "      <td>0.063698</td>\n",
       "      <td>0.048853</td>\n",
       "      <td>0.819750</td>\n",
       "    </tr>\n",
       "    <tr>\n",
       "      <th>11454</th>\n",
       "      <td>11455</td>\n",
       "      <td>0.554276</td>\n",
       "      <td>0.006876</td>\n",
       "      <td>0.145647</td>\n",
       "      <td>0.082421</td>\n",
       "      <td>0.210780</td>\n",
       "    </tr>\n",
       "    <tr>\n",
       "      <th>11455</th>\n",
       "      <td>11456</td>\n",
       "      <td>0.043122</td>\n",
       "      <td>0.015113</td>\n",
       "      <td>0.489568</td>\n",
       "      <td>0.100181</td>\n",
       "      <td>0.352015</td>\n",
       "    </tr>\n",
       "  </tbody>\n",
       "</table>\n",
       "<p>11456 rows × 6 columns</p>\n",
       "</div>"
      ],
      "text/plain": [
       "          ID  Adoption      Died  Euthanasia  Return_to_owner  Transfer\n",
       "0          1  0.036540  0.009990    0.132398         0.044997  0.776075\n",
       "1          2  0.580759  0.006121    0.090742         0.058012  0.264366\n",
       "2          3  0.753340  0.003238    0.008420         0.109325  0.125678\n",
       "3          4  0.163197  0.032682    0.162161         0.099635  0.542326\n",
       "4          5  0.709774  0.006771    0.063068         0.053185  0.167201\n",
       "5          6  0.199058  0.016648    0.106113         0.122849  0.555333\n",
       "6          7  0.133719  0.024426    0.564459         0.048800  0.228596\n",
       "7          8  0.903803  0.006504    0.012787         0.014435  0.062471\n",
       "8          9  0.858423  0.004780    0.013394         0.034738  0.088665\n",
       "9         10  0.741714  0.003932    0.020817         0.035692  0.197846\n",
       "10        11  0.896051  0.002930    0.007756         0.029065  0.064197\n",
       "11        12  0.016938  0.010527    0.209441         0.048667  0.714427\n",
       "12        13  0.670164  0.003334    0.012676         0.019481  0.294344\n",
       "13        14  0.602118  0.009283    0.098990         0.106081  0.183528\n",
       "14        15  0.802928  0.006064    0.018738         0.062618  0.109652\n",
       "15        16  0.829225  0.005739    0.011008         0.025977  0.128051\n",
       "16        17  0.582588  0.008830    0.084673         0.114807  0.209103\n",
       "17        18  0.630563  0.009931    0.085523         0.096055  0.177929\n",
       "18        19  0.567692  0.003352    0.011983         0.184139  0.232834\n",
       "19        20  0.171397  0.012198    0.103703         0.397848  0.314854\n",
       "20        21  0.748602  0.001268    0.006873         0.215672  0.027583\n",
       "21        22  0.004307  0.008403    0.008499         0.004506  0.974286\n",
       "22        23  0.494168  0.007789    0.041185         0.070761  0.386097\n",
       "23        24  0.007115  0.008494    0.007631         0.004192  0.972568\n",
       "24        25  0.537865  0.010559    0.062439         0.054595  0.334543\n",
       "25        26  0.408940  0.001946    0.014262         0.078965  0.495887\n",
       "26        27  0.929565  0.001689    0.005143         0.005768  0.057834\n",
       "27        28  0.108661  0.129858    0.287880         0.027286  0.446315\n",
       "28        29  0.637120  0.003875    0.059932         0.085140  0.213934\n",
       "29        30  0.687876  0.003396    0.055727         0.091059  0.161942\n",
       "...      ...       ...       ...         ...              ...       ...\n",
       "11426  11427  0.313314  0.011323    0.129963         0.081908  0.463493\n",
       "11427  11428  0.080916  0.025502    0.081589         0.033421  0.778573\n",
       "11428  11429  0.338145  0.012502    0.136687         0.109348  0.403319\n",
       "11429  11430  0.794542  0.005883    0.044248         0.049161  0.106166\n",
       "11430  11431  0.811800  0.001612    0.002388         0.008053  0.176148\n",
       "11431  11432  0.035625  0.034067    0.236963         0.076589  0.616756\n",
       "11432  11433  0.553759  0.010503    0.116671         0.074286  0.244781\n",
       "11433  11434  0.599260  0.009518    0.016968         0.053020  0.321234\n",
       "11434  11435  0.459615  0.027512    0.167868         0.073341  0.271665\n",
       "11435  11436  0.032171  0.028907    0.029222         0.021063  0.888637\n",
       "11436  11437  0.878415  0.000911    0.003619         0.074123  0.042932\n",
       "11437  11438  0.034194  0.025539    0.117307         0.061467  0.761494\n",
       "11438  11439  0.859873  0.008232    0.028606         0.021641  0.081648\n",
       "11439  11440  0.504575  0.006477    0.057531         0.067893  0.363524\n",
       "11440  11441  0.018721  0.018697    0.021038         0.016081  0.925463\n",
       "11441  11442  0.553489  0.009431    0.082554         0.102125  0.252401\n",
       "11442  11443  0.442905  0.006541    0.087122         0.094780  0.368653\n",
       "11443  11444  0.583185  0.005516    0.019361         0.016868  0.375069\n",
       "11444  11445  0.117789  0.010563    0.091878         0.358399  0.421371\n",
       "11445  11446  0.003826  0.007006    0.009171         0.003298  0.976699\n",
       "11446  11447  0.980903  0.000480    0.001116         0.010891  0.006610\n",
       "11447  11448  0.621676  0.005620    0.036358         0.046811  0.289534\n",
       "11448  11449  0.948628  0.000941    0.004147         0.013837  0.032447\n",
       "11449  11450  0.607360  0.003260    0.014119         0.019343  0.355917\n",
       "11450  11451  0.734621  0.006953    0.013352         0.042142  0.202933\n",
       "11451  11452  0.702748  0.001488    0.003443         0.016044  0.276277\n",
       "11452  11453  0.005769  0.014837    0.007718         0.003726  0.967949\n",
       "11453  11454  0.040203  0.027496    0.063698         0.048853  0.819750\n",
       "11454  11455  0.554276  0.006876    0.145647         0.082421  0.210780\n",
       "11455  11456  0.043122  0.015113    0.489568         0.100181  0.352015\n",
       "\n",
       "[11456 rows x 6 columns]"
      ]
     },
     "execution_count": 108,
     "metadata": {},
     "output_type": "execute_result"
    }
   ],
   "source": [
    "X_kaggle_test = prepared_fitted_testdf.values\n",
    "print prepared_fitted_testdf.head()\n",
    "print prepared_fitted_df.head()\n",
    "preds = GB.predict(X_kaggle_test[:,final_support])\n",
    "probs = GB.predict_proba(X_kaggle_test[:,final_support])\n",
    "print GB.classes_\n",
    "print labelMapper.features[0][1].inverse_transform(GB.classes_)\n",
    "results = np.concatenate((testdf[[\"ID\"]].values, probs), axis=1)\n",
    "resultsdf = pd.DataFrame(results, columns=[\"ID\",\"Adoption\",\"Died\",\"Euthanasia\",\"Return_to_owner\",\"Transfer\"])\n",
    "resultsdf[\"ID\"] = resultsdf[\"ID\"].astype(int)\n",
    "resultsdf.to_csv(\"results3csv\", index=False)\n",
    "resultsdf"
   ]
  },
  {
   "cell_type": "code",
   "execution_count": null,
   "metadata": {
    "collapsed": true
   },
   "outputs": [],
   "source": []
  }
 ],
 "metadata": {
  "kernelspec": {
   "display_name": "Python 2",
   "language": "python",
   "name": "python2"
  },
  "language_info": {
   "codemirror_mode": {
    "name": "ipython",
    "version": 2
   },
   "file_extension": ".py",
   "mimetype": "text/x-python",
   "name": "python",
   "nbconvert_exporter": "python",
   "pygments_lexer": "ipython2",
   "version": "2.7.14"
  }
 },
 "nbformat": 4,
 "nbformat_minor": 2
}
